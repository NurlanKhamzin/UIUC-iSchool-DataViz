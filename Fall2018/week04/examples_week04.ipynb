{
 "cells": [
  {
   "cell_type": "markdown",
   "metadata": {},
   "source": [
    "# Week 4: Building Classes\n",
    "\n",
    "This week we are going to continue to add to our palette of operations by using classes.  This is going to be both an introduction to a set of operations (which we will later use as provided in pandas) as well as a discussion of how to write classes, and the advantages of doing so.\n",
    "\n",
    "**Note:** In this notebook, I will be duplicating cells numerous times and expanding them.  In particular, I will do this for the `Dataset` class.  You won't need to do this in your work, and you can just update the definition cell as need be.  (Although, any instances of that class will need to be re-created.)"
   ]
  },
  {
   "cell_type": "markdown",
   "metadata": {},
   "source": [
    "First, let's take a brief moment to talk about how white-space delimits flow control in Python.  Compare these two operations:"
   ]
  },
  {
   "cell_type": "code",
   "execution_count": 1,
   "metadata": {
    "collapsed": false,
    "deletable": true,
    "editable": true
   },
   "outputs": [
    {
     "name": "stdout",
     "output_type": "stream",
     "text": [
      "0\n",
      "2\n",
      "4\n",
      "6\n",
      "8\n",
      "10\n",
      "12\n",
      "14\n",
      "16\n",
      "18\n"
     ]
    }
   ],
   "source": [
    "for i in range(10):\n",
    "    b = i * 2\n",
    "    print(b)"
   ]
  },
  {
   "cell_type": "markdown",
   "metadata": {},
   "source": [
    "with:"
   ]
  },
  {
   "cell_type": "code",
   "execution_count": 2,
   "metadata": {
    "collapsed": false,
    "deletable": true,
    "editable": true
   },
   "outputs": [
    {
     "name": "stdout",
     "output_type": "stream",
     "text": [
      "18\n"
     ]
    }
   ],
   "source": [
    "for i in range(10):\n",
    "    b = i * 2\n",
    "print(b)"
   ]
  },
  {
   "cell_type": "markdown",
   "metadata": {},
   "source": [
    "As you can see, for the first one (as is visually clear) the print call is inside the loop; the latter, it is outside the loop.  This is identified by the difference in indentation of the two statements."
   ]
  },
  {
   "cell_type": "markdown",
   "metadata": {},
   "source": [
    "## Classes\n",
    "\n",
    "We're going to start out by creating classes.  Classes are essentially \"patterns\" of objects, wherein objects are instantiated from them, and then can deviate.  Here is a simple, trivial example, where we define a `Dataset` object that does ... nothing.  The `pass` statement here is just to satisfy Python's rules for how empty classes are defined.\n",
    "\n",
    "You can define `attributes` on a class, which are values or variables, and `methods`, which are functions."
   ]
  },
  {
   "cell_type": "code",
   "execution_count": 3,
   "metadata": {
    "collapsed": true,
    "deletable": true,
    "editable": true
   },
   "outputs": [],
   "source": [
    "class Dataset:\n",
    "    pass"
   ]
  },
  {
   "cell_type": "markdown",
   "metadata": {},
   "source": [
    "We can now call the class like a function, and it becomes an object:"
   ]
  },
  {
   "cell_type": "code",
   "execution_count": 4,
   "metadata": {
    "collapsed": false,
    "deletable": true,
    "editable": true
   },
   "outputs": [
    {
     "data": {
      "text/plain": [
       "<__main__.Dataset at 0x7f8d404712b0>"
      ]
     },
     "execution_count": 4,
     "metadata": {},
     "output_type": "execute_result"
    }
   ],
   "source": [
    "d = Dataset()\n",
    "d"
   ]
  },
  {
   "cell_type": "markdown",
   "metadata": {},
   "source": [
    "We can do this again:"
   ]
  },
  {
   "cell_type": "code",
   "execution_count": 5,
   "metadata": {
    "collapsed": true,
    "deletable": true,
    "editable": true
   },
   "outputs": [],
   "source": [
    "f = Dataset()"
   ]
  },
  {
   "cell_type": "code",
   "execution_count": 6,
   "metadata": {
    "collapsed": false,
    "deletable": true,
    "editable": true
   },
   "outputs": [
    {
     "data": {
      "text/plain": [
       "False"
      ]
     },
     "execution_count": 6,
     "metadata": {},
     "output_type": "execute_result"
    }
   ],
   "source": [
    "d is f"
   ]
  },
  {
   "cell_type": "markdown",
   "metadata": {},
   "source": [
    "So we've checked; we now have two different objects.  But if we then try setting a new variable to `d`, we can see that we are *referencing*, not *copying*, the original object."
   ]
  },
  {
   "cell_type": "code",
   "execution_count": 7,
   "metadata": {
    "collapsed": true,
    "deletable": true,
    "editable": true
   },
   "outputs": [],
   "source": [
    "g = d"
   ]
  },
  {
   "cell_type": "code",
   "execution_count": 8,
   "metadata": {
    "collapsed": false,
    "deletable": true,
    "editable": true
   },
   "outputs": [
    {
     "data": {
      "text/plain": [
       "True"
      ]
     },
     "execution_count": 8,
     "metadata": {},
     "output_type": "execute_result"
    }
   ],
   "source": [
    "g is d"
   ]
  },
  {
   "cell_type": "markdown",
   "metadata": {},
   "source": [
    "Let's get ourselves set up.  We'll set up matplotlib, import our libraries, and get to work creating our `Dataset` object."
   ]
  },
  {
   "cell_type": "code",
   "execution_count": 9,
   "metadata": {
    "collapsed": true,
    "deletable": true,
    "editable": true
   },
   "outputs": [],
   "source": [
    "%matplotlib inline"
   ]
  },
  {
   "cell_type": "code",
   "execution_count": 10,
   "metadata": {
    "collapsed": true,
    "deletable": true,
    "editable": true
   },
   "outputs": [],
   "source": [
    "import numpy as np\n",
    "import csv\n",
    "import matplotlib.pyplot as plt"
   ]
  },
  {
   "cell_type": "markdown",
   "metadata": {},
   "source": [
    "We'll make our initial pass at the class do a tiny bit more.  We will now define a \"special\" method, `__init__`, which is called whenever the class is created.  One gotcha here is that implicitly, the `self` argument refers to the instance of the class, and does not need to be supplied.  So we will accept a `data` argument in the class, and set `self.data` equal to it.  (Note that this does not make a copy of data -- so any in-place changes will be reflected!)"
   ]
  },
  {
   "cell_type": "code",
   "execution_count": 11,
   "metadata": {
    "collapsed": true,
    "deletable": true,
    "editable": true
   },
   "outputs": [],
   "source": [
    "class Dataset:\n",
    "    def __init__(self, data):\n",
    "        self.data = data"
   ]
  },
  {
   "cell_type": "markdown",
   "metadata": {},
   "source": [
    "Even though we're going to use `data` as a dictionary like we get from our favorite data file, it does not need to be.  In fact, it can be anything, including a number:"
   ]
  },
  {
   "cell_type": "code",
   "execution_count": 12,
   "metadata": {
    "collapsed": true,
    "deletable": true,
    "editable": true
   },
   "outputs": [],
   "source": [
    "d = Dataset( 1.095 )"
   ]
  },
  {
   "cell_type": "code",
   "execution_count": 13,
   "metadata": {
    "collapsed": false,
    "deletable": true,
    "editable": true
   },
   "outputs": [
    {
     "data": {
      "text/plain": [
       "1.095"
      ]
     },
     "execution_count": 13,
     "metadata": {},
     "output_type": "execute_result"
    }
   ],
   "source": [
    "d.data"
   ]
  },
  {
   "cell_type": "markdown",
   "metadata": {},
   "source": [
    "We'll talk about typing and ensuring correct types at a later time.  For now, let's supply an empty dictionary to the `Dataset` object, and check that it's accessible."
   ]
  },
  {
   "cell_type": "code",
   "execution_count": 14,
   "metadata": {
    "collapsed": true,
    "deletable": true,
    "editable": true
   },
   "outputs": [],
   "source": [
    "d = Dataset( {} )"
   ]
  },
  {
   "cell_type": "code",
   "execution_count": 15,
   "metadata": {
    "collapsed": false,
    "deletable": true,
    "editable": true
   },
   "outputs": [
    {
     "data": {
      "text/plain": [
       "{}"
      ]
     },
     "execution_count": 15,
     "metadata": {},
     "output_type": "execute_result"
    }
   ],
   "source": [
    "d.data"
   ]
  },
  {
   "cell_type": "markdown",
   "metadata": {},
   "source": [
    "Great.  We'll read in our data, exactly as we have done in previous weeks."
   ]
  },
  {
   "cell_type": "code",
   "execution_count": 16,
   "metadata": {
    "collapsed": true,
    "deletable": true,
    "editable": true
   },
   "outputs": [],
   "source": [
    "with open(\"data-readonly/Building_Inventory.csv\", \"r\") as f:\n",
    "    reader = csv.reader(f)\n",
    "    header = next(reader)\n",
    "    data = {}\n",
    "    for column in header:\n",
    "        data[column] = []\n",
    "    for row in reader:\n",
    "        for column, value in zip(header, row):\n",
    "            data[column].append(value)"
   ]
  },
  {
   "cell_type": "markdown",
   "metadata": {},
   "source": [
    "Now, pass that in!"
   ]
  },
  {
   "cell_type": "code",
   "execution_count": 17,
   "metadata": {
    "collapsed": true,
    "deletable": true,
    "editable": true
   },
   "outputs": [],
   "source": [
    "d = Dataset(data)"
   ]
  },
  {
   "cell_type": "markdown",
   "metadata": {},
   "source": [
    "One thing that we have done in the past has been to convert the data types after reading them in.  We will add another \"method\" function called `convert` that we'll have do an in-place conversion of a given column."
   ]
  },
  {
   "cell_type": "code",
   "execution_count": 18,
   "metadata": {
    "collapsed": false,
    "deletable": true,
    "editable": true
   },
   "outputs": [],
   "source": [
    "class Dataset:\n",
    "    def __init__(self, data):\n",
    "        self.data = data\n",
    "        \n",
    "    def convert(self, column, dtype):\n",
    "        self.data[column] = np.array(self.data[column], dtype=dtype)\n",
    "        \n",
    "d = Dataset(data)"
   ]
  },
  {
   "cell_type": "markdown",
   "metadata": {},
   "source": [
    "We can use the value types we have used before, and call `convert` with them."
   ]
  },
  {
   "cell_type": "code",
   "execution_count": 19,
   "metadata": {
    "collapsed": false,
    "deletable": true,
    "editable": true
   },
   "outputs": [
    {
     "name": "stdout",
     "output_type": "stream",
     "text": [
      "Before: <class 'list'>\n",
      "After: <class 'numpy.ndarray'>\n"
     ]
    }
   ],
   "source": [
    "value_types = {'Zip code': 'int',\n",
    "               'Congress Dist': 'int',\n",
    "               'Senate Dist': 'int',\n",
    "               'Year Acquired': 'int',\n",
    "               'Year Constructed': 'int',\n",
    "               'Square Footage': 'float',\n",
    "               'Total Floors': 'int',\n",
    "               'Floors Above Grade': 'int',\n",
    "               'Floors Below Grade': 'int'}\n",
    "\n",
    "print(\"Before: {}\".format(type(d.data[\"Total Floors\"])))\n",
    "\n",
    "for key in d.data.keys():\n",
    "    d.convert(key, value_types.get(key, \"str\"))\n",
    "\n",
    "print(\"After: {}\".format(type(d.data[\"Total Floors\"])))"
   ]
  },
  {
   "cell_type": "markdown",
   "metadata": {},
   "source": [
    "It's becoming obvious that we need a convenient way to see all the columns we have, so let's add a `.columns()` method."
   ]
  },
  {
   "cell_type": "code",
   "execution_count": 20,
   "metadata": {
    "collapsed": false,
    "deletable": true,
    "editable": true
   },
   "outputs": [],
   "source": [
    "class Dataset:\n",
    "    def __init__(self, data):\n",
    "        self.data = data\n",
    "        \n",
    "    def convert(self, column, dtype):\n",
    "        self.data[column] = np.array(self.data[column], dtype=dtype)\n",
    "        \n",
    "    def columns(self):\n",
    "        return self.data.keys()\n",
    "        \n",
    "d = Dataset(data)\n",
    "\n",
    "value_types = {'Zip code': 'int',\n",
    "               'Congress Dist': 'int',\n",
    "               'Senate Dist': 'int',\n",
    "               'Year Acquired': 'int',\n",
    "               'Year Constructed': 'int',\n",
    "               'Square Footage': 'float',\n",
    "               'Total Floors': 'int',\n",
    "               'Floors Above Grade': 'int',\n",
    "               'Floors Below Grade': 'int'}\n",
    "\n",
    "for key in d.columns():\n",
    "    d.convert(key, value_types.get(key, \"str\"))"
   ]
  },
  {
   "cell_type": "code",
   "execution_count": 21,
   "metadata": {
    "collapsed": false,
    "deletable": true,
    "editable": true
   },
   "outputs": [
    {
     "data": {
      "text/plain": [
       "dict_keys(['Usage Description 3', 'Senate Dist', 'Rep Full Name', 'Usage Description 2', 'Year Acquired', 'Address', 'Congressional Full Name', 'Agency Name', 'Bldg Status', 'Rep Dist', 'County', 'Square Footage', 'City', 'Floors Below Grade', 'Location Name', 'Congress Dist', 'Total Floors', 'Floors Above Grade', 'Senator Full Name', 'Year Constructed', 'Zip code', 'Usage Description'])"
      ]
     },
     "execution_count": 21,
     "metadata": {},
     "output_type": "execute_result"
    }
   ],
   "source": [
    "d.columns()"
   ]
  },
  {
   "cell_type": "markdown",
   "metadata": {},
   "source": [
    "We will now start adding functions we're familiar with, starting with the `filter_eq` function from last week.\n",
    "\n",
    "**Note:** Here, we are returning *new* `Dataset` instances, with copies of the arrays.  This is fine for the size of data (and expected number of filtering operations) we have in this example.  For much larger examples, it will not be, and we will address that in future classes."
   ]
  },
  {
   "cell_type": "code",
   "execution_count": 22,
   "metadata": {
    "collapsed": false,
    "deletable": true,
    "editable": true
   },
   "outputs": [],
   "source": [
    "class Dataset:\n",
    "    def __init__(self, data):\n",
    "        self.data = data\n",
    "        \n",
    "    def convert(self, column, dtype):\n",
    "        self.data[column] = np.array(self.data[column], dtype=dtype)\n",
    "        \n",
    "    def columns(self):\n",
    "        return self.data.keys()\n",
    "    \n",
    "    def filter_eq(self, column, value):\n",
    "        good = (self.data[column] == value)\n",
    "        new_data = {}\n",
    "        for column in self.data:\n",
    "            new_data[column] = self.data[column][good]\n",
    "        return Dataset(new_data)\n",
    "        \n",
    "d = Dataset(data)\n",
    "\n",
    "value_types = {'Zip code': 'int',\n",
    "               'Congress Dist': 'int',\n",
    "               'Senate Dist': 'int',\n",
    "               'Year Acquired': 'int',\n",
    "               'Year Constructed': 'int',\n",
    "               'Square Footage': 'float',\n",
    "               'Total Floors': 'int',\n",
    "               'Floors Above Grade': 'int',\n",
    "               'Floors Below Grade': 'int'}\n",
    "\n",
    "for key in d.columns():\n",
    "    d.convert(key, value_types.get(key, \"str\"))\n",
    "\n",
    "d2 = d.filter_eq(\"Agency Name\", \"Department of Natural Resources\")"
   ]
  },
  {
   "cell_type": "code",
   "execution_count": 23,
   "metadata": {
    "collapsed": false,
    "deletable": true,
    "editable": true
   },
   "outputs": [
    {
     "data": {
      "text/plain": [
       "array([47, 47, 47, ..., 48, 59, 46])"
      ]
     },
     "execution_count": 23,
     "metadata": {},
     "output_type": "execute_result"
    }
   ],
   "source": [
    "d2.data[\"Senate Dist\"]"
   ]
  },
  {
   "cell_type": "markdown",
   "metadata": {},
   "source": [
    "Seems like we need an easy way to figure out how many items there are in the dataset.  We'll use a `size` method."
   ]
  },
  {
   "cell_type": "code",
   "execution_count": 24,
   "metadata": {
    "collapsed": false,
    "deletable": true,
    "editable": true
   },
   "outputs": [
    {
     "name": "stdout",
     "output_type": "stream",
     "text": [
      "Pre-filter: 8849\n",
      "Post-filter: 3248\n"
     ]
    }
   ],
   "source": [
    "class Dataset:\n",
    "    def __init__(self, data):\n",
    "        self.data = data\n",
    "        \n",
    "    def convert(self, column, dtype):\n",
    "        self.data[column] = np.array(self.data[column], dtype=dtype)\n",
    "        \n",
    "    def columns(self):\n",
    "        return self.data.keys()\n",
    "    \n",
    "    def filter_eq(self, column, value):\n",
    "        good = (self.data[column] == value)\n",
    "        new_data = {}\n",
    "        for column in self.data:\n",
    "            new_data[column] = self.data[column][good]\n",
    "        return Dataset(new_data)\n",
    "    \n",
    "    def size(self):\n",
    "        for key in self.data:\n",
    "            return self.data[key].size\n",
    "        \n",
    "d = Dataset(data)\n",
    "\n",
    "value_types = {'Zip code': 'int',\n",
    "               'Congress Dist': 'int',\n",
    "               'Senate Dist': 'int',\n",
    "               'Year Acquired': 'int',\n",
    "               'Year Constructed': 'int',\n",
    "               'Square Footage': 'float',\n",
    "               'Total Floors': 'int',\n",
    "               'Floors Above Grade': 'int',\n",
    "               'Floors Below Grade': 'int'}\n",
    "\n",
    "for key in d.columns():\n",
    "    d.convert(key, value_types.get(key, \"str\"))\n",
    "print(\"Pre-filter: {}\".format(d.size()))\n",
    "d2 = d.filter_eq(\"Agency Name\", \"Department of Natural Resources\")\n",
    "print(\"Post-filter: {}\".format(d2.size()))"
   ]
  },
  {
   "cell_type": "markdown",
   "metadata": {},
   "source": [
    "We'll add on the other methods we developed last week: less than, greater than, not equal, and stats.\n",
    "\n",
    "Our stats method will operate on all of our columns simultaneously, however.  Additionally, we have to add on a quick check to make sure that we *can* perform mathematical operations on the columns."
   ]
  },
  {
   "cell_type": "code",
   "execution_count": 25,
   "metadata": {
    "collapsed": false,
    "deletable": true,
    "editable": true
   },
   "outputs": [
    {
     "name": "stdout",
     "output_type": "stream",
     "text": [
      "Pre-filter: 8849\n",
      "Post-filter: 3248\n"
     ]
    }
   ],
   "source": [
    "class Dataset:\n",
    "    def __init__(self, data):\n",
    "        self.data = data\n",
    "        \n",
    "    def convert(self, column, dtype):\n",
    "        self.data[column] = np.array(self.data[column], dtype=dtype)\n",
    "        \n",
    "    def columns(self):\n",
    "        return self.data.keys()\n",
    "    \n",
    "    def filter_eq(self, column, value):\n",
    "        good = (self.data[column] == value)\n",
    "        new_data = {}\n",
    "        for column in self.data:\n",
    "            new_data[column] = self.data[column][good]\n",
    "        return Dataset(new_data)\n",
    "    \n",
    "    def filter_lt(self, column, value):\n",
    "        good = (self.data[column] < value)\n",
    "        new_data = {}\n",
    "        for column in self.data:\n",
    "            new_data[column] = self.data[column][good]\n",
    "        return Dataset(new_data)\n",
    "    \n",
    "    def filter_gt(self, column, value):\n",
    "        good = (self.data[column] > value)\n",
    "        new_data = {}\n",
    "        for column in self.data:\n",
    "            new_data[column] = self.data[column][good]\n",
    "        return Dataset(new_data)\n",
    "    \n",
    "    def filter_ne(self, column, value):\n",
    "        good = (self.data[column] != value)\n",
    "        new_data = {}\n",
    "        for column in self.data:\n",
    "            new_data[column] = self.data[column][good]\n",
    "        return Dataset(new_data)\n",
    "    \n",
    "    def size(self):\n",
    "        for key in self.data:\n",
    "            return self.data[key].size\n",
    "    \n",
    "    def stats(self):\n",
    "        statistics = {}\n",
    "        for key in self.data:\n",
    "            if self.data[key].dtype not in (\"float\", \"int\"):\n",
    "                continue\n",
    "            values = self.data[key]\n",
    "            statistics[key] = (values.min(), values.max(), values.std(), values.mean())\n",
    "        return statistics\n",
    "    \n",
    "d = Dataset(data)\n",
    "\n",
    "value_types = {'Zip code': 'int',\n",
    "               'Congress Dist': 'int',\n",
    "               'Senate Dist': 'int',\n",
    "               'Year Acquired': 'int',\n",
    "               'Year Constructed': 'int',\n",
    "               'Square Footage': 'float',\n",
    "               'Total Floors': 'int',\n",
    "               'Floors Above Grade': 'int',\n",
    "               'Floors Below Grade': 'int'}\n",
    "\n",
    "for key in d.columns():\n",
    "    d.convert(key, value_types.get(key, \"str\"))\n",
    "print(\"Pre-filter: {}\".format(d.size()))\n",
    "d2 = d.filter_eq(\"Agency Name\", \"Department of Natural Resources\")\n",
    "print(\"Post-filter: {}\".format(d2.size()))"
   ]
  },
  {
   "cell_type": "markdown",
   "metadata": {},
   "source": [
    "## Formatting Strings\n",
    "\n",
    "Formatting strings helps to ensure uniform output, particularly when examining multiple different datasets and their numeric values.  We will use the `.format` operation; for more information, see the [Python documentation](https://docs.python.org/3/library/string.html#formatstrings).\n",
    "\n",
    "We'll start out with simple floating point representations, with the `f`, `e` and default examples."
   ]
  },
  {
   "cell_type": "code",
   "execution_count": 26,
   "metadata": {
    "collapsed": false,
    "deletable": true,
    "editable": true
   },
   "outputs": [
    {
     "name": "stdout",
     "output_type": "stream",
     "text": [
      "-0.950714287492 or -0.951 or -9.50714e-01 or -0.95071\n"
     ]
    }
   ],
   "source": [
    "val = -0.950714287492\n",
    "print(\"{0} or {0:+.3f} or {0:0.5e} or {0:7.5f}\".format(val))"
   ]
  },
  {
   "cell_type": "markdown",
   "metadata": {},
   "source": [
    "Something that will come in particularly handy for us is string-padding.  We can pad out a string to a given length, for instance 20."
   ]
  },
  {
   "cell_type": "code",
   "execution_count": 27,
   "metadata": {
    "collapsed": false,
    "deletable": true,
    "editable": true
   },
   "outputs": [
    {
     "name": "stdout",
     "output_type": "stream",
     "text": [
      "hi                   -> 1\n"
     ]
    }
   ],
   "source": [
    "print(\"{0:20s} -> 1\".format(\"hi\"))"
   ]
  },
  {
   "cell_type": "markdown",
   "metadata": {},
   "source": [
    "Now, let's compare the stats for our two different datasets -- filtered and unfiltered."
   ]
  },
  {
   "cell_type": "code",
   "execution_count": 28,
   "metadata": {
    "collapsed": false,
    "deletable": true,
    "editable": true
   },
   "outputs": [
    {
     "name": "stdout",
     "output_type": "stream",
     "text": [
      "Column 'Senate Dist              '\n",
      "    0 vs 6\n",
      "    60 vs 60\n",
      "    11.828633795912243 vs 9.126223508578196\n",
      "    46.36874223076054 vs 48.10036945812808\n",
      "Column 'Year Acquired            '\n",
      "    0 vs 0\n",
      "    2016 vs 2015\n",
      "    320.1951802951111 vs 405.14285352287663\n",
      "    1919.0273477229066 vs 1891.7413793103449\n",
      "Column 'Square Footage           '\n",
      "    0.0 vs 0.0\n",
      "    1200000.0 vs 183175.0\n",
      "    38195.906418657236 vs 5467.006308903433\n",
      "    11497.949937846084 vs 1272.1345443349753\n",
      "Column 'Floors Below Grade       '\n",
      "    0 vs 0\n",
      "    4 vs 1\n",
      "    0.3940977107879141 vs 0.21641263681269748\n",
      "    0.16318228048367048 vs 0.04926108374384237\n",
      "Column 'Congress Dist            '\n",
      "    0 vs 0\n",
      "    18 vs 18\n",
      "    4.141781466447568 vs 3.1053213758379408\n",
      "    13.332127924059217 vs 14.387007389162562\n",
      "Column 'Total Floors             '\n",
      "    0 vs 0\n",
      "    31 vs 7\n",
      "    1.5418272357631746 vs 0.5712692170735618\n",
      "    1.6418804384676235 vs 1.1499384236453203\n",
      "Column 'Floors Above Grade       '\n",
      "    0 vs 0\n",
      "    30 vs 6\n",
      "    1.2861155426316557 vs 0.39829383571374816\n",
      "    1.4585828907221154 vs 1.0972906403940887\n",
      "Column 'Year Constructed         '\n",
      "    0 vs 0\n",
      "    2017 vs 2016\n",
      "    336.43416029812164 vs 448.10887281720636\n",
      "    1911.4525935133913 vs 1869.280172413793\n",
      "Column 'Zip code                 '\n",
      "    1235 vs 1235\n",
      "    68297 vs 68297\n",
      "    1096.040039528023 vs 1346.8355268792554\n",
      "    61819.58831506385 vs 61867.06650246305\n"
     ]
    }
   ],
   "source": [
    "stats1 = d.stats()\n",
    "stats2 = d2.stats()\n",
    "for column in d.columns():\n",
    "    if column not in stats1: continue\n",
    "    print(\"Column '{0:25s}'\".format(column))\n",
    "    for s1, s2 in zip(stats1[column], stats2[column]):\n",
    "        print(\"    {0} vs {1}\".format(s1, s2))"
   ]
  },
  {
   "cell_type": "markdown",
   "metadata": {},
   "source": [
    "Hmm, we can do this a bit nicer; let's make our floating point values all the same size, and label them."
   ]
  },
  {
   "cell_type": "code",
   "execution_count": 29,
   "metadata": {
    "collapsed": false,
    "deletable": true,
    "editable": true
   },
   "outputs": [
    {
     "name": "stdout",
     "output_type": "stream",
     "text": [
      "Column 'Senate Dist              '\n",
      "    min:                0.000 vs                0.000\n",
      "    max:               60.000 vs               60.000\n",
      "    std:               11.829 vs               11.829\n",
      "    avg:               46.369 vs               46.369\n",
      "Column 'Year Acquired            '\n",
      "    min:                0.000 vs                0.000\n",
      "    max:             2016.000 vs             2016.000\n",
      "    std:              320.195 vs              320.195\n",
      "    avg:             1919.027 vs             1919.027\n",
      "Column 'Square Footage           '\n",
      "    min:                0.000 vs                0.000\n",
      "    max:          1200000.000 vs          1200000.000\n",
      "    std:            38195.906 vs            38195.906\n",
      "    avg:            11497.950 vs            11497.950\n",
      "Column 'Floors Below Grade       '\n",
      "    min:                0.000 vs                0.000\n",
      "    max:                4.000 vs                4.000\n",
      "    std:                0.394 vs                0.394\n",
      "    avg:                0.163 vs                0.163\n",
      "Column 'Congress Dist            '\n",
      "    min:                0.000 vs                0.000\n",
      "    max:               18.000 vs               18.000\n",
      "    std:                4.142 vs                4.142\n",
      "    avg:               13.332 vs               13.332\n",
      "Column 'Total Floors             '\n",
      "    min:                0.000 vs                0.000\n",
      "    max:               31.000 vs               31.000\n",
      "    std:                1.542 vs                1.542\n",
      "    avg:                1.642 vs                1.642\n",
      "Column 'Floors Above Grade       '\n",
      "    min:                0.000 vs                0.000\n",
      "    max:               30.000 vs               30.000\n",
      "    std:                1.286 vs                1.286\n",
      "    avg:                1.459 vs                1.459\n",
      "Column 'Year Constructed         '\n",
      "    min:                0.000 vs                0.000\n",
      "    max:             2017.000 vs             2017.000\n",
      "    std:              336.434 vs              336.434\n",
      "    avg:             1911.453 vs             1911.453\n",
      "Column 'Zip code                 '\n",
      "    min:             1235.000 vs             1235.000\n",
      "    max:            68297.000 vs            68297.000\n",
      "    std:             1096.040 vs             1096.040\n",
      "    avg:            61819.588 vs            61819.588\n"
     ]
    }
   ],
   "source": [
    "stats1 = d.stats()\n",
    "stats2 = d2.stats()\n",
    "for column in d.columns():\n",
    "    if column not in stats1: continue\n",
    "    print(\"Column '{0:25s}'\".format(column))\n",
    "    mi1, ma1, st1, me1 = stats1[column]\n",
    "    mi2, ma2, st2, me2 = stats2[column]\n",
    "    print(\"    min: {0:20.3f} vs {0:20.3f}\".format(mi1, mi2))\n",
    "    print(\"    max: {0:20.3f} vs {0:20.3f}\".format(ma1, ma2))\n",
    "    print(\"    std: {0:20.3f} vs {0:20.3f}\".format(st1, st2))\n",
    "    print(\"    avg: {0:20.3f} vs {0:20.3f}\".format(me1, me2))"
   ]
  },
  {
   "cell_type": "markdown",
   "metadata": {},
   "source": [
    "We can now absorb the `compare` function back into our class:"
   ]
  },
  {
   "cell_type": "code",
   "execution_count": 30,
   "metadata": {
    "collapsed": false,
    "deletable": true,
    "editable": true
   },
   "outputs": [
    {
     "name": "stdout",
     "output_type": "stream",
     "text": [
      "Pre-filter: 8849\n",
      "Post-filter: 3248\n",
      "Column 'Senate Dist              '\n",
      "    0 vs 6\n",
      "    60 vs 60\n",
      "    11.828633795912243 vs 9.126223508578196\n",
      "    46.36874223076054 vs 48.10036945812808\n",
      "Column 'Year Acquired            '\n",
      "    0 vs 0\n",
      "    2016 vs 2015\n",
      "    320.1951802951111 vs 405.14285352287663\n",
      "    1919.0273477229066 vs 1891.7413793103449\n",
      "Column 'Square Footage           '\n",
      "    0.0 vs 0.0\n",
      "    1200000.0 vs 183175.0\n",
      "    38195.906418657236 vs 5467.006308903433\n",
      "    11497.949937846084 vs 1272.1345443349753\n",
      "Column 'Floors Below Grade       '\n",
      "    0 vs 0\n",
      "    4 vs 1\n",
      "    0.3940977107879141 vs 0.21641263681269748\n",
      "    0.16318228048367048 vs 0.04926108374384237\n",
      "Column 'Congress Dist            '\n",
      "    0 vs 0\n",
      "    18 vs 18\n",
      "    4.141781466447568 vs 3.1053213758379408\n",
      "    13.332127924059217 vs 14.387007389162562\n",
      "Column 'Total Floors             '\n",
      "    0 vs 0\n",
      "    31 vs 7\n",
      "    1.5418272357631746 vs 0.5712692170735618\n",
      "    1.6418804384676235 vs 1.1499384236453203\n",
      "Column 'Floors Above Grade       '\n",
      "    0 vs 0\n",
      "    30 vs 6\n",
      "    1.2861155426316557 vs 0.39829383571374816\n",
      "    1.4585828907221154 vs 1.0972906403940887\n",
      "Column 'Year Constructed         '\n",
      "    0 vs 0\n",
      "    2017 vs 2016\n",
      "    336.43416029812164 vs 448.10887281720636\n",
      "    1911.4525935133913 vs 1869.280172413793\n",
      "Column 'Zip code                 '\n",
      "    1235 vs 1235\n",
      "    68297 vs 68297\n",
      "    1096.040039528023 vs 1346.8355268792554\n",
      "    61819.58831506385 vs 61867.06650246305\n"
     ]
    }
   ],
   "source": [
    "class Dataset:\n",
    "    def __init__(self, data):\n",
    "        self.data = data\n",
    "        \n",
    "    def convert(self, column, dtype):\n",
    "        self.data[column] = np.array(self.data[column], dtype=dtype)\n",
    "        \n",
    "    def columns(self):\n",
    "        return self.data.keys()\n",
    "    \n",
    "    def filter_eq(self, column, value):\n",
    "        good = (self.data[column] == value)\n",
    "        new_data = {}\n",
    "        for column in self.data:\n",
    "            new_data[column] = self.data[column][good]\n",
    "        return Dataset(new_data)\n",
    "    \n",
    "    def filter_lt(self, column, value):\n",
    "        good = (self.data[column] < value)\n",
    "        new_data = {}\n",
    "        for column in self.data:\n",
    "            new_data[column] = self.data[column][good]\n",
    "        return Dataset(new_data)\n",
    "    \n",
    "    def filter_gt(self, column, value):\n",
    "        good = (self.data[column] > value)\n",
    "        new_data = {}\n",
    "        for column in self.data:\n",
    "            new_data[column] = self.data[column][good]\n",
    "        return Dataset(new_data)\n",
    "    \n",
    "    def filter_ne(self, column, value):\n",
    "        good = (self.data[column] != value)\n",
    "        new_data = {}\n",
    "        for column in self.data:\n",
    "            new_data[column] = self.data[column][good]\n",
    "        return Dataset(new_data)\n",
    "    \n",
    "    def size(self):\n",
    "        for key in self.data:\n",
    "            return self.data[key].size\n",
    "    \n",
    "    def stats(self):\n",
    "        statistics = {}\n",
    "        for key in self.data:\n",
    "            if self.data[key].dtype not in (\"float\", \"int\"):\n",
    "                continue\n",
    "            values = self.data[key]\n",
    "            statistics[key] = (values.min(), values.max(), values.std(), values.mean())\n",
    "        return statistics\n",
    "    \n",
    "    def compare(self, other):\n",
    "        stats1 = self.stats()\n",
    "        stats2 = other.stats()\n",
    "        for column in self.columns():\n",
    "            if column not in stats1: continue\n",
    "            print(\"Column '{0:25s}'\".format(column))\n",
    "            for s1, s2 in zip(stats1[column], stats2[column]):\n",
    "                print(\"    {0} vs {1}\".format(s1, s2))\n",
    "    \n",
    "d = Dataset(data)\n",
    "\n",
    "value_types = {'Zip code': 'int',\n",
    "               'Congress Dist': 'int',\n",
    "               'Senate Dist': 'int',\n",
    "               'Year Acquired': 'int',\n",
    "               'Year Constructed': 'int',\n",
    "               'Square Footage': 'float',\n",
    "               'Total Floors': 'int',\n",
    "               'Floors Above Grade': 'int',\n",
    "               'Floors Below Grade': 'int'}\n",
    "\n",
    "for key in d.columns():\n",
    "    d.convert(key, value_types.get(key, \"str\"))\n",
    "print(\"Pre-filter: {}\".format(d.size()))\n",
    "d2 = d.filter_eq(\"Agency Name\", \"Department of Natural Resources\")\n",
    "print(\"Post-filter: {}\".format(d2.size()))\n",
    "d.compare(d2)"
   ]
  },
  {
   "cell_type": "markdown",
   "metadata": {
    "collapsed": true,
    "deletable": true,
    "editable": true
   },
   "source": [
    "## Splitting Datasets\n",
    "\n",
    "We now have a base dataset, which we will want to split out -- this is a common operation, wherein instead of just filtering and \"throwing away\" datasets based on their characteristics, we want to create new ones for each unique value.\n",
    "\n",
    "Last week, we did this with agencies, in an *ad hoc* way.  We will do it again this week, but in a formalized way, by adding a `split` method to our `Dataset` object.  This will iterate over all the unique values in a column and return new `Dataset` objects for each."
   ]
  },
  {
   "cell_type": "code",
   "execution_count": 31,
   "metadata": {
    "collapsed": false,
    "deletable": true,
    "editable": true
   },
   "outputs": [
    {
     "name": "stdout",
     "output_type": "stream",
     "text": [
      "Pre-filter: 8849\n",
      "Post-filter: 3248\n"
     ]
    }
   ],
   "source": [
    "class Dataset:\n",
    "    def __init__(self, data):\n",
    "        self.data = data\n",
    "        \n",
    "    def convert(self, column, dtype):\n",
    "        self.data[column] = np.array(self.data[column], dtype=dtype)\n",
    "        \n",
    "    def columns(self):\n",
    "        return self.data.keys()\n",
    "    \n",
    "    def filter_eq(self, column, value):\n",
    "        good = (self.data[column] == value)\n",
    "        new_data = {}\n",
    "        for column in self.data:\n",
    "            new_data[column] = self.data[column][good]\n",
    "        return Dataset(new_data)\n",
    "    \n",
    "    def filter_lt(self, column, value):\n",
    "        good = (self.data[column] < value)\n",
    "        new_data = {}\n",
    "        for column in self.data:\n",
    "            new_data[column] = self.data[column][good]\n",
    "        return Dataset(new_data)\n",
    "    \n",
    "    def filter_gt(self, column, value):\n",
    "        good = (self.data[column] > value)\n",
    "        new_data = {}\n",
    "        for column in self.data:\n",
    "            new_data[column] = self.data[column][good]\n",
    "        return Dataset(new_data)\n",
    "    \n",
    "    def filter_ne(self, column, value):\n",
    "        good = (self.data[column] != value)\n",
    "        new_data = {}\n",
    "        for column in self.data:\n",
    "            new_data[column] = self.data[column][good]\n",
    "        return Dataset(new_data)\n",
    "    \n",
    "    def size(self):\n",
    "        for key in self.data:\n",
    "            return self.data[key].size\n",
    "    \n",
    "    def stats(self):\n",
    "        statistics = {}\n",
    "        for key in self.data:\n",
    "            if self.data[key].dtype not in (\"float\", \"int\"):\n",
    "                continue\n",
    "            values = self.data[key]\n",
    "            statistics[key] = (values.min(), values.max(), values.std(), values.mean())\n",
    "        return statistics\n",
    "    \n",
    "    def compare(self, other):\n",
    "        stats1 = self.stats()\n",
    "        stats2 = other.stats()\n",
    "        for column in self.columns():\n",
    "            if column not in stats1: continue\n",
    "            print(\"Column '{0:25s}'\".format(column))\n",
    "            for s1, s2 in zip(stats1[column], stats2[column]):\n",
    "                print(\"    {0} vs {1}\".format(s1, s2))\n",
    "                \n",
    "    def split(self, column):\n",
    "        new_datasets = {}\n",
    "        for split_value in np.unique(self.data[column]):\n",
    "            new_datasets[split_value] = self.filter_eq(column, split_value)\n",
    "        return new_datasets\n",
    "    \n",
    "d = Dataset(data)\n",
    "\n",
    "value_types = {'Zip code': 'int',\n",
    "               'Congress Dist': 'int',\n",
    "               'Senate Dist': 'int',\n",
    "               'Year Acquired': 'int',\n",
    "               'Year Constructed': 'int',\n",
    "               'Square Footage': 'float',\n",
    "               'Total Floors': 'int',\n",
    "               'Floors Above Grade': 'int',\n",
    "               'Floors Below Grade': 'int'}\n",
    "\n",
    "for key in d.columns():\n",
    "    d.convert(key, value_types.get(key, \"str\"))\n",
    "print(\"Pre-filter: {}\".format(d.size()))\n",
    "d2 = d.filter_eq(\"Agency Name\", \"Department of Natural Resources\")\n",
    "print(\"Post-filter: {}\".format(d2.size()))\n"
   ]
  },
  {
   "cell_type": "markdown",
   "metadata": {},
   "source": [
    "Let's try this on Agency Name."
   ]
  },
  {
   "cell_type": "code",
   "execution_count": 32,
   "metadata": {
    "collapsed": false,
    "deletable": true,
    "editable": true
   },
   "outputs": [],
   "source": [
    "splits = d.split(\"Agency Name\")"
   ]
  },
  {
   "cell_type": "code",
   "execution_count": 33,
   "metadata": {
    "collapsed": false,
    "deletable": true,
    "editable": true
   },
   "outputs": [
    {
     "data": {
      "text/plain": [
       "dict_keys(['Appellate Court / Fifth District', 'Illinois Board of Higher Education', \"Governor's Office\", 'Department of Natural Resources', 'Appellate Court / Third District', 'Illinois Courts', 'Chicago State University', \"Department of Veterans' Affairs\", 'Office of the Attorney General', 'Department of Public Health', 'Department of State Police', 'Northern Illinois University', 'Western Illinois University', 'Office of the Secretary of State', 'Department of Military Affairs', 'Department of Central Management Services', 'Department of Juvenile Justice', 'Department of Corrections', 'IL State Board of Education', 'Historic Preservation Agency', 'Illinois Community College Board', 'Department of Human Services', 'Southern Illinois University', 'Illinois Medical District Commission', 'Governors State University', 'Appellate Court / Fourth District', 'Department of Agriculture', 'Appellate Court / Second District', 'Department of Revenue', 'Eastern Illinois University', 'Department of Transportation', 'Northeastern Illinois University', 'Illinois Emergency Management Agency', 'Illinois State University', 'University of Illinois'])"
      ]
     },
     "execution_count": 33,
     "metadata": {},
     "output_type": "execute_result"
    }
   ],
   "source": [
    "splits.keys()"
   ]
  },
  {
   "cell_type": "markdown",
   "metadata": {},
   "source": [
    "Let's see how the min/max buildings compare."
   ]
  },
  {
   "cell_type": "code",
   "execution_count": 34,
   "metadata": {
    "collapsed": false,
    "deletable": true,
    "editable": true
   },
   "outputs": [
    {
     "name": "stdout",
     "output_type": "stream",
     "text": [
      "For Appellate Court / Fifth District              min sq footage =    15124.0 max sq footage =    15124.0\n",
      "For Illinois Board of Higher Education            min sq footage =     2464.0 max sq footage =   332000.0\n",
      "For Governor's Office                             min sq footage =    45120.0 max sq footage =    45120.0\n",
      "For Department of Natural Resources               min sq footage =        0.0 max sq footage =   183175.0\n",
      "For Appellate Court / Third District              min sq footage =     3700.0 max sq footage =    15000.0\n",
      "For Illinois Courts                               min sq footage =    54540.0 max sq footage =    54540.0\n",
      "For Chicago State University                      min sq footage =      196.0 max sq footage =   185458.0\n",
      "For Department of Veterans' Affairs               min sq footage =        0.0 max sq footage =   185525.0\n",
      "For Office of the Attorney General                min sq footage =    60500.0 max sq footage =    60500.0\n",
      "For Department of Public Health                   min sq footage =     2160.0 max sq footage =     5000.0\n",
      "For Department of State Police                    min sq footage =       36.0 max sq footage =   254636.0\n",
      "For Northern Illinois University                  min sq footage =        0.0 max sq footage =   298474.0\n",
      "For Western Illinois University                   min sq footage =       55.0 max sq footage =   300097.0\n",
      "For Office of the Secretary of State              min sq footage =       34.0 max sq footage =   452523.0\n",
      "For Department of Military Affairs                min sq footage =        0.0 max sq footage =   299772.0\n",
      "For Department of Central Management Services     min sq footage =      150.0 max sq footage =  1200000.0\n",
      "For Department of Juvenile Justice                min sq footage =       48.0 max sq footage =    90920.0\n",
      "For Department of Corrections                     min sq footage =        0.0 max sq footage =   307288.0\n",
      "For IL State Board of Education                   min sq footage =    19147.0 max sq footage =    19147.0\n",
      "For Historic Preservation Agency                  min sq footage =        0.0 max sq footage =   255000.0\n",
      "For Illinois Community College Board              min sq footage =     4557.0 max sq footage =    99068.0\n",
      "For Department of Human Services                  min sq footage =        0.0 max sq footage =   140000.0\n",
      "For Southern Illinois University                  min sq footage =        0.0 max sq footage =   344652.0\n",
      "For Illinois Medical District Commission          min sq footage =     9200.0 max sq footage =    22000.0\n",
      "For Governors State University                    min sq footage =     2000.0 max sq footage =   500000.0\n",
      "For Appellate Court / Fourth District             min sq footage =    16400.0 max sq footage =    16400.0\n",
      "For Department of Agriculture                     min sq footage =        0.0 max sq footage =   149400.0\n",
      "For Appellate Court / Second District             min sq footage =    43330.0 max sq footage =    43330.0\n",
      "For Department of Revenue                         min sq footage =   913236.0 max sq footage =   913236.0\n",
      "For Eastern Illinois University                   min sq footage =      511.0 max sq footage =   155202.0\n",
      "For Department of Transportation                  min sq footage =        0.0 max sq footage =   277091.0\n",
      "For Northeastern Illinois University              min sq footage =     1569.0 max sq footage =   148662.0\n",
      "For Illinois Emergency Management Agency          min sq footage =     5650.0 max sq footage =    50000.0\n",
      "For Illinois State University                     min sq footage =      153.0 max sq footage =   230710.0\n",
      "For University of Illinois                        min sq footage =       32.0 max sq footage =   779732.0\n"
     ]
    }
   ],
   "source": [
    "for agency in splits:\n",
    "    stats = splits[agency].stats()\n",
    "    print(\"For {0:45s} min sq footage = {1: 10.1f} max sq footage = {2: 10.1f}\".format(agency, stats[\"Square Footage\"][0], stats[\"Square Footage\"][1]))"
   ]
  },
  {
   "cell_type": "markdown",
   "metadata": {},
   "source": [
    "And, we'll also add a `.plot` method to make this a bit easier, too."
   ]
  },
  {
   "cell_type": "code",
   "execution_count": 35,
   "metadata": {
    "collapsed": false,
    "deletable": true,
    "editable": true
   },
   "outputs": [
    {
     "name": "stdout",
     "output_type": "stream",
     "text": [
      "Pre-filter: 8849\n",
      "Post-filter: 3248\n"
     ]
    }
   ],
   "source": [
    "class Dataset:\n",
    "    def __init__(self, data):\n",
    "        self.data = data\n",
    "        \n",
    "    def convert(self, column, dtype):\n",
    "        self.data[column] = np.array(self.data[column], dtype=dtype)\n",
    "        \n",
    "    def columns(self):\n",
    "        return self.data.keys()\n",
    "    \n",
    "    def filter_eq(self, column, value):\n",
    "        good = (self.data[column] == value)\n",
    "        new_data = {}\n",
    "        for column in self.data:\n",
    "            new_data[column] = self.data[column][good]\n",
    "        return Dataset(new_data)\n",
    "    \n",
    "    def filter_lt(self, column, value):\n",
    "        good = (self.data[column] < value)\n",
    "        new_data = {}\n",
    "        for column in self.data:\n",
    "            new_data[column] = self.data[column][good]\n",
    "        return Dataset(new_data)\n",
    "    \n",
    "    def filter_gt(self, column, value):\n",
    "        good = (self.data[column] > value)\n",
    "        new_data = {}\n",
    "        for column in self.data:\n",
    "            new_data[column] = self.data[column][good]\n",
    "        return Dataset(new_data)\n",
    "    \n",
    "    def filter_ne(self, column, value):\n",
    "        good = (self.data[column] != value)\n",
    "        new_data = {}\n",
    "        for column in self.data:\n",
    "            new_data[column] = self.data[column][good]\n",
    "        return Dataset(new_data)\n",
    "    \n",
    "    def size(self):\n",
    "        for key in self.data:\n",
    "            return self.data[key].size\n",
    "    \n",
    "    def stats(self):\n",
    "        statistics = {}\n",
    "        for key in self.data:\n",
    "            if self.data[key].dtype not in (\"float\", \"int\"):\n",
    "                continue\n",
    "            values = self.data[key]\n",
    "            statistics[key] = (values.min(), values.max(), values.std(), values.mean())\n",
    "        return statistics\n",
    "    \n",
    "    def compare(self, other):\n",
    "        stats1 = self.stats()\n",
    "        stats2 = other.stats()\n",
    "        for column in self.columns():\n",
    "            if column not in stats1: continue\n",
    "            print(\"Column '{0:25s}'\".format(column))\n",
    "            for s1, s2 in zip(stats1[column], stats2[column]):\n",
    "                print(\"    {0} vs {1}\".format(s1, s2))\n",
    "                \n",
    "    def split(self, column):\n",
    "        new_datasets = {}\n",
    "        for split_value in np.unique(self.data[column]):\n",
    "            new_datasets[split_value] = self.filter_eq(column, split_value)\n",
    "        return new_datasets\n",
    "    \n",
    "    def plot(self, x_column, y_column):\n",
    "        plt.plot(self.data[x_column], self.data[y_column], '.')\n",
    "    \n",
    "d = Dataset(data)\n",
    "\n",
    "value_types = {'Zip code': 'int',\n",
    "               'Congress Dist': 'int',\n",
    "               'Senate Dist': 'int',\n",
    "               'Year Acquired': 'int',\n",
    "               'Year Constructed': 'int',\n",
    "               'Square Footage': 'float',\n",
    "               'Total Floors': 'int',\n",
    "               'Floors Above Grade': 'int',\n",
    "               'Floors Below Grade': 'int'}\n",
    "\n",
    "for key in d.columns():\n",
    "    d.convert(key, value_types.get(key, \"str\"))\n",
    "print(\"Pre-filter: {}\".format(d.size()))\n",
    "d2 = d.filter_eq(\"Agency Name\", \"Department of Natural Resources\")\n",
    "print(\"Post-filter: {}\".format(d2.size()))\n"
   ]
  },
  {
   "cell_type": "markdown",
   "metadata": {},
   "source": [
    "We'll finish up with a couple of plots that are difficult to examine!"
   ]
  },
  {
   "cell_type": "code",
   "execution_count": 36,
   "metadata": {
    "collapsed": false,
    "deletable": true,
    "editable": true
   },
   "outputs": [
    {
     "data": {
      "image/png": "[encoded data removed]",
      "text/plain": [
       "<matplotlib.figure.Figure at 0x7f8d27168748>"
      ]
     },
     "metadata": {},
     "output_type": "display_data"
    }
   ],
   "source": [
    "splits = d.split(\"Agency Name\")\n",
    "for agency in splits:\n",
    "    splits[agency].plot(\"Year Acquired\", \"Square Footage\")"
   ]
  },
  {
   "cell_type": "code",
   "execution_count": 37,
   "metadata": {
    "collapsed": false,
    "deletable": true,
    "editable": true
   },
   "outputs": [
    {
     "data": {
      "image/png": "[encoded data removed]",
      "text/plain": [
       "<matplotlib.figure.Figure at 0x7f8d2717cc18>"
      ]
     },
     "metadata": {},
     "output_type": "display_data"
    }
   ],
   "source": [
    "d2 = d.filter_gt(\"Year Acquired\", 0)\n",
    "splits = d2.split(\"Agency Name\")\n",
    "for agency in splits:\n",
    "    splits[agency].plot(\"Year Acquired\", \"Square Footage\")\n",
    "plt.yscale(\"log\")"
   ]
  }
 ],
 "metadata": {
  "kernelspec": {
   "display_name": "Python 3",
   "language": "python",
   "name": "python3"
  },
  "language_info": {
   "codemirror_mode": {
    "name": "ipython",
    "version": 3
   },
   "file_extension": ".py",
   "mimetype": "text/x-python",
   "name": "python",
   "nbconvert_exporter": "python",
   "pygments_lexer": "ipython3",
   "version": "3.5.3"
  }
 },
 "nbformat": 4,
 "nbformat_minor": 2
}
