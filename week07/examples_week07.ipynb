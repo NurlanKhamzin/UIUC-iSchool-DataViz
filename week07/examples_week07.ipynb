{
 "cells": [
  {
   "cell_type": "markdown",
   "metadata": {
    "deletable": true,
    "editable": true
   },
   "source": [
    "# Examples: Week 7\n",
    "\n",
    "This week, we will apply some of our discussions around filtering, splitting and so on to build out comparisons between different variables within the World Bank Economic Indicators dataset.\n",
    "\n",
    "This dataset, which covers 1960-2016, 264 countries and 1452 variables, can be obtained at the [Worldbank Data site](data.worldbank.org)."
   ]
  },
  {
   "cell_type": "code",
   "execution_count": 1,
   "metadata": {
    "collapsed": true,
    "deletable": true,
    "editable": true
   },
   "outputs": [],
   "source": [
    "%matplotlib inline"
   ]
  },
  {
   "cell_type": "markdown",
   "metadata": {
    "deletable": true,
    "editable": true
   },
   "source": [
    "Building on our discussion of modules from last week, we'll use the `my_dataset` module that I have prepared as a basis.  This module is largely identical to what we have built out in previous weeks."
   ]
  },
  {
   "cell_type": "code",
   "execution_count": 2,
   "metadata": {
    "collapsed": true,
    "deletable": true,
    "editable": true
   },
   "outputs": [],
   "source": [
    "import sys\n",
    "sys.path.insert(0, \"/srv/nbgrader/data/WDI/\")\n",
    "\n",
    "from my_dataset import Dataset, read_csv"
   ]
  },
  {
   "cell_type": "code",
   "execution_count": 3,
   "metadata": {
    "collapsed": true,
    "deletable": true,
    "editable": true
   },
   "outputs": [],
   "source": [
    "import numpy as np\n",
    "import matplotlib.pyplot as plt\n",
    "import ipywidgets\n",
    "plt.rcParams[\"figure.figsize\"] = (6, 5)"
   ]
  },
  {
   "cell_type": "markdown",
   "metadata": {
    "deletable": true,
    "editable": true
   },
   "source": [
    "We'll use a `read_csv` function that is provided in our module to feed into a `Dataset` object.  This loads in our full dataset, and we'll take a look at the columns it generates.\n",
    "\n",
    "Note that we're using a different `encoding`.  In particular, this is because the file is encoded in `cp1252`, which is a Windows-specific extension that includes some characters that can't be interpreted directly in Unicode.  If we didn't specify this, it would crash."
   ]
  },
  {
   "cell_type": "code",
   "execution_count": 4,
   "metadata": {
    "collapsed": false,
    "deletable": true,
    "editable": true
   },
   "outputs": [],
   "source": [
    "data = Dataset(read_csv(\"/srv/nbgrader/data/WDI/WDI_Data.csv\",\n",
    "                        encoding=\"cp1252\"))"
   ]
  },
  {
   "cell_type": "markdown",
   "metadata": {
    "deletable": true,
    "editable": true
   },
   "source": [
    "Let's see what data is available."
   ]
  },
  {
   "cell_type": "code",
   "execution_count": 5,
   "metadata": {
    "collapsed": false,
    "deletable": true,
    "editable": true
   },
   "outputs": [
    {
     "data": {
      "text/plain": [
       "dict_keys(['1962', '1987', '1999', '2005', '1977', '1979', '2006', '1985', '2009', '1981', '2012', '1961', '2008', '1982', '1969', '1978', '1998', '2015', '1960', '2016', '1963', '2004', '2000', '1991', '1970', '1993', '1975', '2002', '1983', '1994', '1976', 'Indicator Name', '1984', '2001', '1990', '1989', '1996', '1972', '1971', '1973', '1997', '2014', '2013', '2007', '2010', '1968', '2011', '1967', '1965', '1992', 'Country Name', '1974', 'Indicator Code', '2003', '1986', 'Country Code', '1964', '1980', '1995', '1966', '1988'])"
      ]
     },
     "execution_count": 5,
     "metadata": {},
     "output_type": "execute_result"
    }
   ],
   "source": [
    "data.columns()"
   ]
  },
  {
   "cell_type": "markdown",
   "metadata": {
    "deletable": true,
    "editable": true
   },
   "source": [
    "Wow!  OK, so, we have a column for each year that data is available.  Other than that, we have an indicator code, a country code, and then the longer names of those two things.  How many indicator codes are there?  (Spoiler alert: I put the number up above already!)"
   ]
  },
  {
   "cell_type": "code",
   "execution_count": 6,
   "metadata": {
    "collapsed": false,
    "deletable": true,
    "editable": true
   },
   "outputs": [
    {
     "data": {
      "text/plain": [
       "array(['AG.AGR.TRAC.NO', 'AG.CON.FERT.PT.ZS', 'AG.CON.FERT.ZS', ...,\n",
       "       'per_si_allsi.adq_pop_tot', 'per_si_allsi.ben_q1_tot',\n",
       "       'per_si_allsi.cov_pop_tot'], \n",
       "      dtype='<U25')"
      ]
     },
     "execution_count": 6,
     "metadata": {},
     "output_type": "execute_result"
    }
   ],
   "source": [
    "np.unique(data[\"Indicator Code\"])"
   ]
  },
  {
   "cell_type": "code",
   "execution_count": 7,
   "metadata": {
    "collapsed": false,
    "deletable": true,
    "editable": true
   },
   "outputs": [
    {
     "data": {
      "text/plain": [
       "1452"
      ]
     },
     "execution_count": 7,
     "metadata": {},
     "output_type": "execute_result"
    }
   ],
   "source": [
    "np.unique(data[\"Indicator Code\"]).size"
   ]
  },
  {
   "cell_type": "code",
   "execution_count": 8,
   "metadata": {
    "collapsed": false,
    "deletable": true,
    "editable": true
   },
   "outputs": [
    {
     "data": {
      "text/plain": [
       "264"
      ]
     },
     "execution_count": 8,
     "metadata": {},
     "output_type": "execute_result"
    }
   ],
   "source": [
    "np.unique(data[\"Country Code\"]).size"
   ]
  },
  {
   "cell_type": "markdown",
   "metadata": {
    "deletable": true,
    "editable": true
   },
   "source": [
    "We'll convert our columns like usual, but this time we'll \"blacklist\" the ones we *don't* want to convert to float."
   ]
  },
  {
   "cell_type": "code",
   "execution_count": 9,
   "metadata": {
    "collapsed": true,
    "deletable": true,
    "editable": true
   },
   "outputs": [],
   "source": [
    "mapping = {\"Country Code\": \"str\", \"Country Name\": \"str\",\n",
    "           \"Indicator Code\": \"str\", \"Indicator Name\": \"str\"}\n",
    "for c in data.columns():\n",
    "    data.convert(c, mapping.get(c, \"float\"))"
   ]
  },
  {
   "cell_type": "markdown",
   "metadata": {
    "deletable": true,
    "editable": true
   },
   "source": [
    "Let's do some checks to make sure we've got a full set of values, by checking that we have N_countries by N_indicators."
   ]
  },
  {
   "cell_type": "code",
   "execution_count": 10,
   "metadata": {
    "collapsed": false,
    "deletable": true,
    "editable": true
   },
   "outputs": [
    {
     "data": {
      "text/plain": [
       "(383328,)"
      ]
     },
     "execution_count": 10,
     "metadata": {},
     "output_type": "execute_result"
    }
   ],
   "source": [
    "data[\"1964\"].shape"
   ]
  },
  {
   "cell_type": "code",
   "execution_count": 11,
   "metadata": {
    "collapsed": false,
    "deletable": true,
    "editable": true
   },
   "outputs": [
    {
     "data": {
      "text/plain": [
       "1452.0"
      ]
     },
     "execution_count": 11,
     "metadata": {},
     "output_type": "execute_result"
    }
   ],
   "source": [
    "383328/264."
   ]
  },
  {
   "cell_type": "markdown",
   "metadata": {
    "deletable": true,
    "editable": true
   },
   "source": [
    "Awesome, we're good.\n",
    "\n",
    "It's a bit unwieldy to have a bunch of columns.  We're going to join all the years, in order, so that we can have just a single column for that.  This column will be N-wide, where N is the number of years.\n",
    "\n",
    "To do this, we'll create a list of arrays, and then use `np.array` to turn them into a single array."
   ]
  },
  {
   "cell_type": "code",
   "execution_count": 12,
   "metadata": {
    "collapsed": false,
    "deletable": true,
    "editable": true
   },
   "outputs": [],
   "source": [
    "values = []\n",
    "for i in range(1960, 2017):\n",
    "    values.append(data[str(i)])\n",
    "values = np.array(values)"
   ]
  },
  {
   "cell_type": "markdown",
   "metadata": {
    "deletable": true,
    "editable": true
   },
   "source": [
    "But it's the wrong shape, as we'll see:"
   ]
  },
  {
   "cell_type": "code",
   "execution_count": 13,
   "metadata": {
    "collapsed": false,
    "deletable": true,
    "editable": true,
    "scrolled": true
   },
   "outputs": [
    {
     "data": {
      "text/plain": [
       "(57, 383328)"
      ]
     },
     "execution_count": 13,
     "metadata": {},
     "output_type": "execute_result"
    }
   ],
   "source": [
    "values.shape"
   ]
  },
  {
   "cell_type": "markdown",
   "metadata": {
    "deletable": true,
    "editable": true
   },
   "source": [
    "So we'll transpose it (switching first and last axes) and then stick it into our dataset as the column \"values\"."
   ]
  },
  {
   "cell_type": "code",
   "execution_count": 14,
   "metadata": {
    "collapsed": true,
    "deletable": true,
    "editable": true
   },
   "outputs": [],
   "source": [
    "values = values.transpose()\n",
    "data.data[\"values\"] = values"
   ]
  },
  {
   "cell_type": "markdown",
   "metadata": {
    "deletable": true,
    "editable": true
   },
   "source": [
    "Just to make sure, let's double-check that our `values` column shows up."
   ]
  },
  {
   "cell_type": "code",
   "execution_count": 15,
   "metadata": {
    "collapsed": false,
    "deletable": true,
    "editable": true
   },
   "outputs": [
    {
     "data": {
      "text/plain": [
       "dict_keys(['1962', '1987', '1999', '2005', '1977', '1979', '2006', '1985', '2009', '1981', '2012', '1961', '2008', '1982', '1969', '1978', '1998', '2015', '1960', '2016', '1963', '2004', '2000', '1991', '1970', '1993', '1975', '2002', '1983', '1994', '1976', 'values', 'Indicator Name', '1984', '2001', '1990', '1989', '1996', '1972', '1971', '1973', '1997', '2014', '2013', '2007', '2010', '1968', '2011', '1967', '1965', '1992', 'Country Name', '1974', 'Indicator Code', '2003', '1986', 'Country Code', '1964', '1980', '1995', '1966', '1988'])"
      ]
     },
     "execution_count": 15,
     "metadata": {},
     "output_type": "execute_result"
    }
   ],
   "source": [
    "data.columns()"
   ]
  },
  {
   "cell_type": "markdown",
   "metadata": {
    "deletable": true,
    "editable": true
   },
   "source": [
    "Let's get started.  I've picked out an indicator we can use, which is the population in the largest city."
   ]
  },
  {
   "cell_type": "code",
   "execution_count": 16,
   "metadata": {
    "collapsed": true,
    "deletable": true,
    "editable": true
   },
   "outputs": [],
   "source": [
    "# EN.URB.LCTY\n",
    "\n",
    "pop_city = data.filter_eq(\"Indicator Code\", \"EN.URB.LCTY\")"
   ]
  },
  {
   "cell_type": "code",
   "execution_count": 17,
   "metadata": {
    "collapsed": false,
    "deletable": true,
    "editable": true
   },
   "outputs": [
    {
     "data": {
      "text/plain": [
       "(264, 57)"
      ]
     },
     "execution_count": 17,
     "metadata": {},
     "output_type": "execute_result"
    }
   ],
   "source": [
    "pop_city[\"values\"].shape"
   ]
  },
  {
   "cell_type": "markdown",
   "metadata": {
    "deletable": true,
    "editable": true
   },
   "source": [
    "What's the population in just the US in this city over time?"
   ]
  },
  {
   "cell_type": "code",
   "execution_count": 18,
   "metadata": {
    "collapsed": false,
    "deletable": true,
    "editable": true
   },
   "outputs": [],
   "source": [
    "us_pop_city = pop_city.filter_eq(\"Country Name\", 'United States')"
   ]
  },
  {
   "cell_type": "markdown",
   "metadata": {
    "deletable": true,
    "editable": true
   },
   "source": [
    "We'll need some years to plot against, so we will use `np.arange` to generate the values to supply to our plotting routines.  This routine drops off the final value, so we have to go to N+1 where N is the final value we want."
   ]
  },
  {
   "cell_type": "code",
   "execution_count": 19,
   "metadata": {
    "collapsed": true,
    "deletable": true,
    "editable": true
   },
   "outputs": [],
   "source": [
    "years = np.arange(1960, 2017)"
   ]
  },
  {
   "cell_type": "code",
   "execution_count": 20,
   "metadata": {
    "collapsed": false,
    "deletable": true,
    "editable": true
   },
   "outputs": [
    {
     "data": {
      "text/plain": [
       "[<matplotlib.lines.Line2D at 0x7fc0c8b6d748>]"
      ]
     },
     "execution_count": 20,
     "metadata": {},
     "output_type": "execute_result"
    },
    {
     "data": {
      "image/png": "[encoded data removed]",
      "text/plain": [
       "<matplotlib.figure.Figure at 0x7fc0cb06c128>"
      ]
     },
     "metadata": {},
     "output_type": "display_data"
    }
   ],
   "source": [
    "plt.plot(years, us_pop_city[\"values\"][0,:], '.-')"
   ]
  },
  {
   "cell_type": "markdown",
   "metadata": {
    "deletable": true,
    "editable": true
   },
   "source": [
    "Great.  That kind of works as we want.  Now let's clean it up, put it in a function, and look at a couple different countries.  And, while we're at it, we'll go ahead and make the indicator name a parameter, too.\n",
    "\n",
    "We'll plug this into the `ipywidgets.interact` function momentarily."
   ]
  },
  {
   "cell_type": "code",
   "execution_count": 21,
   "metadata": {
    "collapsed": true,
    "deletable": true,
    "editable": true
   },
   "outputs": [],
   "source": [
    "def plot_country_indicator(country, indicator):\n",
    "    indicator_value = data.filter_eq(\"Indicator Name\", indicator)\n",
    "    country_value = indicator_value.filter_eq(\"Country Name\", country)\n",
    "    plt.plot(years, country_value[\"values\"][0,:], '.-')\n",
    "    plt.xlabel(\"Year\")\n",
    "    plt.ylabel(indicator)"
   ]
  },
  {
   "cell_type": "markdown",
   "metadata": {
    "deletable": true,
    "editable": true
   },
   "source": [
    "What countries and indicators do we have to choose from?  And, let's pick a couple at random."
   ]
  },
  {
   "cell_type": "code",
   "execution_count": 22,
   "metadata": {
    "collapsed": false,
    "deletable": true,
    "editable": true
   },
   "outputs": [
    {
     "data": {
      "text/plain": [
       "('Adolescents out of school (% of lower secondary school age)',\n",
       " 'Hong Kong SAR, China')"
      ]
     },
     "execution_count": 22,
     "metadata": {},
     "output_type": "execute_result"
    }
   ],
   "source": [
    "indicators = np.unique(data[\"Indicator Name\"])\n",
    "countries = np.unique(data[\"Country Name\"])\n",
    "\n",
    "indicators[50], countries[100]"
   ]
  },
  {
   "cell_type": "markdown",
   "metadata": {
    "deletable": true,
    "editable": true
   },
   "source": [
    "Now we'll test our routine."
   ]
  },
  {
   "cell_type": "code",
   "execution_count": 23,
   "metadata": {
    "collapsed": false,
    "deletable": true,
    "editable": true
   },
   "outputs": [
    {
     "data": {
      "image/png": "[encoded data removed]",
      "text/plain": [
       "<matplotlib.figure.Figure at 0x7fc0c823a470>"
      ]
     },
     "metadata": {},
     "output_type": "display_data"
    }
   ],
   "source": [
    "plot_country_indicator(countries[100], indicators[50])"
   ]
  },
  {
   "cell_type": "markdown",
   "metadata": {
    "deletable": true,
    "editable": true
   },
   "source": [
    "Note something here -- it's masking data that doesn't exist in the dataset.  Those points appear as discontinuities.  This isn't always what we want; for instance, we may instead wish to show those as a continuous, but irregularly spaced, line plot.  However, in this case, we want to emphasize the discontinuity.\n",
    "\n",
    "Now, we'll use ipywidgets to change which country and indicator we plot.  This isn't *incredibly* useful, since the number of indicators is intimidatingly long, but we will use it as a quick way to explore some of the data.\n",
    "\n",
    "Note that we're calling `tolist()` on these.  If we just feed in arrays, the `interact` function gets a bit confused."
   ]
  },
  {
   "cell_type": "code",
   "execution_count": 24,
   "metadata": {
    "collapsed": false,
    "deletable": true,
    "editable": true
   },
   "outputs": [
    {
     "data": {
      "text/plain": [
       "<function __main__.plot_country_indicator>"
      ]
     },
     "execution_count": 24,
     "metadata": {},
     "output_type": "execute_result"
    },
    {
     "data": {
      "image/png": "[encoded data removed]",
      "text/plain": [
       "<matplotlib.figure.Figure at 0x7fc0c8257208>"
      ]
     },
     "metadata": {},
     "output_type": "display_data"
    }
   ],
   "source": [
    "ipywidgets.interact(plot_country_indicator,\n",
    "                   country=countries.tolist(),\n",
    "                    indicator=indicators.tolist())"
   ]
  },
  {
   "cell_type": "markdown",
   "metadata": {
    "deletable": true,
    "editable": true
   },
   "source": [
    "Let's just toss everything into a single plot.  This is a bad idea, and let's demonstrate why."
   ]
  },
  {
   "cell_type": "code",
   "execution_count": 25,
   "metadata": {
    "collapsed": false,
    "deletable": true,
    "editable": true
   },
   "outputs": [
    {
     "data": {
      "text/plain": [
       "[<matplotlib.lines.Line2D at 0x7fc134d7e438>,\n",
       " <matplotlib.lines.Line2D at 0x7fc134d7e6a0>,\n",
       " <matplotlib.lines.Line2D at 0x7fc134d7e8d0>,\n",
       " <matplotlib.lines.Line2D at 0x7fc134d7eb00>,\n",
       " <matplotlib.lines.Line2D at 0x7fc134d7ed30>,\n",
       " <matplotlib.lines.Line2D at 0x7fc134d7ef60>,\n",
       " <matplotlib.lines.Line2D at 0x7fc134d821d0>,\n",
       " <matplotlib.lines.Line2D at 0x7fc134d82400>,\n",
       " <matplotlib.lines.Line2D at 0x7fc134d82630>,\n",
       " <matplotlib.lines.Line2D at 0x7fc134d82860>,\n",
       " <matplotlib.lines.Line2D at 0x7fc134d82a90>,\n",
       " <matplotlib.lines.Line2D at 0x7fc134d82cc0>,\n",
       " <matplotlib.lines.Line2D at 0x7fc134d82ef0>,\n",
       " <matplotlib.lines.Line2D at 0x7fc134d85160>,\n",
       " <matplotlib.lines.Line2D at 0x7fc134d85390>,\n",
       " <matplotlib.lines.Line2D at 0x7fc134d855c0>,\n",
       " <matplotlib.lines.Line2D at 0x7fc134d857f0>,\n",
       " <matplotlib.lines.Line2D at 0x7fc134d85a20>,\n",
       " <matplotlib.lines.Line2D at 0x7fc134d85c50>,\n",
       " <matplotlib.lines.Line2D at 0x7fc134d85e80>,\n",
       " <matplotlib.lines.Line2D at 0x7fc134ed4208>,\n",
       " <matplotlib.lines.Line2D at 0x7fc134d89320>,\n",
       " <matplotlib.lines.Line2D at 0x7fc134d89550>,\n",
       " <matplotlib.lines.Line2D at 0x7fc134d89780>,\n",
       " <matplotlib.lines.Line2D at 0x7fc134d899b0>,\n",
       " <matplotlib.lines.Line2D at 0x7fc134d89be0>,\n",
       " <matplotlib.lines.Line2D at 0x7fc134d89e10>,\n",
       " <matplotlib.lines.Line2D at 0x7fc134d8e080>,\n",
       " <matplotlib.lines.Line2D at 0x7fc134d8e2b0>,\n",
       " <matplotlib.lines.Line2D at 0x7fc134d8e4e0>,\n",
       " <matplotlib.lines.Line2D at 0x7fc134d890f0>,\n",
       " <matplotlib.lines.Line2D at 0x7fc134d8e940>,\n",
       " <matplotlib.lines.Line2D at 0x7fc134d8eb70>,\n",
       " <matplotlib.lines.Line2D at 0x7fc134d8eda0>,\n",
       " <matplotlib.lines.Line2D at 0x7fc134d8efd0>,\n",
       " <matplotlib.lines.Line2D at 0x7fc134d92240>,\n",
       " <matplotlib.lines.Line2D at 0x7fc134d92470>,\n",
       " <matplotlib.lines.Line2D at 0x7fc134d926a0>,\n",
       " <matplotlib.lines.Line2D at 0x7fc134d928d0>,\n",
       " <matplotlib.lines.Line2D at 0x7fc134d92b00>,\n",
       " <matplotlib.lines.Line2D at 0x7fc134d8e710>,\n",
       " <matplotlib.lines.Line2D at 0x7fc134d92f60>,\n",
       " <matplotlib.lines.Line2D at 0x7fc134d971d0>,\n",
       " <matplotlib.lines.Line2D at 0x7fc134d97400>,\n",
       " <matplotlib.lines.Line2D at 0x7fc134d97630>,\n",
       " <matplotlib.lines.Line2D at 0x7fc134d97860>,\n",
       " <matplotlib.lines.Line2D at 0x7fc134d97a90>,\n",
       " <matplotlib.lines.Line2D at 0x7fc134d97cc0>,\n",
       " <matplotlib.lines.Line2D at 0x7fc134d97ef0>,\n",
       " <matplotlib.lines.Line2D at 0x7fc134d9e160>,\n",
       " <matplotlib.lines.Line2D at 0x7fc134d92d30>,\n",
       " <matplotlib.lines.Line2D at 0x7fc134d9e5c0>,\n",
       " <matplotlib.lines.Line2D at 0x7fc134d9e7f0>,\n",
       " <matplotlib.lines.Line2D at 0x7fc134d9ea20>,\n",
       " <matplotlib.lines.Line2D at 0x7fc134d9ec50>,\n",
       " <matplotlib.lines.Line2D at 0x7fc134d9ee80>,\n",
       " <matplotlib.lines.Line2D at 0x7fc134d710f0>,\n",
       " <matplotlib.lines.Line2D at 0x7fc134d71320>,\n",
       " <matplotlib.lines.Line2D at 0x7fc134d71550>,\n",
       " <matplotlib.lines.Line2D at 0x7fc134d71780>,\n",
       " <matplotlib.lines.Line2D at 0x7fc134d9e390>,\n",
       " <matplotlib.lines.Line2D at 0x7fc134d71be0>,\n",
       " <matplotlib.lines.Line2D at 0x7fc134d71e10>,\n",
       " <matplotlib.lines.Line2D at 0x7fc134d9d080>,\n",
       " <matplotlib.lines.Line2D at 0x7fc134d9d2b0>,\n",
       " <matplotlib.lines.Line2D at 0x7fc134d9d4e0>,\n",
       " <matplotlib.lines.Line2D at 0x7fc134d9d710>,\n",
       " <matplotlib.lines.Line2D at 0x7fc134d9d940>,\n",
       " <matplotlib.lines.Line2D at 0x7fc134d9db70>,\n",
       " <matplotlib.lines.Line2D at 0x7fc134d9dda0>,\n",
       " <matplotlib.lines.Line2D at 0x7fc134d719b0>,\n",
       " <matplotlib.lines.Line2D at 0x7fc134d87240>,\n",
       " <matplotlib.lines.Line2D at 0x7fc134d87470>,\n",
       " <matplotlib.lines.Line2D at 0x7fc134d876a0>,\n",
       " <matplotlib.lines.Line2D at 0x7fc134d878d0>,\n",
       " <matplotlib.lines.Line2D at 0x7fc134d87b00>,\n",
       " <matplotlib.lines.Line2D at 0x7fc134d87d30>,\n",
       " <matplotlib.lines.Line2D at 0x7fc134d87f60>,\n",
       " <matplotlib.lines.Line2D at 0x7fc134b621d0>,\n",
       " <matplotlib.lines.Line2D at 0x7fc134b62400>,\n",
       " <matplotlib.lines.Line2D at 0x7fc134d9dfd0>,\n",
       " <matplotlib.lines.Line2D at 0x7fc134b62860>,\n",
       " <matplotlib.lines.Line2D at 0x7fc134b62a90>,\n",
       " <matplotlib.lines.Line2D at 0x7fc134b62cc0>,\n",
       " <matplotlib.lines.Line2D at 0x7fc134b62ef0>,\n",
       " <matplotlib.lines.Line2D at 0x7fc134b65160>,\n",
       " <matplotlib.lines.Line2D at 0x7fc134b65390>,\n",
       " <matplotlib.lines.Line2D at 0x7fc134b655c0>,\n",
       " <matplotlib.lines.Line2D at 0x7fc134b657f0>,\n",
       " <matplotlib.lines.Line2D at 0x7fc134b65a20>,\n",
       " <matplotlib.lines.Line2D at 0x7fc134b62630>,\n",
       " <matplotlib.lines.Line2D at 0x7fc134b65e80>,\n",
       " <matplotlib.lines.Line2D at 0x7fc134b690f0>,\n",
       " <matplotlib.lines.Line2D at 0x7fc134b69320>,\n",
       " <matplotlib.lines.Line2D at 0x7fc134b69550>,\n",
       " <matplotlib.lines.Line2D at 0x7fc134b69780>,\n",
       " <matplotlib.lines.Line2D at 0x7fc134b699b0>,\n",
       " <matplotlib.lines.Line2D at 0x7fc134b69be0>,\n",
       " <matplotlib.lines.Line2D at 0x7fc134b69e10>,\n",
       " <matplotlib.lines.Line2D at 0x7fc134b6d080>,\n",
       " <matplotlib.lines.Line2D at 0x7fc134b65c50>,\n",
       " <matplotlib.lines.Line2D at 0x7fc134b6d4e0>,\n",
       " <matplotlib.lines.Line2D at 0x7fc134b6d710>,\n",
       " <matplotlib.lines.Line2D at 0x7fc134b6d940>,\n",
       " <matplotlib.lines.Line2D at 0x7fc134b6db70>,\n",
       " <matplotlib.lines.Line2D at 0x7fc134b6dda0>,\n",
       " <matplotlib.lines.Line2D at 0x7fc134b6dfd0>,\n",
       " <matplotlib.lines.Line2D at 0x7fc134b72240>,\n",
       " <matplotlib.lines.Line2D at 0x7fc134b72470>,\n",
       " <matplotlib.lines.Line2D at 0x7fc134b726a0>,\n",
       " <matplotlib.lines.Line2D at 0x7fc134b6d2b0>,\n",
       " <matplotlib.lines.Line2D at 0x7fc134b72b00>,\n",
       " <matplotlib.lines.Line2D at 0x7fc134b72d30>,\n",
       " <matplotlib.lines.Line2D at 0x7fc134b72f60>,\n",
       " <matplotlib.lines.Line2D at 0x7fc134b7a1d0>,\n",
       " <matplotlib.lines.Line2D at 0x7fc134b7a400>,\n",
       " <matplotlib.lines.Line2D at 0x7fc134b7a630>,\n",
       " <matplotlib.lines.Line2D at 0x7fc134b7a860>,\n",
       " <matplotlib.lines.Line2D at 0x7fc134b7aa90>,\n",
       " <matplotlib.lines.Line2D at 0x7fc134b7acc0>,\n",
       " <matplotlib.lines.Line2D at 0x7fc134b728d0>,\n",
       " <matplotlib.lines.Line2D at 0x7fc134b7e160>,\n",
       " <matplotlib.lines.Line2D at 0x7fc134b7e390>,\n",
       " <matplotlib.lines.Line2D at 0x7fc134b7e5c0>,\n",
       " <matplotlib.lines.Line2D at 0x7fc134b7e7f0>,\n",
       " <matplotlib.lines.Line2D at 0x7fc134b7ea20>,\n",
       " <matplotlib.lines.Line2D at 0x7fc134b7ec50>,\n",
       " <matplotlib.lines.Line2D at 0x7fc134b7ee80>,\n",
       " <matplotlib.lines.Line2D at 0x7fc134b820f0>,\n",
       " <matplotlib.lines.Line2D at 0x7fc134b82320>,\n",
       " <matplotlib.lines.Line2D at 0x7fc134b7aef0>,\n",
       " <matplotlib.lines.Line2D at 0x7fc134b82780>,\n",
       " <matplotlib.lines.Line2D at 0x7fc134b829b0>,\n",
       " <matplotlib.lines.Line2D at 0x7fc134b82be0>,\n",
       " <matplotlib.lines.Line2D at 0x7fc134b82e10>,\n",
       " <matplotlib.lines.Line2D at 0x7fc134b87080>,\n",
       " <matplotlib.lines.Line2D at 0x7fc134b872b0>,\n",
       " <matplotlib.lines.Line2D at 0x7fc134b874e0>,\n",
       " <matplotlib.lines.Line2D at 0x7fc134b87710>,\n",
       " <matplotlib.lines.Line2D at 0x7fc134b87940>,\n",
       " <matplotlib.lines.Line2D at 0x7fc134b82550>,\n",
       " <matplotlib.lines.Line2D at 0x7fc134b87da0>,\n",
       " <matplotlib.lines.Line2D at 0x7fc134b87fd0>,\n",
       " <matplotlib.lines.Line2D at 0x7fc134b8b240>,\n",
       " <matplotlib.lines.Line2D at 0x7fc134b8b470>,\n",
       " <matplotlib.lines.Line2D at 0x7fc134b8b6a0>,\n",
       " <matplotlib.lines.Line2D at 0x7fc134b8b8d0>,\n",
       " <matplotlib.lines.Line2D at 0x7fc134eb36d8>,\n",
       " <matplotlib.lines.Line2D at 0x7fc134eadb70>,\n",
       " <matplotlib.lines.Line2D at 0x7fc134ead2e8>,\n",
       " <matplotlib.lines.Line2D at 0x7fc134b87b70>,\n",
       " <matplotlib.lines.Line2D at 0x7fc134ed66a0>,\n",
       " <matplotlib.lines.Line2D at 0x7fc134edc470>,\n",
       " <matplotlib.lines.Line2D at 0x7fc0cb246e10>,\n",
       " <matplotlib.lines.Line2D at 0x7fc134ed4eb8>,\n",
       " <matplotlib.lines.Line2D at 0x7fc134ec9668>,\n",
       " <matplotlib.lines.Line2D at 0x7fc134ece4a8>,\n",
       " <matplotlib.lines.Line2D at 0x7fc134ecef28>,\n",
       " <matplotlib.lines.Line2D at 0x7fc134ebeda0>,\n",
       " <matplotlib.lines.Line2D at 0x7fc134ebe0f0>,\n",
       " <matplotlib.lines.Line2D at 0x7fc134ed69e8>,\n",
       " <matplotlib.lines.Line2D at 0x7fc134ebe0b8>,\n",
       " <matplotlib.lines.Line2D at 0x7fc134eabd30>,\n",
       " <matplotlib.lines.Line2D at 0x7fc134eabe10>,\n",
       " <matplotlib.lines.Line2D at 0x7fc0cb230748>,\n",
       " <matplotlib.lines.Line2D at 0x7fc134f597b8>,\n",
       " <matplotlib.lines.Line2D at 0x7fc134f592e8>,\n",
       " <matplotlib.lines.Line2D at 0x7fc134b8bbe0>,\n",
       " <matplotlib.lines.Line2D at 0x7fc134b8bda0>,\n",
       " <matplotlib.lines.Line2D at 0x7fc134b8bf60>,\n",
       " <matplotlib.lines.Line2D at 0x7fc134ebeb00>,\n",
       " <matplotlib.lines.Line2D at 0x7fc134b8e320>,\n",
       " <matplotlib.lines.Line2D at 0x7fc134b8e4e0>,\n",
       " <matplotlib.lines.Line2D at 0x7fc134b8e6a0>,\n",
       " <matplotlib.lines.Line2D at 0x7fc134b8e860>,\n",
       " <matplotlib.lines.Line2D at 0x7fc134b8ea20>,\n",
       " <matplotlib.lines.Line2D at 0x7fc134b8ebe0>,\n",
       " <matplotlib.lines.Line2D at 0x7fc134b8eda0>,\n",
       " <matplotlib.lines.Line2D at 0x7fc134b8ef60>,\n",
       " <matplotlib.lines.Line2D at 0x7fc134b92160>,\n",
       " <matplotlib.lines.Line2D at 0x7fc134b8e160>,\n",
       " <matplotlib.lines.Line2D at 0x7fc134b924e0>,\n",
       " <matplotlib.lines.Line2D at 0x7fc134b926a0>,\n",
       " <matplotlib.lines.Line2D at 0x7fc134b92860>,\n",
       " <matplotlib.lines.Line2D at 0x7fc134b92a20>,\n",
       " <matplotlib.lines.Line2D at 0x7fc134b92be0>,\n",
       " <matplotlib.lines.Line2D at 0x7fc134b92da0>,\n",
       " <matplotlib.lines.Line2D at 0x7fc134b92f60>,\n",
       " <matplotlib.lines.Line2D at 0x7fc134b97160>,\n",
       " <matplotlib.lines.Line2D at 0x7fc134b97320>,\n",
       " <matplotlib.lines.Line2D at 0x7fc134b92320>,\n",
       " <matplotlib.lines.Line2D at 0x7fc134b976a0>,\n",
       " <matplotlib.lines.Line2D at 0x7fc134b97860>,\n",
       " <matplotlib.lines.Line2D at 0x7fc134b97a20>,\n",
       " <matplotlib.lines.Line2D at 0x7fc134b97be0>,\n",
       " <matplotlib.lines.Line2D at 0x7fc134b97da0>,\n",
       " <matplotlib.lines.Line2D at 0x7fc134b97f60>,\n",
       " <matplotlib.lines.Line2D at 0x7fc134b9c1d0>,\n",
       " <matplotlib.lines.Line2D at 0x7fc134b9c400>,\n",
       " <matplotlib.lines.Line2D at 0x7fc134b9c630>,\n",
       " <matplotlib.lines.Line2D at 0x7fc134b974e0>,\n",
       " <matplotlib.lines.Line2D at 0x7fc134b9ca90>,\n",
       " <matplotlib.lines.Line2D at 0x7fc134b9ccc0>,\n",
       " <matplotlib.lines.Line2D at 0x7fc134b9cef0>,\n",
       " <matplotlib.lines.Line2D at 0x7fc134b95160>,\n",
       " <matplotlib.lines.Line2D at 0x7fc134b95390>,\n",
       " <matplotlib.lines.Line2D at 0x7fc134b955c0>,\n",
       " <matplotlib.lines.Line2D at 0x7fc134b957f0>,\n",
       " <matplotlib.lines.Line2D at 0x7fc134b95a20>,\n",
       " <matplotlib.lines.Line2D at 0x7fc134b95c50>,\n",
       " <matplotlib.lines.Line2D at 0x7fc134b9c860>,\n",
       " <matplotlib.lines.Line2D at 0x7fc134b750f0>,\n",
       " <matplotlib.lines.Line2D at 0x7fc134b75320>,\n",
       " <matplotlib.lines.Line2D at 0x7fc134b75550>,\n",
       " <matplotlib.lines.Line2D at 0x7fc134b75780>,\n",
       " <matplotlib.lines.Line2D at 0x7fc134b759b0>,\n",
       " <matplotlib.lines.Line2D at 0x7fc134b75be0>,\n",
       " <matplotlib.lines.Line2D at 0x7fc134b75e10>,\n",
       " <matplotlib.lines.Line2D at 0x7fc134b81080>,\n",
       " <matplotlib.lines.Line2D at 0x7fc134b812b0>,\n",
       " <matplotlib.lines.Line2D at 0x7fc134b95e80>,\n",
       " <matplotlib.lines.Line2D at 0x7fc134b81710>,\n",
       " <matplotlib.lines.Line2D at 0x7fc134b81940>,\n",
       " <matplotlib.lines.Line2D at 0x7fc134b81b70>,\n",
       " <matplotlib.lines.Line2D at 0x7fc134b81da0>,\n",
       " <matplotlib.lines.Line2D at 0x7fc134b81fd0>,\n",
       " <matplotlib.lines.Line2D at 0x7fc134921240>,\n",
       " <matplotlib.lines.Line2D at 0x7fc134921470>,\n",
       " <matplotlib.lines.Line2D at 0x7fc1349216a0>,\n",
       " <matplotlib.lines.Line2D at 0x7fc1349218d0>,\n",
       " <matplotlib.lines.Line2D at 0x7fc134b814e0>,\n",
       " <matplotlib.lines.Line2D at 0x7fc134921d30>,\n",
       " <matplotlib.lines.Line2D at 0x7fc134921f60>,\n",
       " <matplotlib.lines.Line2D at 0x7fc1349251d0>,\n",
       " <matplotlib.lines.Line2D at 0x7fc134925400>,\n",
       " <matplotlib.lines.Line2D at 0x7fc134925630>,\n",
       " <matplotlib.lines.Line2D at 0x7fc134925860>,\n",
       " <matplotlib.lines.Line2D at 0x7fc134925a90>,\n",
       " <matplotlib.lines.Line2D at 0x7fc134925cc0>,\n",
       " <matplotlib.lines.Line2D at 0x7fc134925ef0>,\n",
       " <matplotlib.lines.Line2D at 0x7fc134921b00>,\n",
       " <matplotlib.lines.Line2D at 0x7fc13492a390>,\n",
       " <matplotlib.lines.Line2D at 0x7fc13492a5c0>,\n",
       " <matplotlib.lines.Line2D at 0x7fc13492a7f0>,\n",
       " <matplotlib.lines.Line2D at 0x7fc13492aa20>,\n",
       " <matplotlib.lines.Line2D at 0x7fc13492ac50>,\n",
       " <matplotlib.lines.Line2D at 0x7fc13492ae80>,\n",
       " <matplotlib.lines.Line2D at 0x7fc13492d0f0>,\n",
       " <matplotlib.lines.Line2D at 0x7fc13492d320>,\n",
       " <matplotlib.lines.Line2D at 0x7fc13492d550>,\n",
       " <matplotlib.lines.Line2D at 0x7fc13492a160>,\n",
       " <matplotlib.lines.Line2D at 0x7fc13492d9b0>,\n",
       " <matplotlib.lines.Line2D at 0x7fc13492dbe0>,\n",
       " <matplotlib.lines.Line2D at 0x7fc13492de10>,\n",
       " <matplotlib.lines.Line2D at 0x7fc134933080>,\n",
       " <matplotlib.lines.Line2D at 0x7fc1349332b0>,\n",
       " <matplotlib.lines.Line2D at 0x7fc1349334e0>,\n",
       " <matplotlib.lines.Line2D at 0x7fc134933710>,\n",
       " <matplotlib.lines.Line2D at 0x7fc134933940>,\n",
       " <matplotlib.lines.Line2D at 0x7fc134933b70>,\n",
       " <matplotlib.lines.Line2D at 0x7fc13492d780>,\n",
       " <matplotlib.lines.Line2D at 0x7fc134933fd0>,\n",
       " <matplotlib.lines.Line2D at 0x7fc134936240>,\n",
       " <matplotlib.lines.Line2D at 0x7fc134936470>]"
      ]
     },
     "execution_count": 25,
     "metadata": {},
     "output_type": "execute_result"
    },
    {
     "data": {
      "image/png": "[encoded data removed]",
      "text/plain": [
       "<matplotlib.figure.Figure at 0x7fc0c8b495c0>"
      ]
     },
     "metadata": {},
     "output_type": "display_data"
    }
   ],
   "source": [
    "plt.plot(years, pop_city[\"values\"].transpose())"
   ]
  },
  {
   "cell_type": "markdown",
   "metadata": {
    "deletable": true,
    "editable": true
   },
   "source": [
    "Instead, we'll create a function that plots only those whose countries whose values were greater than those in the US in a given year.  For instance, if you specify 1968, only those countries whose population was greater than the US in 1968 will be plotted."
   ]
  },
  {
   "cell_type": "code",
   "execution_count": 26,
   "metadata": {
    "collapsed": false,
    "deletable": true,
    "editable": true
   },
   "outputs": [],
   "source": [
    "def greater_than_year(year = 2010):\n",
    "    year = str(year)\n",
    "    greater_than_us = pop_city.filter_gt(year, us_pop_city[year])\n",
    "    for i, country in enumerate(greater_than_us[\"Country Name\"]):\n",
    "        plt.plot(years, greater_than_us[\"values\"][i,:], label=country)\n",
    "    plt.ylim(0, np.nanmax(pop_city[\"values\"]))\n",
    "    plt.legend()"
   ]
  },
  {
   "cell_type": "markdown",
   "metadata": {
    "deletable": true,
    "editable": true
   },
   "source": [
    "Again, we'll use `ipywidgets.interact` to do this."
   ]
  },
  {
   "cell_type": "code",
   "execution_count": 27,
   "metadata": {
    "collapsed": false,
    "deletable": true,
    "editable": true
   },
   "outputs": [
    {
     "name": "stderr",
     "output_type": "stream",
     "text": [
      "/srv/nbgrader/data/WDI/my_dataset.py:41: RuntimeWarning: invalid value encountered in greater\n",
      "  good = (self.data[column] > value)\n"
     ]
    },
    {
     "data": {
      "text/plain": [
       "<function __main__.greater_than_year>"
      ]
     },
     "execution_count": 27,
     "metadata": {},
     "output_type": "execute_result"
    },
    {
     "data": {
      "image/png": "[encoded data removed]",
      "text/plain": [
       "<matplotlib.figure.Figure at 0x7fc124c3efd0>"
      ]
     },
     "metadata": {},
     "output_type": "display_data"
    }
   ],
   "source": [
    "ipywidgets.interact(greater_than_year, year = (1960, 2016))"
   ]
  },
  {
   "cell_type": "markdown",
   "metadata": {
    "deletable": true,
    "editable": true
   },
   "source": [
    "Now let's see if we can get the top N countries for a given indicator.  Note that we're doing a couple things here that we've done in the past, but in a more optimized form.\n",
    "\n",
    "Inside our routine, we're filtering out the indicator name that we're given.  We then compute the maximum along all years for each country, then we sort that maximum.  We then iterate over the sorted list, in opposite order, and plot those countries."
   ]
  },
  {
   "cell_type": "code",
   "execution_count": 28,
   "metadata": {
    "collapsed": true,
    "deletable": true,
    "editable": true
   },
   "outputs": [],
   "source": [
    "def plot_country_indicator_top(indicator, top = 5):\n",
    "    indicator_value = data.filter_eq(\"Indicator Name\", indicator)\n",
    "    max_value = np.nanmax(indicator_value[\"values\"], axis=1)\n",
    "    max_value[np.isnan(max_value)] = -1e90\n",
    "    max_indices = np.argsort(max_value)\n",
    "    for ind in reversed(max_indices[-top:]):\n",
    "        plt.plot(years, indicator_value[\"values\"][ind,:], '.-',\n",
    "                label=indicator_value[\"Country Name\"][ind])\n",
    "    plt.xlabel(\"Year\")\n",
    "    plt.legend()\n",
    "    plt.ylabel(indicator)"
   ]
  },
  {
   "cell_type": "code",
   "execution_count": 29,
   "metadata": {
    "collapsed": false,
    "deletable": true,
    "editable": true
   },
   "outputs": [
    {
     "name": "stderr",
     "output_type": "stream",
     "text": [
      "/opt/conda/lib/python3.5/site-packages/numpy/lib/nanfunctions.py:343: RuntimeWarning: All-NaN slice encountered\n",
      "  warnings.warn(\"All-NaN slice encountered\", RuntimeWarning)\n"
     ]
    },
    {
     "data": {
      "text/plain": [
       "<function __main__.plot_country_indicator_top>"
      ]
     },
     "execution_count": 29,
     "metadata": {},
     "output_type": "execute_result"
    },
    {
     "data": {
      "image/png": "[encoded data removed]",
      "text/plain": [
       "<matplotlib.figure.Figure at 0x7fc134f50b38>"
      ]
     },
     "metadata": {},
     "output_type": "display_data"
    }
   ],
   "source": [
    "ipywidgets.interact(plot_country_indicator_top,\n",
    "                   country=countries.tolist(),\n",
    "                    indicator=indicators.tolist())"
   ]
  },
  {
   "cell_type": "markdown",
   "metadata": {
    "deletable": true,
    "editable": true
   },
   "source": [
    "Let's see which indicators might be interesting -- specifically, let's take a look at all the indicators that have \"Population\" in their name."
   ]
  },
  {
   "cell_type": "code",
   "execution_count": 30,
   "metadata": {
    "collapsed": false,
    "deletable": true,
    "editable": true
   },
   "outputs": [
    {
     "name": "stdout",
     "output_type": "stream",
     "text": [
      "Population ages 0-14 (% of total)\n",
      "Population ages 15-64 (% of total)\n",
      "Population ages 65 and above (% of total)\n",
      "Population density (people per sq. km of land area)\n",
      "Population growth (annual %)\n",
      "Population in largest city\n",
      "Population in the largest city (% of urban population)\n",
      "Population in urban agglomerations of more than 1 million\n",
      "Population in urban agglomerations of more than 1 million (% of total population)\n",
      "Population living in areas where elevation is below 5 meters (% of total population)\n",
      "Population living in slums, (% of urban population)\n",
      "Population, female (% of total)\n",
      "Population, total\n"
     ]
    }
   ],
   "source": [
    "for indicator in indicators:\n",
    "    if \"Population\" in indicator:\n",
    "        print(indicator)"
   ]
  },
  {
   "cell_type": "markdown",
   "metadata": {},
   "source": [
    "We have lots of options.  So, let's filter out a couple of them -- we'll get the three components of population.  These should all add up to 100%, so we'll use them as an example of how to do stacked plots.\n",
    "\n",
    "The three components we'll pull out are the age between 0-14, 15-64, and 65 and above.  We'll do this for the United States.  (But, remember, you could extend this to select the country as well!)"
   ]
  },
  {
   "cell_type": "code",
   "execution_count": 31,
   "metadata": {
    "collapsed": false,
    "deletable": true,
    "editable": true
   },
   "outputs": [],
   "source": [
    "united_states = data.filter_eq(\"Country Name\", \"United States\")\n",
    "us_pop_0014 = united_states.filter_eq(\"Indicator Name\", \"Population ages 0-14 (% of total)\")\n",
    "us_pop_1564 = united_states.filter_eq(\"Indicator Name\", \"Population ages 15-64 (% of total)\")\n",
    "us_pop_6500 = united_states.filter_eq(\"Indicator Name\", \"Population ages 65 and above (% of total)\")"
   ]
  },
  {
   "cell_type": "markdown",
   "metadata": {},
   "source": [
    "We'll make a simple plot first, just to see the trends."
   ]
  },
  {
   "cell_type": "code",
   "execution_count": 32,
   "metadata": {
    "collapsed": false,
    "deletable": true,
    "editable": true
   },
   "outputs": [
    {
     "data": {
      "text/plain": [
       "<matplotlib.text.Text at 0x7fc1246726a0>"
      ]
     },
     "execution_count": 32,
     "metadata": {},
     "output_type": "execute_result"
    },
    {
     "data": {
      "image/png": "[encoded data removed]",
      "text/plain": [
       "<matplotlib.figure.Figure at 0x7fc134eb32b0>"
      ]
     },
     "metadata": {},
     "output_type": "display_data"
    }
   ],
   "source": [
    "plt.plot(years, us_pop_0014[\"values\"][0,:], label=\"0-14\")\n",
    "plt.plot(years, us_pop_1564[\"values\"][0,:], label=\"15-64\")\n",
    "plt.plot(years, us_pop_6500[\"values\"][0,:], label=\"65+\")\n",
    "plt.legend()\n",
    "plt.xlabel(\"Years\")\n",
    "plt.ylabel(\"Percentage\")"
   ]
  },
  {
   "cell_type": "markdown",
   "metadata": {},
   "source": [
    "Probably not a huge surprise, since the age range 15-64 is quite big.  Let's verify that these sum up to 100%."
   ]
  },
  {
   "cell_type": "code",
   "execution_count": 33,
   "metadata": {
    "collapsed": false,
    "deletable": true,
    "editable": true
   },
   "outputs": [
    {
     "data": {
      "text/plain": [
       "array([ 100.,  100.,  100.,  100.,  100.,  100.,  100.,  100.,  100.,\n",
       "        100.,  100.,  100.,  100.,  100.,  100.,  100.,  100.,  100.,\n",
       "        100.,  100.,  100.,  100.,  100.,  100.,  100.,  100.,  100.,\n",
       "        100.,  100.,  100.,  100.,  100.,  100.,  100.,  100.,  100.,\n",
       "        100.,  100.,  100.,  100.,  100.,  100.,  100.,  100.,  100.,\n",
       "        100.,  100.,  100.,  100.,  100.,  100.,  100.,  100.,  100.,\n",
       "        100.,  100.,   nan])"
      ]
     },
     "execution_count": 33,
     "metadata": {},
     "output_type": "execute_result"
    }
   ],
   "source": [
    "us_pop_0014[\"values\"][0,:] + us_pop_1564[\"values\"][0,:] + us_pop_6500[\"values\"][0,:]"
   ]
  },
  {
   "cell_type": "markdown",
   "metadata": {},
   "source": [
    "Yup, looks like.  Now we'll make a stackplot.  This is a plot where we're showing the area included in each, and putting one on top of the other.  This type of plot is useful for when you want to show the variation in composition over time of different quantities."
   ]
  },
  {
   "cell_type": "code",
   "execution_count": 34,
   "metadata": {
    "collapsed": false,
    "deletable": true,
    "editable": true
   },
   "outputs": [
    {
     "data": {
      "text/plain": [
       "(0, 100)"
      ]
     },
     "execution_count": 34,
     "metadata": {},
     "output_type": "execute_result"
    },
    {
     "data": {
      "image/png": "[encoded data removed]",
      "text/plain": [
       "<matplotlib.figure.Figure at 0x7fc124672240>"
      ]
     },
     "metadata": {},
     "output_type": "display_data"
    }
   ],
   "source": [
    "plt.stackplot(years,\n",
    "              us_pop_0014[\"values\"][0,:],\n",
    "              us_pop_1564[\"values\"][0,:],\n",
    "              us_pop_6500[\"values\"][0,:],\n",
    "             labels = [\"0-14\", \"15-64\", \"65+\"])\n",
    "plt.legend(loc=\"center left\")\n",
    "plt.xlabel(\"Years\")\n",
    "plt.ylabel(\"Percentage\")\n",
    "plt.xlim(1960, 2015)\n",
    "plt.ylim(0, 100)"
   ]
  },
  {
   "cell_type": "markdown",
   "metadata": {},
   "source": [
    "We can plot both the line plots and the stacked plots next to each other to get a more visual comparison between them."
   ]
  },
  {
   "cell_type": "code",
   "execution_count": 35,
   "metadata": {
    "collapsed": false,
    "deletable": true,
    "editable": true
   },
   "outputs": [
    {
     "data": {
      "text/plain": [
       "[<matplotlib.lines.Line2D at 0x7fc12359be10>]"
      ]
     },
     "execution_count": 35,
     "metadata": {},
     "output_type": "execute_result"
    },
    {
     "data": {
      "image/png": "[encoded data removed]",
      "text/plain": [
       "<matplotlib.figure.Figure at 0x7fc1241095f8>"
      ]
     },
     "metadata": {},
     "output_type": "display_data"
    }
   ],
   "source": [
    "baseline = us_pop_1564[\"values\"][0,:]\n",
    "plt.subplot(2,1,1)\n",
    "plt.stackplot(years,\n",
    "              us_pop_0014[\"values\"][0,:],\n",
    "              us_pop_1564[\"values\"][0,:],\n",
    "              us_pop_6500[\"values\"][0,:],\n",
    "             labels = [\"0-14\", \"15-64\", \"65+\"])\n",
    "plt.legend(loc=\"center left\")\n",
    "plt.xlabel(\"Years\")\n",
    "plt.ylabel(\"Percentage\")\n",
    "plt.xlim(1960, 2015)\n",
    "plt.ylim(0, 100)\n",
    "plt.subplot(2,1,2)\n",
    "plt.plot(years, us_pop_0014[\"values\"][0,:]/baseline)\n",
    "plt.plot(years, us_pop_1564[\"values\"][0,:]/baseline)\n",
    "plt.plot(years, us_pop_6500[\"values\"][0,:]/baseline)"
   ]
  },
  {
   "cell_type": "markdown",
   "metadata": {},
   "source": [
    "What about things that don't \"stack\" to a constant value, but a value varying over time?  We can also use a stack plot here, which shows the trendlines, but note that it's not always going to be as clearly demonstrative of the relative percentages.  While it shows composition, extracting from that the specific composition is not trivial."
   ]
  },
  {
   "cell_type": "code",
   "execution_count": 36,
   "metadata": {
    "collapsed": true,
    "deletable": true,
    "editable": true
   },
   "outputs": [],
   "source": [
    "pop_urban = united_states.filter_eq(\"Indicator Name\", \"Population in urban agglomerations of more than 1 million\")\n",
    "pop_total = united_states.filter_eq(\"Indicator Name\", \"Population, total\")\n",
    "pop_urban = pop_urban[\"values\"][0,:]\n",
    "pop_total = pop_total[\"values\"][0,:]\n",
    "pop_non_urban = pop_total - pop_urban"
   ]
  },
  {
   "cell_type": "code",
   "execution_count": 37,
   "metadata": {
    "collapsed": false,
    "deletable": true,
    "editable": true
   },
   "outputs": [
    {
     "data": {
      "text/plain": [
       "<matplotlib.legend.Legend at 0x7fc134f48c88>"
      ]
     },
     "execution_count": 37,
     "metadata": {},
     "output_type": "execute_result"
    },
    {
     "data": {
      "image/png": "[encoded data removed]",
      "text/plain": [
       "<matplotlib.figure.Figure at 0x7fc123d04fd0>"
      ]
     },
     "metadata": {},
     "output_type": "display_data"
    }
   ],
   "source": [
    "plt.stackplot(years, pop_non_urban, pop_urban, labels=[\"Non-Urban\", \"Urban\"])\n",
    "plt.xlabel(\"Years\")\n",
    "plt.ylabel(\"People\")\n",
    "plt.legend()"
   ]
  }
 ],
 "metadata": {
  "kernelspec": {
   "display_name": "Python 3",
   "language": "python",
   "name": "python3"
  },
  "language_info": {
   "codemirror_mode": {
    "name": "ipython",
    "version": 3
   },
   "file_extension": ".py",
   "mimetype": "text/x-python",
   "name": "python",
   "nbconvert_exporter": "python",
   "pygments_lexer": "ipython3",
   "version": "3.5.3"
  },
  "widgets": {
   "state": {
    "0d498d21f57d48bfa91d77419839a53b": {
     "views": [
      {
       "cell_index": 50
      }
     ]
    },
    "b41dd22170f8499685480d24cc771566": {
     "views": [
      {
       "cell_index": 47
      }
     ]
    },
    "c36f55f7ddc8463ebaca4a35fd8eafe6": {
     "views": [
      {
       "cell_index": 41
      }
     ]
    }
   },
   "version": "1.2.0"
  }
 },
 "nbformat": 4,
 "nbformat_minor": 2
}
