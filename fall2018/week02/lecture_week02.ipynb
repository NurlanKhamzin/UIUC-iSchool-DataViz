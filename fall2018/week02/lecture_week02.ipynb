{
 "cells": [
  {
   "cell_type": "markdown",
   "metadata": {},
   "source": [
    "# Week 02 - What is data?"
   ]
  },
  {
   "cell_type": "markdown",
   "metadata": {},
   "source": [
    "Notes taken from http://paldhous.github.io/ucb/2016/dataviz/week1.html"
   ]
  },
  {
   "cell_type": "markdown",
   "metadata": {},
   "source": [
    "## Working with Categorical Data\n",
    "\n",
    "The most basic operation with cateogircal data is to aggregate it by counting the number of records that fall into each category. This gives a table of \"frequencies\". Often these are divided by the total number of records, and then multiplied by 100 to show them as percentages of the total. Here in this example, showing data on the Iris flower."
   ]
  },
  {
   "cell_type": "code",
   "execution_count": 2,
   "metadata": {},
   "outputs": [],
   "source": [
    "import csv\n",
    "vi_count = 0\n",
    "ve_count = 0\n",
    "s_count = 0\n",
    "count = 0\n",
    "f = open(\"data/iris.csv\")\n",
    "csv_reader = csv.reader(f)\n",
    "header = next(csv_reader)"
   ]
  },
  {
   "cell_type": "code",
   "execution_count": 3,
   "metadata": {},
   "outputs": [
    {
     "data": {
      "text/plain": [
       "['sepal length in cm',\n",
       " ' sepal width in cm',\n",
       " ' petal length in cm',\n",
       " ' petal width in cm',\n",
       " ' class']"
      ]
     },
     "execution_count": 3,
     "metadata": {},
     "output_type": "execute_result"
    }
   ],
   "source": [
    "header"
   ]
  },
  {
   "cell_type": "code",
   "execution_count": 4,
   "metadata": {
    "scrolled": true
   },
   "outputs": [
    {
     "name": "stdout",
     "output_type": "stream",
     "text": [
      "The number of Iris-virginica in dataset: 50 the percentage in dataset: 33.11258278145696\n",
      "\n",
      "The number of Iris-veriscolor in dataset: 50 the percentage in dataset: 33.11258278145696\n",
      "\n",
      "The number of Iris-setosa in dataset: 50 the percentage in dataset: 33.11258278145696\n",
      "\n"
     ]
    }
   ],
   "source": [
    "import csv\n",
    "vi_count = 0\n",
    "ve_count = 0\n",
    "s_count = 0\n",
    "count = 0\n",
    "f = open(\"data/iris.csv\")\n",
    "csv_reader = csv.reader(f)\n",
    "for line in csv_reader:\n",
    "    name = line[4]\n",
    "    count += 1\n",
    "    if name == \"Iris-virginica\":\n",
    "        vi_count += 1\n",
    "    elif name == \"Iris-versicolor\":\n",
    "        ve_count += 1\n",
    "    elif name == \"Iris-setosa\":\n",
    "        s_count += 1\n",
    "print(\"The number of Iris-virginica in dataset: \" + str(vi_count) + \" the percentage in dataset: \" + str((vi_count/count) * 100) + \"\\n\")\n",
    "print(\"The number of Iris-veriscolor in dataset: \" + str(ve_count) + \" the percentage in dataset: \" + str((ve_count/count) * 100) + \"\\n\")\n",
    "print(\"The number of Iris-setosa in dataset: \" + str(s_count) + \" the percentage in dataset: \" + str((vi_count/count) * 100) + \"\\n\")\n",
    "        "
   ]
  },
  {
   "cell_type": "markdown",
   "metadata": {},
   "source": [
    "Creating frequency counts from categorical data creates a new continuous variables, and has changed the level of analysis. The original data would consist of a huge table with a record for each flower, noting their class as categorical variables; in creating the frequency data shown here, the level of analysis is shifted from the individual to the class."
   ]
  },
  {
   "cell_type": "markdown",
   "metadata": {},
   "source": [
    "We can ask more interesting questions by considering two categorical variables together — as pioneering data journalist Philip Meyer showed when he collected and analyzed survey data to examine the causes of the 1967 Detroit Riot. In July of that year, one of the worst riots in U.S. history raged in the city for five days, following a police raid on an unlicensed after-hours bar. By the time calm was restored, 43 people were dead, 467 injured and more than 2,000 buildings were destroyed.We can also append values."
   ]
  },
  {
   "cell_type": "markdown",
   "metadata": {},
   "source": [
    "At the time, Detroit was regarded as being a leader in race relations, so local racial discrimination was not initially seen as one of the main underlying causes of what happened. One popular theory at the time was that the riots were led by black residents who had moved to Detroit from the rural South. Meyer demolished this idea by examining data on whether or not the people surveyed had rioted, and whether they were brought up in the South or the North. He combined these results into a “contingency table” or “cross-tab”:"
   ]
  },
  {
   "cell_type": "markdown",
   "metadata": {},
   "source": [
    "|        | South | North | Total |\n",
    "| ------------- |:-------------:| -----:|\n",
    "| Rioters  | 19 | 51 | 70 |\n",
    "| Non-rioters | 218 | 149 | 367 |\n",
    "| Total | 237 | 200 | 437 |"
   ]
  },
  {
   "cell_type": "markdown",
   "metadata": {},
   "source": [
    "It certainly looks from these numbers as if Northerners were more likely to have participated in the riot. There’s a message here: sometimes a table of numbers is a perfectly acceptable way to communicate a simple story — we don’t always need fancy charts.\n",
    "\n",
    "But Meyer’s team only interviewed a sample of people from the affected neighborhoods, not everyone who lived there. If they had taken another sample, might they have obtained different results? This is one example where some more sophisticated statistical analysis can help. For contingency tables, a method known as the chi-squared test asks the relevant question: if Southerners and Northerners were in fact equally likely to have rioted, what is the likelihood of obtaining a sample as biased as this by chance alone? In this case, the chi-squared test told Meyer that the probability was less than one in a thousand. So Meyer felt confident writing in the newspaper that Northerners were more likely to have rioted. His work won a Pulitzer Prize for the Detroit Free Press and shifted the focus of political debate about the riot to racial discrimination in policing and housing in Detroit."
   ]
  },
  {
   "cell_type": "markdown",
   "metadata": {},
   "source": [
    "## Sampling and Margins of ERROR\n",
    "\n",
    "Philip Meyer’s analysis of the Detroit riot raises a general issue: only sometimes is it possible to obtain and analyze all of the data.\n",
    "\n",
    "There are only 30 teams in Major League Baseball, which at the start of the 2014 season had just under 750 players on their rosters. So compiling all of the data on their contracts and salaries is a manageable task.\n",
    "\n",
    "But Meyer’s team couldn’t talk to all of the people in the riot-affected neighborhoods, and pollsters can’t ask every voter which candidate they intend to vote for in an upcoming election. Instead they take a sample. This is common in many forms of data analysis, not just opinion polling.\n",
    "\n",
    "For a sample to be valid, it must obey a simple statistical rule: every member of the group to which you wish to generalize the results of your analysis must have an equal chance of being included.\n",
    "\n",
    "Entire textbooks have been written on sampling methods. The simplest form is random sampling — such as when numbers are written on pieces of paper, put into a bag, shaken up, and then drawn out one by one. Opinion pollsters often generate their samples by randomly generating valid telephone numbers, and calling the households concerned.\n",
    "\n",
    "But there are other methods, and important thing is not that a sample was derived randomly, but that it is representative of the group from which it is drawn. In other words, sampling needs to avoid systematic bias that makes particular data points more or less likely to be included.\n",
    "\n",
    "Be especially wary of using data from any sample that was not selected to be representative of a wider group. Media organizations frequently run informal online “polls” to engage their audience, but they tell us little about public opinion, as people who happened to visit a news website and cared enough to answer the questions posed may not be representative of the wider population.\n",
    "\n",
    "To have a good chance of being representative, samples must also be sufficiently large. If you randomly sample ten people, for instance, chance effects mean that you may draw a sample that contains eight women and two men, or perhaps no men at all. Sample 1,000 people from the same population, however, and the proportions of men and women sampled won’t deviate so far from an even split.\n",
    "\n",
    "This is why polls often give a “margin of error,” which is a measure of the uncertainty that arises from taking a relatively small sample. These margins of error are usually derived from a range of values that statisticians call the “95% confidence interval.” This means that if the same population were sampled repeatedly, the results would fall within this range of values 95 times out of 100.\n",
    "\n",
    "When dealing with polling and survey data, look for the margins of error. Be careful not to mislead your audience by making a big deal of differences that may just be due to sampling error."
   ]
  },
  {
   "cell_type": "markdown",
   "metadata": {},
   "source": [
    "## Working with continuous data: consider the distribution"
   ]
  },
  {
   "cell_type": "markdown",
   "metadata": {},
   "source": [
    "When handling continuous data, there are more possibilities for aggregation than simply counting: you can add the numbers to give a total, for example, or calculate an average.\n",
    "\n",
    "But summarizing continuous data in a single value inevitably loses a lot of information held in variation within the data. Understanding this variation may be key to working out the story the data may tell, and deciding how to analyze and visualize it. So often the first thing a good data journalist does when examining a dataset is to chart the distribution of each continuous variable. You can think of this as the “shape” of the dataset, for each variable.\n",
    "\n",
    "Many variables, such as human height and weight, follow a “normal” distribution. If you draw a graph plotting the range of values in the data along the horizontal axis (also known as the X axis), and the number of individual data points for each value on the vertical or Y axis, a normal distribution gives a bell-shaped curve."
   ]
  },
  {
   "cell_type": "markdown",
   "metadata": {},
   "source": [
    "We use the numpy module in Python, we can create a normal distribution plot. We do this by creating random data points in the numpy module. As shown below:"
   ]
  },
  {
   "cell_type": "code",
   "execution_count": 5,
   "metadata": {},
   "outputs": [
    {
     "data": {
      "text/plain": [
       "array([89.97416587, 93.04449787, 90.80871699, ..., 87.7264632 ,\n",
       "       91.13762499, 91.97766999])"
      ]
     },
     "execution_count": 5,
     "metadata": {},
     "output_type": "execute_result"
    }
   ],
   "source": [
    "import numpy as np\n",
    "import matplotlib.pyplot as plt\n",
    "values = np.random.normal(90,2,10000)\n",
    "values"
   ]
  },
  {
   "cell_type": "markdown",
   "metadata": {},
   "source": [
    "Now that we have our data, we can create our normal distribution plot. We have a normal distribution plot centered around a mean of 90 showing 2 standard deviations of the data, and creates 100000 random data points that are of normal distribution."
   ]
  },
  {
   "cell_type": "code",
   "execution_count": 6,
   "metadata": {
    "scrolled": true
   },
   "outputs": [
    {
     "data": {
      "text/plain": [
       "(array([  1.,   0.,   0.,   0.,   6.,   1.,   7.,  11.,  13.,  24.,  31.,\n",
       "         46.,  83.,  94., 130., 181., 230., 290., 320., 381., 454., 479.,\n",
       "        538., 570., 621., 684., 631., 593., 615., 532., 440., 401., 354.,\n",
       "        274., 234., 202., 156., 116.,  80.,  54.,  36.,  28.,  24.,   9.,\n",
       "         14.,   5.,   3.,   1.,   2.,   1.]),\n",
       " array([81.88846253, 82.20504574, 82.52162894, 82.83821215, 83.15479535,\n",
       "        83.47137855, 83.78796176, 84.10454496, 84.42112817, 84.73771137,\n",
       "        85.05429458, 85.37087778, 85.68746099, 86.00404419, 86.32062739,\n",
       "        86.6372106 , 86.9537938 , 87.27037701, 87.58696021, 87.90354342,\n",
       "        88.22012662, 88.53670983, 88.85329303, 89.16987623, 89.48645944,\n",
       "        89.80304264, 90.11962585, 90.43620905, 90.75279226, 91.06937546,\n",
       "        91.38595866, 91.70254187, 92.01912507, 92.33570828, 92.65229148,\n",
       "        92.96887469, 93.28545789, 93.6020411 , 93.9186243 , 94.2352075 ,\n",
       "        94.55179071, 94.86837391, 95.18495712, 95.50154032, 95.81812353,\n",
       "        96.13470673, 96.45128993, 96.76787314, 97.08445634, 97.40103955,\n",
       "        97.71762275]),\n",
       " <a list of 50 Patch objects>)"
      ]
     },
     "execution_count": 6,
     "metadata": {},
     "output_type": "execute_result"
    },
    {
     "data": {
      "image/png": "[encoded data removed]",
      "text/plain": [
       "<Figure size 432x288 with 1 Axes>"
      ]
     },
     "metadata": {},
     "output_type": "display_data"
    }
   ],
   "source": [
    "plt.hist(values, 50)"
   ]
  },
  {
   "cell_type": "markdown",
   "metadata": {},
   "source": [
    "This plot has a mean of centered around 90 and show the data out to and 3 standard deviations. Normal distributions are so common that many statistical methods have been invented specifically to work with them. It is also possible to run tests to tell whether data deviates significantly from a normal distribution, to check whether it’s valid to use these methods."
   ]
  },
  {
   "cell_type": "markdown",
   "metadata": {
    "collapsed": true
   },
   "source": [
    "Sometimes, however, it’s very clear just from looking at the shape of a dataset that it is not normally distributed. Here, for example, is the distribution of 2014 Major League Baseball salaries, drawn as columns in increments of $500,000. This type of chart is called a histogram:"
   ]
  },
  {
   "cell_type": "code",
   "execution_count": 7,
   "metadata": {},
   "outputs": [
    {
     "name": "stderr",
     "output_type": "stream",
     "text": [
      "/anaconda3/lib/python3.6/site-packages/ipykernel_launcher.py:3: FutureWarning: from_csv is deprecated. Please use read_csv(...) instead. Note that some of the default arguments are different, so please refer to the documentation for from_csv when changing your function calls\n",
      "  This is separate from the ipykernel package so we can avoid doing imports until\n"
     ]
    },
    {
     "data": {
      "image/png": "[encoded data removed]",
      "text/plain": [
       "<Figure size 432x288 with 1 Axes>"
      ]
     },
     "metadata": {},
     "output_type": "display_data"
    }
   ],
   "source": [
    "import pandas as pd\n",
    "import matplotlib.pyplot as plt\n",
    "df = pd.DataFrame.from_csv(\"data/mlb_salaries_2014.csv\")\n",
    "plt.hist(df['salary_mil'])\n",
    "plt.show()\n"
   ]
  },
  {
   "cell_type": "markdown",
   "metadata": {},
   "source": [
    "This distribution is highly “skewed.” Almost half of the players were paid less than 1 million, while there are just a handful of players who were paid more than 20 million; the highest-paid was pitcher Zack Grienke, paid $26 million by the Los Angeles Dodgers. Knowing this distribution may influence the story you would choose to tell from the data, the summary statistics you would choose to aggregate it, and the methods you might use to visualize it."
   ]
  },
  {
   "cell_type": "markdown",
   "metadata": {},
   "source": [
    "## Beyond the “average”: mean, median, and mode\n",
    "\n",
    "\n",
    "Most people know how to calculate an average: add everything up, and divide this sum by the total number of values. Statisticians call this summary the “mean,” and for normally distributed data, it sits right on the top of the bell curve.\n",
    "\n",
    "The mean is just one example of what statisticians call a “measure of central tendency.” The most common alternative is the “median,” which is the number that sits in the middle, when all the values are arranged in order. (If you have an even number of values, and no single number occupies the middle position, it would be the average of the two middle values.)\n",
    "\n",
    "Statisticians also sometimes consider the “mode,” which is the value that appears most frequently in the dataset.\n",
    "\n",
    "For a perfect normal distribution, the mean, median and mode are all the same number. But for a skewed dataset like the baseball salaries, they may be very different — and using the mean can paint a rather misleading picture."
   ]
  },
  {
   "cell_type": "markdown",
   "metadata": {},
   "source": [
    "## Calculate Mean, Median, and Mode"
   ]
  },
  {
   "cell_type": "markdown",
   "metadata": {},
   "source": [
    "First the calculate the mean of the MLB players salaries in 2014."
   ]
  },
  {
   "cell_type": "code",
   "execution_count": 8,
   "metadata": {},
   "outputs": [
    {
     "name": "stdout",
     "output_type": "stream",
     "text": [
      "The mean of MLB Players Salaries in 2014: 3988095.22386059\n"
     ]
    },
    {
     "name": "stderr",
     "output_type": "stream",
     "text": [
      "/anaconda3/lib/python3.6/site-packages/ipykernel_launcher.py:2: FutureWarning: from_csv is deprecated. Please use read_csv(...) instead. Note that some of the default arguments are different, so please refer to the documentation for from_csv when changing your function calls\n",
      "  \n"
     ]
    }
   ],
   "source": [
    "import pandas as pd\n",
    "df = pd.DataFrame.from_csv(\"data/mlb_salaries_2014.csv\")\n",
    "salary_mean = df['salary'].mean()\n",
    "print(\"The mean of MLB Players Salaries in 2014: \" + str(salary_mean))"
   ]
  },
  {
   "cell_type": "markdown",
   "metadata": {},
   "source": [
    "Now, lets calculate the median and the mode."
   ]
  },
  {
   "cell_type": "code",
   "execution_count": 9,
   "metadata": {},
   "outputs": [
    {
     "name": "stdout",
     "output_type": "stream",
     "text": [
      "The median of MLB Players Salaries in 2014: 1500000.0\n",
      "The mode of the MLB Players Salaries in 2014: 0    500000\n",
      "dtype: int64\n"
     ]
    }
   ],
   "source": [
    "salary_median = df['salary'].median()\n",
    "print(\"The median of MLB Players Salaries in 2014: \" + str(salary_median))\n",
    "\n",
    "salary_mode = df['salary'].mode()\n",
    "print(\"The mode of the MLB Players Salaries in 2014: \" + str(salary_mode))"
   ]
  },
  {
   "cell_type": "markdown",
   "metadata": {},
   "source": [
    "Across Major League Baseball at the start of the 2014 season, the mean salary was 3.99 million. But when summarizing a distribution in a single value, we usually want to give a “typical” number. Here the mean is inflated by the vast salaries paid to a handful of star players, and maybe a bad choice. The median salary of 1.5 million gives a more realistic view of what a typical MLB player was paid.\n",
    "\n",
    "The mode is less commonly used, but in this case also tells us something interesting: it was $500,000, a sum earned by 35 out of the 746 players. This was the minimum salary paid under 2014 MLB contracts, which explains why it turns up more frequently than any other number. A journalist who considered the median, mode and full range of the salary distribution may produce a richer story than one who failed to think beyond the “average.”"
   ]
  }
 ],
 "metadata": {
  "anaconda-cloud": {},
  "kernelspec": {
   "display_name": "Python 3",
   "language": "python",
   "name": "python3"
  },
  "language_info": {
   "codemirror_mode": {
    "name": "ipython",
    "version": 3
   },
   "file_extension": ".py",
   "mimetype": "text/x-python",
   "name": "python",
   "nbconvert_exporter": "python",
   "pygments_lexer": "ipython3",
   "version": "3.6.5"
  }
 },
 "nbformat": 4,
 "nbformat_minor": 2
}
