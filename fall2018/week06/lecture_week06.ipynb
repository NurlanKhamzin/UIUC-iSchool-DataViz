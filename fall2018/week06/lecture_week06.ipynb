{
 "cells": [
  {
   "cell_type": "markdown",
   "metadata": {},
   "source": [
    "#  Four Basic Methods of Visual Data Analysis\n",
    "\n",
    "This week, we will apply some of our discussions around filtering, splitting and so on to build out comparisons between different variables within our dataset based on cereal nutrition data."
   ]
  },
  {
   "cell_type": "markdown",
   "metadata": {},
   "source": [
    "First, lets get to know our data and then have a better understanding of the four basic methods."
   ]
  },
  {
   "cell_type": "code",
   "execution_count": 1,
   "metadata": {},
   "outputs": [],
   "source": [
    "%matplotlib inline"
   ]
  },
  {
   "cell_type": "code",
   "execution_count": 2,
   "metadata": {},
   "outputs": [],
   "source": [
    "import pandas as pd\n",
    "df = pd.read_csv(\"data/cereal.csv\")"
   ]
  },
  {
   "cell_type": "code",
   "execution_count": 3,
   "metadata": {},
   "outputs": [],
   "source": [
    "import numpy as np\n",
    "import matplotlib.pyplot as plt\n",
    "import ipywidgets\n",
    "\n",
    "plt.rcParams[\"figure.figsize\"] = (6, 5)"
   ]
  },
  {
   "cell_type": "markdown",
   "metadata": {},
   "source": [
    "Let's see what data is available."
   ]
  },
  {
   "cell_type": "code",
   "execution_count": 4,
   "metadata": {},
   "outputs": [
    {
     "data": {
      "text/html": [
       "<div>\n",
       "<style scoped>\n",
       "    .dataframe tbody tr th:only-of-type {\n",
       "        vertical-align: middle;\n",
       "    }\n",
       "\n",
       "    .dataframe tbody tr th {\n",
       "        vertical-align: top;\n",
       "    }\n",
       "\n",
       "    .dataframe thead th {\n",
       "        text-align: right;\n",
       "    }\n",
       "</style>\n",
       "<table border=\"1\" class=\"dataframe\">\n",
       "  <thead>\n",
       "    <tr style=\"text-align: right;\">\n",
       "      <th></th>\n",
       "      <th>name</th>\n",
       "      <th>mfr</th>\n",
       "      <th>type</th>\n",
       "      <th>calories</th>\n",
       "      <th>protein</th>\n",
       "      <th>fat</th>\n",
       "      <th>sodium</th>\n",
       "      <th>fiber</th>\n",
       "      <th>carbo</th>\n",
       "      <th>sugars</th>\n",
       "      <th>potass</th>\n",
       "      <th>vitamins</th>\n",
       "      <th>shelf</th>\n",
       "      <th>weight</th>\n",
       "      <th>cups</th>\n",
       "      <th>rating</th>\n",
       "    </tr>\n",
       "  </thead>\n",
       "  <tbody>\n",
       "    <tr>\n",
       "      <th>0</th>\n",
       "      <td>100% Bran</td>\n",
       "      <td>N</td>\n",
       "      <td>C</td>\n",
       "      <td>70</td>\n",
       "      <td>4</td>\n",
       "      <td>1</td>\n",
       "      <td>130</td>\n",
       "      <td>10.0</td>\n",
       "      <td>5.0</td>\n",
       "      <td>6</td>\n",
       "      <td>280</td>\n",
       "      <td>25</td>\n",
       "      <td>3</td>\n",
       "      <td>1.0</td>\n",
       "      <td>0.33</td>\n",
       "      <td>68.402973</td>\n",
       "    </tr>\n",
       "    <tr>\n",
       "      <th>1</th>\n",
       "      <td>100% Natural Bran</td>\n",
       "      <td>Q</td>\n",
       "      <td>C</td>\n",
       "      <td>120</td>\n",
       "      <td>3</td>\n",
       "      <td>5</td>\n",
       "      <td>15</td>\n",
       "      <td>2.0</td>\n",
       "      <td>8.0</td>\n",
       "      <td>8</td>\n",
       "      <td>135</td>\n",
       "      <td>0</td>\n",
       "      <td>3</td>\n",
       "      <td>1.0</td>\n",
       "      <td>1.00</td>\n",
       "      <td>33.983679</td>\n",
       "    </tr>\n",
       "    <tr>\n",
       "      <th>2</th>\n",
       "      <td>All-Bran</td>\n",
       "      <td>K</td>\n",
       "      <td>C</td>\n",
       "      <td>70</td>\n",
       "      <td>4</td>\n",
       "      <td>1</td>\n",
       "      <td>260</td>\n",
       "      <td>9.0</td>\n",
       "      <td>7.0</td>\n",
       "      <td>5</td>\n",
       "      <td>320</td>\n",
       "      <td>25</td>\n",
       "      <td>3</td>\n",
       "      <td>1.0</td>\n",
       "      <td>0.33</td>\n",
       "      <td>59.425505</td>\n",
       "    </tr>\n",
       "    <tr>\n",
       "      <th>3</th>\n",
       "      <td>All-Bran with Extra Fiber</td>\n",
       "      <td>K</td>\n",
       "      <td>C</td>\n",
       "      <td>50</td>\n",
       "      <td>4</td>\n",
       "      <td>0</td>\n",
       "      <td>140</td>\n",
       "      <td>14.0</td>\n",
       "      <td>8.0</td>\n",
       "      <td>0</td>\n",
       "      <td>330</td>\n",
       "      <td>25</td>\n",
       "      <td>3</td>\n",
       "      <td>1.0</td>\n",
       "      <td>0.50</td>\n",
       "      <td>93.704912</td>\n",
       "    </tr>\n",
       "    <tr>\n",
       "      <th>4</th>\n",
       "      <td>Almond Delight</td>\n",
       "      <td>R</td>\n",
       "      <td>C</td>\n",
       "      <td>110</td>\n",
       "      <td>2</td>\n",
       "      <td>2</td>\n",
       "      <td>200</td>\n",
       "      <td>1.0</td>\n",
       "      <td>14.0</td>\n",
       "      <td>8</td>\n",
       "      <td>-1</td>\n",
       "      <td>25</td>\n",
       "      <td>3</td>\n",
       "      <td>1.0</td>\n",
       "      <td>0.75</td>\n",
       "      <td>34.384843</td>\n",
       "    </tr>\n",
       "  </tbody>\n",
       "</table>\n",
       "</div>"
      ],
      "text/plain": [
       "                        name mfr type  calories  protein  fat  sodium  fiber  \\\n",
       "0                  100% Bran   N    C        70        4    1     130   10.0   \n",
       "1          100% Natural Bran   Q    C       120        3    5      15    2.0   \n",
       "2                   All-Bran   K    C        70        4    1     260    9.0   \n",
       "3  All-Bran with Extra Fiber   K    C        50        4    0     140   14.0   \n",
       "4             Almond Delight   R    C       110        2    2     200    1.0   \n",
       "\n",
       "   carbo  sugars  potass  vitamins  shelf  weight  cups     rating  \n",
       "0    5.0       6     280        25      3     1.0  0.33  68.402973  \n",
       "1    8.0       8     135         0      3     1.0  1.00  33.983679  \n",
       "2    7.0       5     320        25      3     1.0  0.33  59.425505  \n",
       "3    8.0       0     330        25      3     1.0  0.50  93.704912  \n",
       "4   14.0       8      -1        25      3     1.0  0.75  34.384843  "
      ]
     },
     "execution_count": 4,
     "metadata": {},
     "output_type": "execute_result"
    }
   ],
   "source": [
    "df.head()"
   ]
  },
  {
   "cell_type": "markdown",
   "metadata": {},
   "source": [
    "Wow! OK, so, we have a column for the different types of nutrition data available. Other than that, we have an name, cups and rating. Let's get to know our data."
   ]
  },
  {
   "cell_type": "code",
   "execution_count": 5,
   "metadata": {},
   "outputs": [
    {
     "data": {
      "text/plain": [
       "array(['100% Bran', '100% Natural Bran', 'All-Bran',\n",
       "       'All-Bran with Extra Fiber', 'Almond Delight',\n",
       "       'Apple Cinnamon Cheerios', 'Apple Jacks', 'Basic 4', 'Bran Chex',\n",
       "       'Bran Flakes', \"Cap'n'Crunch\", 'Cheerios', 'Cinnamon Toast Crunch',\n",
       "       'Clusters', 'Cocoa Puffs', 'Corn Chex', 'Corn Flakes', 'Corn Pops',\n",
       "       'Count Chocula', \"Cracklin' Oat Bran\", 'Cream of Wheat (Quick)',\n",
       "       'Crispix', 'Crispy Wheat & Raisins', 'Double Chex', 'Froot Loops',\n",
       "       'Frosted Flakes', 'Frosted Mini-Wheats',\n",
       "       'Fruit & Fibre Dates; Walnuts; and Oats', 'Fruitful Bran',\n",
       "       'Fruity Pebbles', 'Golden Crisp', 'Golden Grahams',\n",
       "       'Grape Nuts Flakes', 'Grape-Nuts', 'Great Grains Pecan',\n",
       "       'Honey Graham Ohs', 'Honey Nut Cheerios', 'Honey-comb',\n",
       "       'Just Right Crunchy  Nuggets', 'Just Right Fruit & Nut', 'Kix',\n",
       "       'Life', 'Lucky Charms', 'Maypo',\n",
       "       'Muesli Raisins; Dates; & Almonds',\n",
       "       'Muesli Raisins; Peaches; & Pecans', 'Mueslix Crispy Blend',\n",
       "       'Multi-Grain Cheerios', 'Nut&Honey Crunch',\n",
       "       'Nutri-Grain Almond-Raisin', 'Nutri-grain Wheat',\n",
       "       'Oatmeal Raisin Crisp', 'Post Nat. Raisin Bran', 'Product 19',\n",
       "       'Puffed Rice', 'Puffed Wheat', 'Quaker Oat Squares',\n",
       "       'Quaker Oatmeal', 'Raisin Bran', 'Raisin Nut Bran',\n",
       "       'Raisin Squares', 'Rice Chex', 'Rice Krispies', 'Shredded Wheat',\n",
       "       \"Shredded Wheat 'n'Bran\", 'Shredded Wheat spoon size', 'Smacks',\n",
       "       'Special K', 'Strawberry Fruit Wheats', 'Total Corn Flakes',\n",
       "       'Total Raisin Bran', 'Total Whole Grain', 'Triples', 'Trix',\n",
       "       'Wheat Chex', 'Wheaties', 'Wheaties Honey Gold'], dtype=object)"
      ]
     },
     "execution_count": 5,
     "metadata": {},
     "output_type": "execute_result"
    }
   ],
   "source": [
    "np.unique(df['name'])"
   ]
  },
  {
   "cell_type": "code",
   "execution_count": 6,
   "metadata": {},
   "outputs": [
    {
     "data": {
      "text/plain": [
       "77"
      ]
     },
     "execution_count": 6,
     "metadata": {},
     "output_type": "execute_result"
    }
   ],
   "source": [
    "np.unique(df['name']).size"
   ]
  },
  {
   "cell_type": "markdown",
   "metadata": {},
   "source": [
    "There are four basic methods of data analysis that help us turn numbers into knowledge:\n",
    "\n",
    "* Comparison\n",
    "* Composition\n",
    "* Distribution\n",
    "* Relationship\n"
   ]
  },
  {
   "cell_type": "markdown",
   "metadata": {},
   "source": [
    "## Comparison"
   ]
  },
  {
   "cell_type": "markdown",
   "metadata": {},
   "source": [
    "Comparison is probably the most common and easy-to-understand method for data analysis. The goal is to use comparison in order to evaluate and compare values between two or more data points. For example, comparison can be used to find the lowest and highest values in the chart."
   ]
  },
  {
   "cell_type": "markdown",
   "metadata": {},
   "source": [
    "The most common subset of comparison charts are called <b>trends</b>. Trend charts usually have a time axis and one or several value axes, which are used to show how a data set performed during a specific time period."
   ]
  },
  {
   "cell_type": "markdown",
   "metadata": {},
   "source": [
    "Comparisons are typically made with the following goals:\n",
    "* To compare two or more values side by side to visually grasp the difference\n",
    "* To list key values to quickly find and read them (i.e., revenue per month)\n",
    "* To rank several data categories from best to worst or the other way around\n",
    "* To show pattern recognition by visualing highlighting gaps, spikes, outliers, or trends\n",
    "\n",
    "The best char types to use for data comparison include:\n",
    "* column\n",
    "* bar\n",
    "* line or time-line"
   ]
  },
  {
   "cell_type": "markdown",
   "metadata": {},
   "source": [
    "Let's build bar chart to compare the calories of 10 cereals."
   ]
  },
  {
   "cell_type": "code",
   "execution_count": 7,
   "metadata": {},
   "outputs": [
    {
     "data": {
      "text/plain": [
       "[Text(0,0,'100% Bran'),\n",
       " Text(0,0,'100% Natural Bran'),\n",
       " Text(0,0,'All-Bran'),\n",
       " Text(0,0,'All-Bran with Extra Fiber'),\n",
       " Text(0,0,'Almond Delight'),\n",
       " Text(0,0,'Apple Cinnamon Cheerios'),\n",
       " Text(0,0,'Apple Jacks'),\n",
       " Text(0,0,'Basic 4'),\n",
       " Text(0,0,'Bran Chex'),\n",
       " Text(0,0,'Bran Flakes')]"
      ]
     },
     "execution_count": 7,
     "metadata": {},
     "output_type": "execute_result"
    },
    {
     "data": {
      "image/png": "[encoded data removed]",
      "text/plain": [
       "<Figure size 432x360 with 1 Axes>"
      ]
     },
     "metadata": {},
     "output_type": "display_data"
    }
   ],
   "source": [
    "ax = df[['name', 'calories']].head(10).plot(kind='bar', rot=90)\n",
    "x_labels = df['name']\n",
    "ax.set_ylabel(\"Number of Calories\")\n",
    "ax.set_xticklabels(x_labels)"
   ]
  },
  {
   "cell_type": "markdown",
   "metadata": {},
   "source": [
    "Now, it is your turn either use my dataset or another and build your own comparison chart."
   ]
  },
  {
   "cell_type": "markdown",
   "metadata": {},
   "source": [
    "## Composition\n",
    "\n",
    "Composition of data is probably the most misused method in data representation endeavors.\n",
    "\n",
    "The idea is to show how individual parts make up the whole by combining them together and displaying them as a sum. Composition can also be used to show how a total value can be divided into parts or to highlight the significance of each part relative to the total value.\n",
    "\n",
    "A typical misuse of this presentation type is done when there are too many parts, too many composition sets, the value differences between parts are too big, or any combination of this.\n",
    "\n",
    "Use data composition charts to show\n",
    "\n",
    "* Company market share and a few key players in the market\n",
    "* Total country population by TOP religions, languages, or ethnical groups\n",
    "* Total revenue, by TOP product lines, divisions, or regions\n",
    "\n",
    "Charts typically used for compositions include:\n",
    "\n",
    "* Stacked bars or columns\n",
    "* Pie or donut charts\n",
    "* Stacked area charts\n",
    "* Waterfall charts\n",
    "\n",
    "Quite a few people would argue that you should not use pie or donut charts because people are bad at evaluating angles. Some would say that you should avoid stacked area charts and waterfall charts because those are confusing and are often misunderstood."
   ]
  },
  {
   "cell_type": "code",
   "execution_count": 8,
   "metadata": {},
   "outputs": [
    {
     "data": {
      "text/plain": [
       "[Text(0,0,'100% Bran'),\n",
       " Text(0,0,'100% Natural Bran'),\n",
       " Text(0,0,'All-Bran'),\n",
       " Text(0,0,'All-Bran with Extra Fiber'),\n",
       " Text(0,0,'Almond Delight')]"
      ]
     },
     "execution_count": 8,
     "metadata": {},
     "output_type": "execute_result"
    },
    {
     "data": {
      "image/png": "[encoded data removed]",
      "text/plain": [
       "<Figure size 432x360 with 1 Axes>"
      ]
     },
     "metadata": {},
     "output_type": "display_data"
    }
   ],
   "source": [
    "ax = df[['fat', 'protein']].head(5).plot(kind='bar', stacked=True, rot=45)\n",
    "x_labels = df['name']\n",
    "ax.set_ylabel(\"Number of Fat and Protein\")\n",
    "ax.set_xticklabels(x_labels)"
   ]
  },
  {
   "cell_type": "markdown",
   "metadata": {},
   "source": [
    "Now, it is your turn either use my dataset or another and build your own composition chart."
   ]
  },
  {
   "cell_type": "markdown",
   "metadata": {},
   "source": [
    "## Distribution\n",
    "\n",
    "A distribution combines the merits and functionality of both Comparison and Composition. It can help you see the full data spectrum and visualize related or unrelated data points. With distribution you can see if there are any correlations, trends, patterns, shapes, clusters, averages, or outliers.\n",
    "\n",
    "A very common subset of distribution analysis often used in business reporting is Deviation or Variance analysis. These methods let you see which values deviate from the norm. Understanding deviations from targets, budgets, or growth rates is a common requirement in almost any company.\n",
    "\n",
    "Use a distribution or deviation visualizations chart to:\n",
    "\n",
    "* Visualize the distribution of ages in a group of people\n",
    "* Visualize the correlations between cause and effect\n",
    "* Spot bugs or constraints in production or quality control systems\n",
    "* Visualize sales in various stores, to spot best and worst performing ones\n",
    "\n",
    "Charts typically used for Distribution and Deviation:\n",
    "* Column and bar histogram charts\n",
    "* Line and area charts\n",
    "* Scatter plot charts\n",
    "* Data tables\n",
    "* Map charts\n"
   ]
  },
  {
   "cell_type": "code",
   "execution_count": 9,
   "metadata": {},
   "outputs": [
    {
     "data": {
      "text/plain": [
       "<matplotlib.axes._subplots.AxesSubplot at 0x110499d68>"
      ]
     },
     "execution_count": 9,
     "metadata": {},
     "output_type": "execute_result"
    },
    {
     "data": {
      "image/png": "[encoded data removed]",
      "text/plain": [
       "<Figure size 432x360 with 1 Axes>"
      ]
     },
     "metadata": {},
     "output_type": "display_data"
    }
   ],
   "source": [
    "df['calories'].hist()"
   ]
  },
  {
   "cell_type": "code",
   "execution_count": 10,
   "metadata": {},
   "outputs": [
    {
     "data": {
      "text/plain": [
       "<matplotlib.axes._subplots.AxesSubplot at 0x1104997b8>"
      ]
     },
     "execution_count": 10,
     "metadata": {},
     "output_type": "execute_result"
    },
    {
     "data": {
      "image/png": "[encoded data removed]",
      "text/plain": [
       "<Figure size 432x360 with 1 Axes>"
      ]
     },
     "metadata": {},
     "output_type": "display_data"
    }
   ],
   "source": [
    "df['fat'].hist()"
   ]
  },
  {
   "cell_type": "code",
   "execution_count": 11,
   "metadata": {},
   "outputs": [
    {
     "data": {
      "text/plain": [
       "<matplotlib.axes._subplots.AxesSubplot at 0x110600e10>"
      ]
     },
     "execution_count": 11,
     "metadata": {},
     "output_type": "execute_result"
    },
    {
     "data": {
      "image/png": "[encoded data removed]",
      "text/plain": [
       "<Figure size 432x360 with 1 Axes>"
      ]
     },
     "metadata": {},
     "output_type": "display_data"
    }
   ],
   "source": [
    "df['carbo'].hist()\n",
    "df['sugars'].hist()"
   ]
  },
  {
   "cell_type": "markdown",
   "metadata": {},
   "source": [
    "Now, it is your turn either use my dataset or another and build your own distribution chart."
   ]
  },
  {
   "cell_type": "markdown",
   "metadata": {},
   "source": [
    "## Relationship\n",
    "\n",
    "As the name suggests, these types of charts show the relationship, correlation, or connection of two or more variables and their properties.\n",
    "\n",
    "A good use of relationship graphs would be to demonstrate how something does or does not affect another variable positively or negatively. Somewhat similarly to distribution, you can use data relationships to find correlations, trends, patterns, clusters, averages, or outliers.\n",
    "\n",
    "Use a relationship chart to:\n",
    "\n",
    "* Estimate how marketing expenditures affect sales and profit.\n",
    "* Spot flaws in effectiveness by evaluating expenses vs. income by store or region.\n",
    "* Answer questions such as, “Does income level depend on IQ?” or “Do top tier business school graduates earn more in their careers?”\n",
    "\n",
    "Charts typically used for relationship charts:\n",
    "\n",
    "* Scatter plot (typically with two dimensions)\n",
    "* Bubble (three to four dimensions, using bubble size and color scale, or five dimensions with animation or layers)\n",
    "* Line (or lines, with two or more axes)\n",
    "* Table charts\n"
   ]
  },
  {
   "cell_type": "code",
   "execution_count": 12,
   "metadata": {},
   "outputs": [
    {
     "data": {
      "text/plain": [
       "<matplotlib.axes._subplots.AxesSubplot at 0x1106e9c18>"
      ]
     },
     "execution_count": 12,
     "metadata": {},
     "output_type": "execute_result"
    },
    {
     "data": {
      "image/png": "[encoded data removed]",
      "text/plain": [
       "<Figure size 432x360 with 1 Axes>"
      ]
     },
     "metadata": {},
     "output_type": "display_data"
    }
   ],
   "source": [
    "df.plot(kind='scatter', x='calories', y='rating')"
   ]
  },
  {
   "cell_type": "markdown",
   "metadata": {},
   "source": [
    "We can learn a lot from each one of these methods, it is our job to understand our goals and do our best to not add bias or miscontrue with the data visualizations."
   ]
  },
  {
   "cell_type": "markdown",
   "metadata": {},
   "source": [
    "Now, it is your turn either use my dataset or another and build your own relationship chart."
   ]
  },
  {
   "cell_type": "markdown",
   "metadata": {},
   "source": [
    "These slides/demos are based on concepts from: https://eazybi.com/blog/data_analysis_and_visualization/."
   ]
  }
 ],
 "metadata": {
  "kernelspec": {
   "display_name": "Python 3",
   "language": "python",
   "name": "python3"
  },
  "language_info": {
   "codemirror_mode": {
    "name": "ipython",
    "version": 3
   },
   "file_extension": ".py",
   "mimetype": "text/x-python",
   "name": "python",
   "nbconvert_exporter": "python",
   "pygments_lexer": "ipython3",
   "version": "3.6.5"
  },
  "widgets": {
   "state": {
    "0d498d21f57d48bfa91d77419839a53b": {
     "views": [
      {
       "cell_index": 50
      }
     ]
    },
    "b41dd22170f8499685480d24cc771566": {
     "views": [
      {
       "cell_index": 47
      }
     ]
    },
    "c36f55f7ddc8463ebaca4a35fd8eafe6": {
     "views": [
      {
       "cell_index": 41
      }
     ]
    }
   },
   "version": "1.2.0"
  }
 },
 "nbformat": 4,
 "nbformat_minor": 2
}
