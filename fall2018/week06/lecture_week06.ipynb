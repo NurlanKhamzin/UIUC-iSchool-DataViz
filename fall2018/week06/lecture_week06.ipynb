{
 "cells": [
  {
   "cell_type": "markdown",
   "metadata": {},
   "source": [
    "#  Four Basic Methods of Visual Data Analysis\n",
    "\n",
    "This week, we will apply some of our discussions around filtering, splitting and so on to build out comparisons between different variables within the World Bank Economic Indicators dataset."
   ]
  },
  {
   "cell_type": "markdown",
   "metadata": {},
   "source": [
    "This dataset, which covers 1960-2016, 264 countries and 1452 variables, can be obtained at the [Worldbank Data site](data.worldbank.org)."
   ]
  },
  {
   "cell_type": "markdown",
   "metadata": {},
   "source": [
    "First, lets get to know our data and then have a better understanding of the four basic methods."
   ]
  },
  {
   "cell_type": "code",
   "execution_count": 24,
   "metadata": {},
   "outputs": [],
   "source": [
    "%matplotlib inline"
   ]
  },
  {
   "cell_type": "code",
   "execution_count": 32,
   "metadata": {},
   "outputs": [],
   "source": [
    "import pandas as pd\n",
    "df = pd.read_csv(\"data/wdi.csv\")"
   ]
  },
  {
   "cell_type": "code",
   "execution_count": 33,
   "metadata": {},
   "outputs": [],
   "source": [
    "import numpy as np\n",
    "import matplotlib.pyplot as plt\n",
    "import ipywidgets\n",
    "\n",
    "plt.rcParams[\"figure.figsize\"] = (6, 5)"
   ]
  },
  {
   "cell_type": "markdown",
   "metadata": {},
   "source": [
    "Let's see what data is available."
   ]
  },
  {
   "cell_type": "code",
   "execution_count": 34,
   "metadata": {},
   "outputs": [
    {
     "data": {
      "text/html": [
       "<div>\n",
       "<style scoped>\n",
       "    .dataframe tbody tr th:only-of-type {\n",
       "        vertical-align: middle;\n",
       "    }\n",
       "\n",
       "    .dataframe tbody tr th {\n",
       "        vertical-align: top;\n",
       "    }\n",
       "\n",
       "    .dataframe thead th {\n",
       "        text-align: right;\n",
       "    }\n",
       "</style>\n",
       "<table border=\"1\" class=\"dataframe\">\n",
       "  <thead>\n",
       "    <tr style=\"text-align: right;\">\n",
       "      <th></th>\n",
       "      <th>CountryName</th>\n",
       "      <th>CountryCode</th>\n",
       "      <th>IndicatorName</th>\n",
       "      <th>IndicatorCode</th>\n",
       "      <th>Year</th>\n",
       "      <th>Value</th>\n",
       "    </tr>\n",
       "  </thead>\n",
       "  <tbody>\n",
       "    <tr>\n",
       "      <th>0</th>\n",
       "      <td>Arab World</td>\n",
       "      <td>ARB</td>\n",
       "      <td>Adolescent fertility rate (births per 1,000 wo...</td>\n",
       "      <td>SP.ADO.TFRT</td>\n",
       "      <td>1960.0</td>\n",
       "      <td>1.335609e+02</td>\n",
       "    </tr>\n",
       "    <tr>\n",
       "      <th>1</th>\n",
       "      <td>Arab World</td>\n",
       "      <td>ARB</td>\n",
       "      <td>Age dependency ratio (% of working-age populat...</td>\n",
       "      <td>SP.POP.DPND</td>\n",
       "      <td>1960.0</td>\n",
       "      <td>8.779760e+01</td>\n",
       "    </tr>\n",
       "    <tr>\n",
       "      <th>2</th>\n",
       "      <td>Arab World</td>\n",
       "      <td>ARB</td>\n",
       "      <td>Age dependency ratio, old (% of working-age po...</td>\n",
       "      <td>SP.POP.DPND.OL</td>\n",
       "      <td>1960.0</td>\n",
       "      <td>6.634579e+00</td>\n",
       "    </tr>\n",
       "    <tr>\n",
       "      <th>3</th>\n",
       "      <td>Arab World</td>\n",
       "      <td>ARB</td>\n",
       "      <td>Age dependency ratio, young (% of working-age ...</td>\n",
       "      <td>SP.POP.DPND.YG</td>\n",
       "      <td>1960.0</td>\n",
       "      <td>8.102333e+01</td>\n",
       "    </tr>\n",
       "    <tr>\n",
       "      <th>4</th>\n",
       "      <td>Arab World</td>\n",
       "      <td>ARB</td>\n",
       "      <td>Arms exports (SIPRI trend indicator values)</td>\n",
       "      <td>MS.MIL.XPRT.KD</td>\n",
       "      <td>1960.0</td>\n",
       "      <td>3.000000e+06</td>\n",
       "    </tr>\n",
       "  </tbody>\n",
       "</table>\n",
       "</div>"
      ],
      "text/plain": [
       "  CountryName CountryCode                                      IndicatorName  \\\n",
       "0  Arab World         ARB  Adolescent fertility rate (births per 1,000 wo...   \n",
       "1  Arab World         ARB  Age dependency ratio (% of working-age populat...   \n",
       "2  Arab World         ARB  Age dependency ratio, old (% of working-age po...   \n",
       "3  Arab World         ARB  Age dependency ratio, young (% of working-age ...   \n",
       "4  Arab World         ARB        Arms exports (SIPRI trend indicator values)   \n",
       "\n",
       "    IndicatorCode    Year         Value  \n",
       "0     SP.ADO.TFRT  1960.0  1.335609e+02  \n",
       "1     SP.POP.DPND  1960.0  8.779760e+01  \n",
       "2  SP.POP.DPND.OL  1960.0  6.634579e+00  \n",
       "3  SP.POP.DPND.YG  1960.0  8.102333e+01  \n",
       "4  MS.MIL.XPRT.KD  1960.0  3.000000e+06  "
      ]
     },
     "execution_count": 34,
     "metadata": {},
     "output_type": "execute_result"
    }
   ],
   "source": [
    "df.head()"
   ]
  },
  {
   "cell_type": "markdown",
   "metadata": {},
   "source": [
    "Wow! OK, so, we have a column for each year that data is available. Other than that, we have an indicator code, a country code, and then the longer names of those two things. How many indicator codes are there? (Spoiler alert: I put the number up above already!)"
   ]
  },
  {
   "cell_type": "code",
   "execution_count": 35,
   "metadata": {},
   "outputs": [
    {
     "data": {
      "text/plain": [
       "array(['BX.PEF.TOTL.CD.WD', 'DC.DAC.AUTL.CD', 'DC.DAC.BELL.CD',\n",
       "       'DC.DAC.CANL.CD', 'DC.DAC.CECL.CD', 'DC.DAC.CHEL.CD',\n",
       "       'DC.DAC.DEUL.CD', 'DC.DAC.DNKL.CD', 'DC.DAC.FRAL.CD',\n",
       "       'DC.DAC.GBRL.CD', 'DC.DAC.ITAL.CD', 'DC.DAC.JPNL.CD',\n",
       "       'DC.DAC.KORL.CD', 'DC.DAC.NLDL.CD', 'DC.DAC.NORL.CD',\n",
       "       'DC.DAC.PRTL.CD', 'DC.DAC.SWEL.CD', 'DC.DAC.TOTL.CD',\n",
       "       'DC.DAC.USAL.CD', 'DT.ODA.ALLD.CD', 'DT.ODA.ALLD.KD',\n",
       "       'DT.ODA.ODAT.CD', 'DT.ODA.ODAT.GI.ZS', 'DT.ODA.ODAT.GN.ZS',\n",
       "       'DT.ODA.ODAT.KD', 'DT.ODA.ODAT.PC.ZS', 'EG.ELC.COAL.ZS',\n",
       "       'EG.ELC.FOSL.ZS', 'EG.ELC.HYRO.ZS', 'EG.ELC.LOSS.ZS',\n",
       "       'EG.ELC.NGAS.ZS', 'EG.ELC.NUCL.ZS', 'EG.ELC.PETR.ZS',\n",
       "       'EG.ELC.RNWX.KH', 'EG.ELC.RNWX.ZS', 'EG.IMP.CONS.ZS',\n",
       "       'EG.USE.COMM.CL.ZS', 'EG.USE.COMM.FO.ZS', 'EG.USE.CRNW.ZS',\n",
       "       'EG.USE.ELEC.KH.PC', 'EG.USE.PCAP.KG.OE', 'EN.ATM.CO2E.EG.ZS',\n",
       "       'EN.ATM.CO2E.GF.KT', 'EN.ATM.CO2E.GF.ZS', 'EN.ATM.CO2E.KD.GD',\n",
       "       'EN.ATM.CO2E.KT', 'EN.ATM.CO2E.LF.KT', 'EN.ATM.CO2E.LF.ZS',\n",
       "       'EN.ATM.CO2E.PC', 'EN.ATM.CO2E.SF.KT', 'EN.ATM.CO2E.SF.ZS',\n",
       "       'EN.CO2.BLDG.ZS', 'EN.CO2.ETOT.ZS', 'EN.CO2.MANF.ZS',\n",
       "       'EN.CO2.OTHX.ZS', 'EN.CO2.TRAN.ZS', 'EN.URB.LCTY',\n",
       "       'EN.URB.LCTY.UR.ZS', 'EN.URB.MCTY', 'EN.URB.MCTY.TL.ZS',\n",
       "       'FI.RES.TOTL.CD', 'FI.RES.XGLD.CD', 'FP.CPI.TOTL', 'IP.PAT.NRES',\n",
       "       'IP.PAT.RESD', 'IP.TMK.NRES', 'IP.TMK.RESD', 'IP.TMK.TOTL',\n",
       "       'IT.CEL.SETS', 'IT.CEL.SETS.P2', 'IT.MLT.MAIN', 'IT.MLT.MAIN.P2',\n",
       "       'MS.MIL.MPRT.KD', 'MS.MIL.XPRT.KD', 'NE.CON.GOVT.CD',\n",
       "       'NE.CON.GOVT.CN', 'NE.CON.GOVT.KD', 'NE.CON.GOVT.KN',\n",
       "       'NE.CON.GOVT.ZS', 'NE.CON.PETC.CD', 'NE.CON.PETC.CN',\n",
       "       'NE.CON.PETC.KD', 'NE.CON.PETC.KN', 'NE.CON.PETC.ZS',\n",
       "       'NE.CON.PRVT.CD', 'NE.CON.PRVT.CN', 'NE.CON.PRVT.KD',\n",
       "       'NE.CON.PRVT.KN', 'NE.CON.PRVT.PC.KD', 'NE.CON.TETC.CD',\n",
       "       'NE.CON.TETC.CN', 'NE.CON.TETC.KD', 'NE.CON.TETC.KN',\n",
       "       'NE.CON.TETC.ZS', 'NE.CON.TOTL.CD', 'NE.CON.TOTL.CN',\n",
       "       'NE.CON.TOTL.KD', 'NE.CON.TOTL.KN', 'NE.DAB.DEFL.ZS',\n",
       "       'NE.DAB.TOTL.CD', 'NE.DAB.TOTL.CN', 'NE.DAB.TOTL.KD',\n",
       "       'NE.DAB.TOTL.KN', 'NE.DAB.TOTL.ZS', 'NE.EXP.GNFS.CD',\n",
       "       'NE.EXP.GNFS.CN', 'NE.EXP.GNFS.KD', 'NE.EXP.GNFS.KN',\n",
       "       'NE.EXP.GNFS.ZS', 'NE.GDI.FPRV.ZS', 'NE.GDI.FTOT.CD',\n",
       "       'NE.GDI.FTOT.CN', 'NE.GDI.FTOT.KD', 'NE.GDI.FTOT.KN',\n",
       "       'NE.GDI.FTOT.ZS', 'NE.GDI.STKB.CD', 'NE.GDI.STKB.CN',\n",
       "       'NE.GDI.STKB.KN', 'NE.GDI.TOTL.CD', 'NE.GDI.TOTL.CN',\n",
       "       'NE.GDI.TOTL.KD', 'NE.GDI.TOTL.KN', 'NE.GDI.TOTL.ZS',\n",
       "       'NE.IMP.GNFS.CD', 'NE.IMP.GNFS.CN', 'NE.IMP.GNFS.KD',\n",
       "       'NE.IMP.GNFS.KN', 'NE.IMP.GNFS.ZS', 'NE.RSB.GNFS.CD',\n",
       "       'NE.RSB.GNFS.CN', 'NE.RSB.GNFS.KN', 'NE.RSB.GNFS.ZS',\n",
       "       'NE.TRD.GNFS.ZS', 'NV.AGR.TOTL.CD', 'NV.AGR.TOTL.CN',\n",
       "       'NV.AGR.TOTL.KD', 'NV.AGR.TOTL.KN', 'NV.AGR.TOTL.ZS',\n",
       "       'NV.IND.MANF.CD', 'NV.IND.MANF.CN', 'NV.IND.MANF.KD',\n",
       "       'NV.IND.MANF.ZS', 'NV.IND.TOTL.CD', 'NV.IND.TOTL.CN',\n",
       "       'NV.IND.TOTL.KD', 'NV.IND.TOTL.KN', 'NV.IND.TOTL.ZS',\n",
       "       'NV.SRV.TETC.CD', 'NV.SRV.TETC.KD', 'NV.SRV.TETC.ZS',\n",
       "       'NY.ADJ.ICTR.GN.ZS', 'NY.EXP.CAPM.KN', 'NY.GDP.DEFL.ZS',\n",
       "       'NY.GDP.DISC.CN', 'NY.GDP.DISC.KN', 'NY.GDP.FCST.CD',\n",
       "       'NY.GDP.FCST.CN', 'NY.GDP.FCST.KD', 'NY.GDP.MKTP.CD',\n",
       "       'NY.GDP.MKTP.CN', 'NY.GDP.MKTP.KD', 'NY.GDP.MKTP.KN',\n",
       "       'NY.GDP.PCAP.CD', 'NY.GDP.PCAP.CN', 'NY.GDP.PCAP.KD',\n",
       "       'NY.GDP.PCAP.KN', 'NY.GDS.TOTL.CD', 'NY.GDS.TOTL.CN',\n",
       "       'NY.GDS.TOTL.KN', 'NY.GDS.TOTL.ZS', 'NY.GDY.TOTL.KD',\n",
       "       'NY.GDY.TOTL.KN', 'NY.GNP.MKTP.CD', 'NY.GNP.MKTP.CN',\n",
       "       'NY.GNP.MKTP.KD', 'NY.GNP.MKTP.KN', 'NY.GNP.PCAP.CN',\n",
       "       'NY.GNP.PCAP.KD', 'NY.GNP.PCAP.KN', 'NY.GNS.ICTR.CD',\n",
       "       'NY.GNS.ICTR.CN', 'NY.GNS.ICTR.GN.ZS', 'NY.GNS.ICTR.ZS',\n",
       "       'NY.GSR.NFCY.CD', 'NY.GSR.NFCY.CN', 'NY.TAX.NIND.CD',\n",
       "       'NY.TAX.NIND.CN', 'NY.TTF.GNFS.KN', 'PA.NUS.ATLS', 'PA.NUS.FCRF',\n",
       "       'SH.DTH.IMRT', 'SH.DTH.MORT', 'SH.DYN.MORT', 'SH.MED.BEDS.ZS',\n",
       "       'SH.MED.PHYS.ZS', 'SM.POP.TOTL', 'SM.POP.TOTL.ZS', 'SP.ADO.TFRT',\n",
       "       'SP.DYN.AMRT.FE', 'SP.DYN.AMRT.MA', 'SP.DYN.CBRT.IN',\n",
       "       'SP.DYN.CDRT.IN', 'SP.DYN.IMRT.IN', 'SP.DYN.LE00.FE.IN',\n",
       "       'SP.DYN.LE00.IN', 'SP.DYN.LE00.MA.IN', 'SP.DYN.TFRT.IN',\n",
       "       'SP.DYN.TO65.FE.ZS', 'SP.DYN.TO65.MA.ZS', 'SP.POP.0014.TO.ZS',\n",
       "       'SP.POP.1564.TO.ZS', 'SP.POP.65UP.TO.ZS', 'SP.POP.DPND',\n",
       "       'SP.POP.DPND.OL', 'SP.POP.DPND.YG', 'SP.POP.GROW', 'SP.POP.TOTL',\n",
       "       'SP.POP.TOTL.FE.ZS', 'SP.RUR.TOTL', 'SP.RUR.TOTL.ZG',\n",
       "       'SP.RUR.TOTL.ZS', 'SP.URB.GROW', 'SP.URB.TOTL',\n",
       "       'SP.URB.TOTL.IN.ZS', 'TG.VAL.TOTL.GD.ZS', 'TM.VAL.MRCH.AL.ZS',\n",
       "       'TM.VAL.MRCH.CD.WT', 'TM.VAL.MRCH.HI.ZS', 'TM.VAL.MRCH.OR.ZS',\n",
       "       'TM.VAL.MRCH.R1.ZS', 'TM.VAL.MRCH.R3.ZS', 'TM.VAL.MRCH.R4.ZS',\n",
       "       'TM.VAL.MRCH.R5.ZS', 'TM.VAL.MRCH.R6.ZS', 'TM.VAL.MRCH.RS.ZS',\n",
       "       'TM.VAL.MRCH.WL.CD', 'TM.VAL.MRCH.WR.ZS', 'TX.VAL.MRCH.AL.ZS',\n",
       "       'TX.VAL.MRCH.CD.WT', 'TX.VAL.MRCH.HI.ZS', 'TX.VAL.MRCH.OR.ZS',\n",
       "       'TX.VAL.MRCH.R1.', 'TX.VAL.MRCH.R1.ZS', 'TX.VAL.MRCH.R3.ZS',\n",
       "       'TX.VAL.MRCH.R4.ZS', 'TX.VAL.MRCH.R5.ZS', 'TX.VAL.MRCH.R6.ZS',\n",
       "       'TX.VAL.MRCH.RS.ZS', 'TX.VAL.MRCH.WL.CD', 'TX.VAL.MRCH.WR.ZS'],\n",
       "      dtype=object)"
      ]
     },
     "execution_count": 35,
     "metadata": {},
     "output_type": "execute_result"
    }
   ],
   "source": [
    "np.unique(df['IndicatorCode'])"
   ]
  },
  {
   "cell_type": "code",
   "execution_count": 36,
   "metadata": {},
   "outputs": [
    {
     "data": {
      "text/plain": [
       "250"
      ]
     },
     "execution_count": 36,
     "metadata": {},
     "output_type": "execute_result"
    }
   ],
   "source": [
    "np.unique(df['IndicatorCode']).size"
   ]
  },
  {
   "cell_type": "code",
   "execution_count": 37,
   "metadata": {},
   "outputs": [
    {
     "data": {
      "text/plain": [
       "44"
      ]
     },
     "execution_count": 37,
     "metadata": {},
     "output_type": "execute_result"
    }
   ],
   "source": [
    "np.unique(df[\"CountryCode\"]).size"
   ]
  },
  {
   "cell_type": "markdown",
   "metadata": {},
   "source": [
    "There are four basic methods of data analysis that help us turn numbers into knowledge:\n",
    "\n",
    "* Comparison\n",
    "* Composition\n",
    "* Distribution\n",
    "* Relationship\n"
   ]
  },
  {
   "cell_type": "markdown",
   "metadata": {},
   "source": [
    "## Comparison"
   ]
  },
  {
   "cell_type": "markdown",
   "metadata": {},
   "source": [
    "Comparison is probably the most common and easy-to-understand method for data analysis. The goal is to use comparison in order to evaluate and compare values between two or more data points. For example, comparison can be used to find the lowest and highest values in the chart."
   ]
  },
  {
   "cell_type": "markdown",
   "metadata": {},
   "source": [
    "The most common subset of comparison charts are called <b>trends</b>. Trend charts usually have a time axis and one or several value axes, which are used to show how a data set performed during a specific time period."
   ]
  },
  {
   "cell_type": "code",
   "execution_count": 44,
   "metadata": {},
   "outputs": [
    {
     "data": {
      "image/png": "[encoded data removed]",
      "text/plain": [
       "<Figure size 432x360 with 1 Axes>"
      ]
     },
     "metadata": {},
     "output_type": "display_data"
    }
   ],
   "source": [
    "ax = df.plot.bar(x='Year', y='Value')"
   ]
  },
  {
   "cell_type": "markdown",
   "metadata": {},
   "source": [
    "These slides/demos are based on concepts from: https://eazybi.com/blog/data_analysis_and_visualization/."
   ]
  },
  {
   "cell_type": "code",
   "execution_count": null,
   "metadata": {},
   "outputs": [],
   "source": []
  },
  {
   "cell_type": "code",
   "execution_count": null,
   "metadata": {},
   "outputs": [],
   "source": []
  }
 ],
 "metadata": {
  "kernelspec": {
   "display_name": "Python 3",
   "language": "python",
   "name": "python3"
  },
  "language_info": {
   "codemirror_mode": {
    "name": "ipython",
    "version": 3
   },
   "file_extension": ".py",
   "mimetype": "text/x-python",
   "name": "python",
   "nbconvert_exporter": "python",
   "pygments_lexer": "ipython3",
   "version": "3.6.5"
  },
  "widgets": {
   "state": {
    "0d498d21f57d48bfa91d77419839a53b": {
     "views": [
      {
       "cell_index": 50
      }
     ]
    },
    "b41dd22170f8499685480d24cc771566": {
     "views": [
      {
       "cell_index": 47
      }
     ]
    },
    "c36f55f7ddc8463ebaca4a35fd8eafe6": {
     "views": [
      {
       "cell_index": 41
      }
     ]
    }
   },
   "version": "1.2.0"
  }
 },
 "nbformat": 4,
 "nbformat_minor": 2
}
