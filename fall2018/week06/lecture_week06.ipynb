{
 "cells": [
  {
   "cell_type": "markdown",
   "metadata": {},
   "source": [
    "#  Comparisons, Compositions, and Time\n",
    "\n",
    "This week, we will apply some of our discussions around filtering, splitting and so on to build out comparisons between different variables within the World Bank Economic Indicators dataset."
   ]
  },
  {
   "cell_type": "markdown",
   "metadata": {},
   "source": [
    "## Comparison Plots\n",
    "\n",
    "* Among items\n",
    "    * One variable, few categories: column, or collection of bars\n",
    "    * Two variables: variable width column chart\n",
    "    * Many variables: embedded table or charts\n",
    "* Changing over time\n",
    "    * Many period, non-cyclical: line chart\n",
    "    * Few periods: column or line (depending on number of categories)"
   ]
  },
  {
   "cell_type": "markdown",
   "metadata": {},
   "source": [
    "This dataset, which covers 1960-2016, 264 countries and 1452 variables, can be obtained at the [Worldbank Data site](data.worldbank.org)."
   ]
  },
  {
   "cell_type": "code",
   "execution_count": 158,
   "metadata": {},
   "outputs": [],
   "source": [
    "%matplotlib inline"
   ]
  },
  {
   "cell_type": "code",
   "execution_count": 159,
   "metadata": {},
   "outputs": [
    {
     "ename": "ModuleNotFoundError",
     "evalue": "No module named 'iterrows'",
     "output_type": "error",
     "traceback": [
      "\u001b[0;31m---------------------------------------------------------------------------\u001b[0m",
      "\u001b[0;31mModuleNotFoundError\u001b[0m                       Traceback (most recent call last)",
      "\u001b[0;32m<ipython-input-159-5c103034bedb>\u001b[0m in \u001b[0;36m<module>\u001b[0;34m()\u001b[0m\n\u001b[1;32m      2\u001b[0m \u001b[0;32mimport\u001b[0m \u001b[0mmatplotlib\u001b[0m\u001b[0;34m.\u001b[0m\u001b[0mpyplot\u001b[0m \u001b[0;32mas\u001b[0m \u001b[0mplt\u001b[0m\u001b[0;34m\u001b[0m\u001b[0m\n\u001b[1;32m      3\u001b[0m \u001b[0;32mimport\u001b[0m \u001b[0mpandas\u001b[0m \u001b[0;32mas\u001b[0m \u001b[0mpd\u001b[0m\u001b[0;34m\u001b[0m\u001b[0m\n\u001b[0;32m----> 4\u001b[0;31m \u001b[0;32mimport\u001b[0m \u001b[0miterrows\u001b[0m\u001b[0;34m\u001b[0m\u001b[0m\n\u001b[0m\u001b[1;32m      5\u001b[0m \u001b[0;32mimport\u001b[0m \u001b[0mipywidgets\u001b[0m\u001b[0;34m\u001b[0m\u001b[0m\n\u001b[1;32m      6\u001b[0m \u001b[0;34m\u001b[0m\u001b[0m\n",
      "\u001b[0;31mModuleNotFoundError\u001b[0m: No module named 'iterrows'"
     ]
    }
   ],
   "source": [
    "import numpy as np\n",
    "import matplotlib.pyplot as plt\n",
    "import pandas as pd\n",
    "import iterrows\n",
    "import ipywidgets\n",
    "\n",
    "plt.rcParams[\"figure.figsize\"] = (6, 5)"
   ]
  },
  {
   "cell_type": "code",
   "execution_count": 32,
   "metadata": {},
   "outputs": [],
   "source": [
    "df = pd.read_csv(\"data/Indicators.csv\")"
   ]
  },
  {
   "cell_type": "markdown",
   "metadata": {},
   "source": [
    "Let's see what data is available."
   ]
  },
  {
   "cell_type": "code",
   "execution_count": 33,
   "metadata": {},
   "outputs": [
    {
     "data": {
      "text/html": [
       "<div>\n",
       "<style scoped>\n",
       "    .dataframe tbody tr th:only-of-type {\n",
       "        vertical-align: middle;\n",
       "    }\n",
       "\n",
       "    .dataframe tbody tr th {\n",
       "        vertical-align: top;\n",
       "    }\n",
       "\n",
       "    .dataframe thead th {\n",
       "        text-align: right;\n",
       "    }\n",
       "</style>\n",
       "<table border=\"1\" class=\"dataframe\">\n",
       "  <thead>\n",
       "    <tr style=\"text-align: right;\">\n",
       "      <th></th>\n",
       "      <th>CountryName</th>\n",
       "      <th>CountryCode</th>\n",
       "      <th>IndicatorName</th>\n",
       "      <th>IndicatorCode</th>\n",
       "      <th>Year</th>\n",
       "      <th>Value</th>\n",
       "    </tr>\n",
       "  </thead>\n",
       "  <tbody>\n",
       "    <tr>\n",
       "      <th>0</th>\n",
       "      <td>Arab World</td>\n",
       "      <td>ARB</td>\n",
       "      <td>Adolescent fertility rate (births per 1,000 wo...</td>\n",
       "      <td>SP.ADO.TFRT</td>\n",
       "      <td>1960</td>\n",
       "      <td>1.335609e+02</td>\n",
       "    </tr>\n",
       "    <tr>\n",
       "      <th>1</th>\n",
       "      <td>Arab World</td>\n",
       "      <td>ARB</td>\n",
       "      <td>Age dependency ratio (% of working-age populat...</td>\n",
       "      <td>SP.POP.DPND</td>\n",
       "      <td>1960</td>\n",
       "      <td>8.779760e+01</td>\n",
       "    </tr>\n",
       "    <tr>\n",
       "      <th>2</th>\n",
       "      <td>Arab World</td>\n",
       "      <td>ARB</td>\n",
       "      <td>Age dependency ratio, old (% of working-age po...</td>\n",
       "      <td>SP.POP.DPND.OL</td>\n",
       "      <td>1960</td>\n",
       "      <td>6.634579e+00</td>\n",
       "    </tr>\n",
       "    <tr>\n",
       "      <th>3</th>\n",
       "      <td>Arab World</td>\n",
       "      <td>ARB</td>\n",
       "      <td>Age dependency ratio, young (% of working-age ...</td>\n",
       "      <td>SP.POP.DPND.YG</td>\n",
       "      <td>1960</td>\n",
       "      <td>8.102333e+01</td>\n",
       "    </tr>\n",
       "    <tr>\n",
       "      <th>4</th>\n",
       "      <td>Arab World</td>\n",
       "      <td>ARB</td>\n",
       "      <td>Arms exports (SIPRI trend indicator values)</td>\n",
       "      <td>MS.MIL.XPRT.KD</td>\n",
       "      <td>1960</td>\n",
       "      <td>3.000000e+06</td>\n",
       "    </tr>\n",
       "  </tbody>\n",
       "</table>\n",
       "</div>"
      ],
      "text/plain": [
       "  CountryName CountryCode                                      IndicatorName  \\\n",
       "0  Arab World         ARB  Adolescent fertility rate (births per 1,000 wo...   \n",
       "1  Arab World         ARB  Age dependency ratio (% of working-age populat...   \n",
       "2  Arab World         ARB  Age dependency ratio, old (% of working-age po...   \n",
       "3  Arab World         ARB  Age dependency ratio, young (% of working-age ...   \n",
       "4  Arab World         ARB        Arms exports (SIPRI trend indicator values)   \n",
       "\n",
       "    IndicatorCode  Year         Value  \n",
       "0     SP.ADO.TFRT  1960  1.335609e+02  \n",
       "1     SP.POP.DPND  1960  8.779760e+01  \n",
       "2  SP.POP.DPND.OL  1960  6.634579e+00  \n",
       "3  SP.POP.DPND.YG  1960  8.102333e+01  \n",
       "4  MS.MIL.XPRT.KD  1960  3.000000e+06  "
      ]
     },
     "execution_count": 33,
     "metadata": {},
     "output_type": "execute_result"
    }
   ],
   "source": [
    "df.head()"
   ]
  },
  {
   "cell_type": "markdown",
   "metadata": {},
   "source": [
    "Wow!  OK, so, we have a column for each year that data is available.  Other than that, we have an indicator code, a country code, and then the longer names of those two things.  How many indicator codes are there?"
   ]
  },
  {
   "cell_type": "code",
   "execution_count": 34,
   "metadata": {},
   "outputs": [
    {
     "data": {
      "text/plain": [
       "array(['SP.ADO.TFRT', 'SP.POP.DPND', 'SP.POP.DPND.OL', ...,\n",
       "       'EN.FSH.THRD.NO', 'EN.MAM.THRD.NO', 'EN.HPT.THRD.NO'], dtype=object)"
      ]
     },
     "execution_count": 34,
     "metadata": {},
     "output_type": "execute_result"
    }
   ],
   "source": [
    "df.IndicatorCode.unique()"
   ]
  },
  {
   "cell_type": "code",
   "execution_count": 35,
   "metadata": {},
   "outputs": [
    {
     "data": {
      "text/plain": [
       "1344"
      ]
     },
     "execution_count": 35,
     "metadata": {},
     "output_type": "execute_result"
    }
   ],
   "source": [
    "np.unique(df[\"IndicatorCode\"]).size"
   ]
  },
  {
   "cell_type": "code",
   "execution_count": 36,
   "metadata": {},
   "outputs": [
    {
     "data": {
      "text/plain": [
       "247"
      ]
     },
     "execution_count": 36,
     "metadata": {},
     "output_type": "execute_result"
    }
   ],
   "source": [
    "np.unique(df[\"CountryCode\"]).size"
   ]
  },
  {
   "cell_type": "markdown",
   "metadata": {},
   "source": [
    "We use the ``shape`` to understand the dimensionality of the DataFrame."
   ]
  },
  {
   "cell_type": "code",
   "execution_count": 41,
   "metadata": {},
   "outputs": [
    {
     "data": {
      "text/plain": [
       "(5656458, 6)"
      ]
     },
     "execution_count": 41,
     "metadata": {},
     "output_type": "execute_result"
    }
   ],
   "source": [
    "df.shape"
   ]
  },
  {
   "cell_type": "markdown",
   "metadata": {},
   "source": [
    "Let's get started.  I've picked out an indicator we can use, which is the population in the largest city."
   ]
  },
  {
   "cell_type": "code",
   "execution_count": 57,
   "metadata": {},
   "outputs": [
    {
     "data": {
      "text/html": [
       "<div>\n",
       "<style scoped>\n",
       "    .dataframe tbody tr th:only-of-type {\n",
       "        vertical-align: middle;\n",
       "    }\n",
       "\n",
       "    .dataframe tbody tr th {\n",
       "        vertical-align: top;\n",
       "    }\n",
       "\n",
       "    .dataframe thead th {\n",
       "        text-align: right;\n",
       "    }\n",
       "</style>\n",
       "<table border=\"1\" class=\"dataframe\">\n",
       "  <thead>\n",
       "    <tr style=\"text-align: right;\">\n",
       "      <th></th>\n",
       "      <th>CountryName</th>\n",
       "      <th>CountryCode</th>\n",
       "      <th>IndicatorName</th>\n",
       "      <th>IndicatorCode</th>\n",
       "      <th>Year</th>\n",
       "      <th>Value</th>\n",
       "    </tr>\n",
       "  </thead>\n",
       "  <tbody>\n",
       "    <tr>\n",
       "      <th>3586</th>\n",
       "      <td>Afghanistan</td>\n",
       "      <td>AFG</td>\n",
       "      <td>Population in largest city</td>\n",
       "      <td>EN.URB.LCTY</td>\n",
       "      <td>1960</td>\n",
       "      <td>285352.0</td>\n",
       "    </tr>\n",
       "    <tr>\n",
       "      <th>3806</th>\n",
       "      <td>Algeria</td>\n",
       "      <td>DZA</td>\n",
       "      <td>Population in largest city</td>\n",
       "      <td>EN.URB.LCTY</td>\n",
       "      <td>1960</td>\n",
       "      <td>871636.0</td>\n",
       "    </tr>\n",
       "    <tr>\n",
       "      <th>3905</th>\n",
       "      <td>Angola</td>\n",
       "      <td>AGO</td>\n",
       "      <td>Population in largest city</td>\n",
       "      <td>EN.URB.LCTY</td>\n",
       "      <td>1960</td>\n",
       "      <td>219427.0</td>\n",
       "    </tr>\n",
       "    <tr>\n",
       "      <th>4097</th>\n",
       "      <td>Argentina</td>\n",
       "      <td>ARG</td>\n",
       "      <td>Population in largest city</td>\n",
       "      <td>EN.URB.LCTY</td>\n",
       "      <td>1960</td>\n",
       "      <td>6597634.0</td>\n",
       "    </tr>\n",
       "    <tr>\n",
       "      <th>4133</th>\n",
       "      <td>Armenia</td>\n",
       "      <td>ARM</td>\n",
       "      <td>Population in largest city</td>\n",
       "      <td>EN.URB.LCTY</td>\n",
       "      <td>1960</td>\n",
       "      <td>537759.0</td>\n",
       "    </tr>\n",
       "    <tr>\n",
       "      <th>4351</th>\n",
       "      <td>Australia</td>\n",
       "      <td>AUS</td>\n",
       "      <td>Population in largest city</td>\n",
       "      <td>EN.URB.LCTY</td>\n",
       "      <td>1960</td>\n",
       "      <td>2134673.0</td>\n",
       "    </tr>\n",
       "    <tr>\n",
       "      <th>4503</th>\n",
       "      <td>Austria</td>\n",
       "      <td>AUT</td>\n",
       "      <td>Population in largest city</td>\n",
       "      <td>EN.URB.LCTY</td>\n",
       "      <td>1960</td>\n",
       "      <td>1626724.0</td>\n",
       "    </tr>\n",
       "    <tr>\n",
       "      <th>4543</th>\n",
       "      <td>Azerbaijan</td>\n",
       "      <td>AZE</td>\n",
       "      <td>Population in largest city</td>\n",
       "      <td>EN.URB.LCTY</td>\n",
       "      <td>1960</td>\n",
       "      <td>1005297.0</td>\n",
       "    </tr>\n",
       "    <tr>\n",
       "      <th>4668</th>\n",
       "      <td>Bahrain</td>\n",
       "      <td>BHR</td>\n",
       "      <td>Population in largest city</td>\n",
       "      <td>EN.URB.LCTY</td>\n",
       "      <td>1960</td>\n",
       "      <td>64888.0</td>\n",
       "    </tr>\n",
       "    <tr>\n",
       "      <th>4783</th>\n",
       "      <td>Bangladesh</td>\n",
       "      <td>BGD</td>\n",
       "      <td>Population in largest city</td>\n",
       "      <td>EN.URB.LCTY</td>\n",
       "      <td>1960</td>\n",
       "      <td>507921.0</td>\n",
       "    </tr>\n",
       "    <tr>\n",
       "      <th>4875</th>\n",
       "      <td>Belarus</td>\n",
       "      <td>BLR</td>\n",
       "      <td>Population in largest city</td>\n",
       "      <td>EN.URB.LCTY</td>\n",
       "      <td>1960</td>\n",
       "      <td>550710.0</td>\n",
       "    </tr>\n",
       "    <tr>\n",
       "      <th>5003</th>\n",
       "      <td>Belgium</td>\n",
       "      <td>BEL</td>\n",
       "      <td>Population in largest city</td>\n",
       "      <td>EN.URB.LCTY</td>\n",
       "      <td>1960</td>\n",
       "      <td>1484676.0</td>\n",
       "    </tr>\n",
       "    <tr>\n",
       "      <th>5232</th>\n",
       "      <td>Benin</td>\n",
       "      <td>BEN</td>\n",
       "      <td>Population in largest city</td>\n",
       "      <td>EN.URB.LCTY</td>\n",
       "      <td>1960</td>\n",
       "      <td>73080.0</td>\n",
       "    </tr>\n",
       "    <tr>\n",
       "      <th>5459</th>\n",
       "      <td>Bolivia</td>\n",
       "      <td>BOL</td>\n",
       "      <td>Population in largest city</td>\n",
       "      <td>EN.URB.LCTY</td>\n",
       "      <td>1960</td>\n",
       "      <td>437687.0</td>\n",
       "    </tr>\n",
       "    <tr>\n",
       "      <th>5495</th>\n",
       "      <td>Bosnia and Herzegovina</td>\n",
       "      <td>BIH</td>\n",
       "      <td>Population in largest city</td>\n",
       "      <td>EN.URB.LCTY</td>\n",
       "      <td>1960</td>\n",
       "      <td>169319.0</td>\n",
       "    </tr>\n",
       "    <tr>\n",
       "      <th>5793</th>\n",
       "      <td>Brazil</td>\n",
       "      <td>BRA</td>\n",
       "      <td>Population in largest city</td>\n",
       "      <td>EN.URB.LCTY</td>\n",
       "      <td>1960</td>\n",
       "      <td>4493182.0</td>\n",
       "    </tr>\n",
       "    <tr>\n",
       "      <th>5908</th>\n",
       "      <td>Bulgaria</td>\n",
       "      <td>BGR</td>\n",
       "      <td>Population in largest city</td>\n",
       "      <td>EN.URB.LCTY</td>\n",
       "      <td>1960</td>\n",
       "      <td>708061.0</td>\n",
       "    </tr>\n",
       "    <tr>\n",
       "      <th>6035</th>\n",
       "      <td>Burkina Faso</td>\n",
       "      <td>BFA</td>\n",
       "      <td>Population in largest city</td>\n",
       "      <td>EN.URB.LCTY</td>\n",
       "      <td>1960</td>\n",
       "      <td>59126.0</td>\n",
       "    </tr>\n",
       "    <tr>\n",
       "      <th>6149</th>\n",
       "      <td>Burundi</td>\n",
       "      <td>BDI</td>\n",
       "      <td>Population in largest city</td>\n",
       "      <td>EN.URB.LCTY</td>\n",
       "      <td>1960</td>\n",
       "      <td>45564.0</td>\n",
       "    </tr>\n",
       "    <tr>\n",
       "      <th>6311</th>\n",
       "      <td>Cambodia</td>\n",
       "      <td>KHM</td>\n",
       "      <td>Population in largest city</td>\n",
       "      <td>EN.URB.LCTY</td>\n",
       "      <td>1960</td>\n",
       "      <td>389280.0</td>\n",
       "    </tr>\n",
       "    <tr>\n",
       "      <th>6429</th>\n",
       "      <td>Cameroon</td>\n",
       "      <td>CMR</td>\n",
       "      <td>Population in largest city</td>\n",
       "      <td>EN.URB.LCTY</td>\n",
       "      <td>1960</td>\n",
       "      <td>152612.0</td>\n",
       "    </tr>\n",
       "    <tr>\n",
       "      <th>6587</th>\n",
       "      <td>Canada</td>\n",
       "      <td>CAN</td>\n",
       "      <td>Population in largest city</td>\n",
       "      <td>EN.URB.LCTY</td>\n",
       "      <td>1960</td>\n",
       "      <td>2031108.0</td>\n",
       "    </tr>\n",
       "    <tr>\n",
       "      <th>6745</th>\n",
       "      <td>Central African Republic</td>\n",
       "      <td>CAF</td>\n",
       "      <td>Population in largest city</td>\n",
       "      <td>EN.URB.LCTY</td>\n",
       "      <td>1960</td>\n",
       "      <td>94350.0</td>\n",
       "    </tr>\n",
       "    <tr>\n",
       "      <th>6888</th>\n",
       "      <td>Chad</td>\n",
       "      <td>TCD</td>\n",
       "      <td>Population in largest city</td>\n",
       "      <td>EN.URB.LCTY</td>\n",
       "      <td>1960</td>\n",
       "      <td>71280.0</td>\n",
       "    </tr>\n",
       "    <tr>\n",
       "      <th>7119</th>\n",
       "      <td>Chile</td>\n",
       "      <td>CHL</td>\n",
       "      <td>Population in largest city</td>\n",
       "      <td>EN.URB.LCTY</td>\n",
       "      <td>1960</td>\n",
       "      <td>1979927.0</td>\n",
       "    </tr>\n",
       "    <tr>\n",
       "      <th>7242</th>\n",
       "      <td>China</td>\n",
       "      <td>CHN</td>\n",
       "      <td>Population in largest city</td>\n",
       "      <td>EN.URB.LCTY</td>\n",
       "      <td>1960</td>\n",
       "      <td>6819634.0</td>\n",
       "    </tr>\n",
       "    <tr>\n",
       "      <th>7424</th>\n",
       "      <td>Colombia</td>\n",
       "      <td>COL</td>\n",
       "      <td>Population in largest city</td>\n",
       "      <td>EN.URB.LCTY</td>\n",
       "      <td>1960</td>\n",
       "      <td>1268645.0</td>\n",
       "    </tr>\n",
       "    <tr>\n",
       "      <th>7600</th>\n",
       "      <td>Congo, Dem. Rep.</td>\n",
       "      <td>ZAR</td>\n",
       "      <td>Population in largest city</td>\n",
       "      <td>EN.URB.LCTY</td>\n",
       "      <td>1960</td>\n",
       "      <td>442853.0</td>\n",
       "    </tr>\n",
       "    <tr>\n",
       "      <th>7756</th>\n",
       "      <td>Congo, Rep.</td>\n",
       "      <td>COG</td>\n",
       "      <td>Population in largest city</td>\n",
       "      <td>EN.URB.LCTY</td>\n",
       "      <td>1960</td>\n",
       "      <td>123643.0</td>\n",
       "    </tr>\n",
       "    <tr>\n",
       "      <th>7938</th>\n",
       "      <td>Costa Rica</td>\n",
       "      <td>CRI</td>\n",
       "      <td>Population in largest city</td>\n",
       "      <td>EN.URB.LCTY</td>\n",
       "      <td>1960</td>\n",
       "      <td>229792.0</td>\n",
       "    </tr>\n",
       "    <tr>\n",
       "      <th>...</th>\n",
       "      <td>...</td>\n",
       "      <td>...</td>\n",
       "      <td>...</td>\n",
       "      <td>...</td>\n",
       "      <td>...</td>\n",
       "      <td>...</td>\n",
       "    </tr>\n",
       "    <tr>\n",
       "      <th>5622880</th>\n",
       "      <td>Slovak Republic</td>\n",
       "      <td>SVK</td>\n",
       "      <td>Population in largest city</td>\n",
       "      <td>EN.URB.LCTY</td>\n",
       "      <td>2014</td>\n",
       "      <td>403212.0</td>\n",
       "    </tr>\n",
       "    <tr>\n",
       "      <th>5624133</th>\n",
       "      <td>Somalia</td>\n",
       "      <td>SOM</td>\n",
       "      <td>Population in largest city</td>\n",
       "      <td>EN.URB.LCTY</td>\n",
       "      <td>2014</td>\n",
       "      <td>2013926.0</td>\n",
       "    </tr>\n",
       "    <tr>\n",
       "      <th>5624747</th>\n",
       "      <td>South Africa</td>\n",
       "      <td>ZAF</td>\n",
       "      <td>Population in largest city</td>\n",
       "      <td>EN.URB.LCTY</td>\n",
       "      <td>2014</td>\n",
       "      <td>9175674.0</td>\n",
       "    </tr>\n",
       "    <tr>\n",
       "      <th>5625154</th>\n",
       "      <td>South Sudan</td>\n",
       "      <td>SSD</td>\n",
       "      <td>Population in largest city</td>\n",
       "      <td>EN.URB.LCTY</td>\n",
       "      <td>2014</td>\n",
       "      <td>306569.0</td>\n",
       "    </tr>\n",
       "    <tr>\n",
       "      <th>5625544</th>\n",
       "      <td>Spain</td>\n",
       "      <td>ESP</td>\n",
       "      <td>Population in largest city</td>\n",
       "      <td>EN.URB.LCTY</td>\n",
       "      <td>2014</td>\n",
       "      <td>6132672.0</td>\n",
       "    </tr>\n",
       "    <tr>\n",
       "      <th>5626024</th>\n",
       "      <td>Sri Lanka</td>\n",
       "      <td>LKA</td>\n",
       "      <td>Population in largest city</td>\n",
       "      <td>EN.URB.LCTY</td>\n",
       "      <td>2014</td>\n",
       "      <td>704227.0</td>\n",
       "    </tr>\n",
       "    <tr>\n",
       "      <th>5627872</th>\n",
       "      <td>Sudan</td>\n",
       "      <td>SDN</td>\n",
       "      <td>Population in largest city</td>\n",
       "      <td>EN.URB.LCTY</td>\n",
       "      <td>2014</td>\n",
       "      <td>4999787.0</td>\n",
       "    </tr>\n",
       "    <tr>\n",
       "      <th>5629148</th>\n",
       "      <td>Sweden</td>\n",
       "      <td>SWE</td>\n",
       "      <td>Population in largest city</td>\n",
       "      <td>EN.URB.LCTY</td>\n",
       "      <td>2014</td>\n",
       "      <td>1463748.0</td>\n",
       "    </tr>\n",
       "    <tr>\n",
       "      <th>5629592</th>\n",
       "      <td>Switzerland</td>\n",
       "      <td>CHE</td>\n",
       "      <td>Population in largest city</td>\n",
       "      <td>EN.URB.LCTY</td>\n",
       "      <td>2014</td>\n",
       "      <td>1233760.0</td>\n",
       "    </tr>\n",
       "    <tr>\n",
       "      <th>5629927</th>\n",
       "      <td>Syrian Arab Republic</td>\n",
       "      <td>SYR</td>\n",
       "      <td>Population in largest city</td>\n",
       "      <td>EN.URB.LCTY</td>\n",
       "      <td>2014</td>\n",
       "      <td>3518721.0</td>\n",
       "    </tr>\n",
       "    <tr>\n",
       "      <th>5630436</th>\n",
       "      <td>Tajikistan</td>\n",
       "      <td>TJK</td>\n",
       "      <td>Population in largest city</td>\n",
       "      <td>EN.URB.LCTY</td>\n",
       "      <td>2014</td>\n",
       "      <td>800745.0</td>\n",
       "    </tr>\n",
       "    <tr>\n",
       "      <th>5631055</th>\n",
       "      <td>Tanzania</td>\n",
       "      <td>TZA</td>\n",
       "      <td>Population in largest city</td>\n",
       "      <td>EN.URB.LCTY</td>\n",
       "      <td>2014</td>\n",
       "      <td>4838145.0</td>\n",
       "    </tr>\n",
       "    <tr>\n",
       "      <th>5631681</th>\n",
       "      <td>Thailand</td>\n",
       "      <td>THA</td>\n",
       "      <td>Population in largest city</td>\n",
       "      <td>EN.URB.LCTY</td>\n",
       "      <td>2014</td>\n",
       "      <td>9097872.0</td>\n",
       "    </tr>\n",
       "    <tr>\n",
       "      <th>5632499</th>\n",
       "      <td>Togo</td>\n",
       "      <td>TGO</td>\n",
       "      <td>Population in largest city</td>\n",
       "      <td>EN.URB.LCTY</td>\n",
       "      <td>2014</td>\n",
       "      <td>929520.0</td>\n",
       "    </tr>\n",
       "    <tr>\n",
       "      <th>5633776</th>\n",
       "      <td>Tunisia</td>\n",
       "      <td>TUN</td>\n",
       "      <td>Population in largest city</td>\n",
       "      <td>EN.URB.LCTY</td>\n",
       "      <td>2014</td>\n",
       "      <td>1978066.0</td>\n",
       "    </tr>\n",
       "    <tr>\n",
       "      <th>5634459</th>\n",
       "      <td>Turkey</td>\n",
       "      <td>TUR</td>\n",
       "      <td>Population in largest city</td>\n",
       "      <td>EN.URB.LCTY</td>\n",
       "      <td>2014</td>\n",
       "      <td>13953703.0</td>\n",
       "    </tr>\n",
       "    <tr>\n",
       "      <th>5634923</th>\n",
       "      <td>Turkmenistan</td>\n",
       "      <td>TKM</td>\n",
       "      <td>Population in largest city</td>\n",
       "      <td>EN.URB.LCTY</td>\n",
       "      <td>2014</td>\n",
       "      <td>735482.0</td>\n",
       "    </tr>\n",
       "    <tr>\n",
       "      <th>5635610</th>\n",
       "      <td>Uganda</td>\n",
       "      <td>UGA</td>\n",
       "      <td>Population in largest city</td>\n",
       "      <td>EN.URB.LCTY</td>\n",
       "      <td>2014</td>\n",
       "      <td>1862764.0</td>\n",
       "    </tr>\n",
       "    <tr>\n",
       "      <th>5636259</th>\n",
       "      <td>Ukraine</td>\n",
       "      <td>UKR</td>\n",
       "      <td>Population in largest city</td>\n",
       "      <td>EN.URB.LCTY</td>\n",
       "      <td>2014</td>\n",
       "      <td>2916588.0</td>\n",
       "    </tr>\n",
       "    <tr>\n",
       "      <th>5636717</th>\n",
       "      <td>United Arab Emirates</td>\n",
       "      <td>ARE</td>\n",
       "      <td>Population in largest city</td>\n",
       "      <td>EN.URB.LCTY</td>\n",
       "      <td>2014</td>\n",
       "      <td>2330499.0</td>\n",
       "    </tr>\n",
       "    <tr>\n",
       "      <th>5637133</th>\n",
       "      <td>United Kingdom</td>\n",
       "      <td>GBR</td>\n",
       "      <td>Population in largest city</td>\n",
       "      <td>EN.URB.LCTY</td>\n",
       "      <td>2014</td>\n",
       "      <td>10189315.0</td>\n",
       "    </tr>\n",
       "    <tr>\n",
       "      <th>5637461</th>\n",
       "      <td>United States</td>\n",
       "      <td>USA</td>\n",
       "      <td>Population in largest city</td>\n",
       "      <td>EN.URB.LCTY</td>\n",
       "      <td>2014</td>\n",
       "      <td>18590729.0</td>\n",
       "    </tr>\n",
       "    <tr>\n",
       "      <th>5637884</th>\n",
       "      <td>Uruguay</td>\n",
       "      <td>URY</td>\n",
       "      <td>Population in largest city</td>\n",
       "      <td>EN.URB.LCTY</td>\n",
       "      <td>2014</td>\n",
       "      <td>1697731.0</td>\n",
       "    </tr>\n",
       "    <tr>\n",
       "      <th>5638336</th>\n",
       "      <td>Uzbekistan</td>\n",
       "      <td>UZB</td>\n",
       "      <td>Population in largest city</td>\n",
       "      <td>EN.URB.LCTY</td>\n",
       "      <td>2014</td>\n",
       "      <td>2241461.0</td>\n",
       "    </tr>\n",
       "    <tr>\n",
       "      <th>5639174</th>\n",
       "      <td>Venezuela, RB</td>\n",
       "      <td>VEN</td>\n",
       "      <td>Population in largest city</td>\n",
       "      <td>EN.URB.LCTY</td>\n",
       "      <td>2014</td>\n",
       "      <td>2912065.0</td>\n",
       "    </tr>\n",
       "    <tr>\n",
       "      <th>5639633</th>\n",
       "      <td>Vietnam</td>\n",
       "      <td>VNM</td>\n",
       "      <td>Population in largest city</td>\n",
       "      <td>EN.URB.LCTY</td>\n",
       "      <td>2014</td>\n",
       "      <td>7100328.0</td>\n",
       "    </tr>\n",
       "    <tr>\n",
       "      <th>5640085</th>\n",
       "      <td>West Bank and Gaza</td>\n",
       "      <td>WBG</td>\n",
       "      <td>Population in largest city</td>\n",
       "      <td>EN.URB.LCTY</td>\n",
       "      <td>2014</td>\n",
       "      <td>606535.0</td>\n",
       "    </tr>\n",
       "    <tr>\n",
       "      <th>5640400</th>\n",
       "      <td>Yemen, Rep.</td>\n",
       "      <td>YEM</td>\n",
       "      <td>Population in largest city</td>\n",
       "      <td>EN.URB.LCTY</td>\n",
       "      <td>2014</td>\n",
       "      <td>2833199.0</td>\n",
       "    </tr>\n",
       "    <tr>\n",
       "      <th>5640927</th>\n",
       "      <td>Zambia</td>\n",
       "      <td>ZMB</td>\n",
       "      <td>Population in largest city</td>\n",
       "      <td>EN.URB.LCTY</td>\n",
       "      <td>2014</td>\n",
       "      <td>2078426.0</td>\n",
       "    </tr>\n",
       "    <tr>\n",
       "      <th>5641517</th>\n",
       "      <td>Zimbabwe</td>\n",
       "      <td>ZWE</td>\n",
       "      <td>Population in largest city</td>\n",
       "      <td>EN.URB.LCTY</td>\n",
       "      <td>2014</td>\n",
       "      <td>1494660.0</td>\n",
       "    </tr>\n",
       "  </tbody>\n",
       "</table>\n",
       "<p>8190 rows × 6 columns</p>\n",
       "</div>"
      ],
      "text/plain": [
       "                      CountryName CountryCode               IndicatorName  \\\n",
       "3586                  Afghanistan         AFG  Population in largest city   \n",
       "3806                      Algeria         DZA  Population in largest city   \n",
       "3905                       Angola         AGO  Population in largest city   \n",
       "4097                    Argentina         ARG  Population in largest city   \n",
       "4133                      Armenia         ARM  Population in largest city   \n",
       "4351                    Australia         AUS  Population in largest city   \n",
       "4503                      Austria         AUT  Population in largest city   \n",
       "4543                   Azerbaijan         AZE  Population in largest city   \n",
       "4668                      Bahrain         BHR  Population in largest city   \n",
       "4783                   Bangladesh         BGD  Population in largest city   \n",
       "4875                      Belarus         BLR  Population in largest city   \n",
       "5003                      Belgium         BEL  Population in largest city   \n",
       "5232                        Benin         BEN  Population in largest city   \n",
       "5459                      Bolivia         BOL  Population in largest city   \n",
       "5495       Bosnia and Herzegovina         BIH  Population in largest city   \n",
       "5793                       Brazil         BRA  Population in largest city   \n",
       "5908                     Bulgaria         BGR  Population in largest city   \n",
       "6035                 Burkina Faso         BFA  Population in largest city   \n",
       "6149                      Burundi         BDI  Population in largest city   \n",
       "6311                     Cambodia         KHM  Population in largest city   \n",
       "6429                     Cameroon         CMR  Population in largest city   \n",
       "6587                       Canada         CAN  Population in largest city   \n",
       "6745     Central African Republic         CAF  Population in largest city   \n",
       "6888                         Chad         TCD  Population in largest city   \n",
       "7119                        Chile         CHL  Population in largest city   \n",
       "7242                        China         CHN  Population in largest city   \n",
       "7424                     Colombia         COL  Population in largest city   \n",
       "7600             Congo, Dem. Rep.         ZAR  Population in largest city   \n",
       "7756                  Congo, Rep.         COG  Population in largest city   \n",
       "7938                   Costa Rica         CRI  Population in largest city   \n",
       "...                           ...         ...                         ...   \n",
       "5622880           Slovak Republic         SVK  Population in largest city   \n",
       "5624133                   Somalia         SOM  Population in largest city   \n",
       "5624747              South Africa         ZAF  Population in largest city   \n",
       "5625154               South Sudan         SSD  Population in largest city   \n",
       "5625544                     Spain         ESP  Population in largest city   \n",
       "5626024                 Sri Lanka         LKA  Population in largest city   \n",
       "5627872                     Sudan         SDN  Population in largest city   \n",
       "5629148                    Sweden         SWE  Population in largest city   \n",
       "5629592               Switzerland         CHE  Population in largest city   \n",
       "5629927      Syrian Arab Republic         SYR  Population in largest city   \n",
       "5630436                Tajikistan         TJK  Population in largest city   \n",
       "5631055                  Tanzania         TZA  Population in largest city   \n",
       "5631681                  Thailand         THA  Population in largest city   \n",
       "5632499                      Togo         TGO  Population in largest city   \n",
       "5633776                   Tunisia         TUN  Population in largest city   \n",
       "5634459                    Turkey         TUR  Population in largest city   \n",
       "5634923              Turkmenistan         TKM  Population in largest city   \n",
       "5635610                    Uganda         UGA  Population in largest city   \n",
       "5636259                   Ukraine         UKR  Population in largest city   \n",
       "5636717      United Arab Emirates         ARE  Population in largest city   \n",
       "5637133            United Kingdom         GBR  Population in largest city   \n",
       "5637461             United States         USA  Population in largest city   \n",
       "5637884                   Uruguay         URY  Population in largest city   \n",
       "5638336                Uzbekistan         UZB  Population in largest city   \n",
       "5639174             Venezuela, RB         VEN  Population in largest city   \n",
       "5639633                   Vietnam         VNM  Population in largest city   \n",
       "5640085        West Bank and Gaza         WBG  Population in largest city   \n",
       "5640400               Yemen, Rep.         YEM  Population in largest city   \n",
       "5640927                    Zambia         ZMB  Population in largest city   \n",
       "5641517                  Zimbabwe         ZWE  Population in largest city   \n",
       "\n",
       "        IndicatorCode  Year       Value  \n",
       "3586      EN.URB.LCTY  1960    285352.0  \n",
       "3806      EN.URB.LCTY  1960    871636.0  \n",
       "3905      EN.URB.LCTY  1960    219427.0  \n",
       "4097      EN.URB.LCTY  1960   6597634.0  \n",
       "4133      EN.URB.LCTY  1960    537759.0  \n",
       "4351      EN.URB.LCTY  1960   2134673.0  \n",
       "4503      EN.URB.LCTY  1960   1626724.0  \n",
       "4543      EN.URB.LCTY  1960   1005297.0  \n",
       "4668      EN.URB.LCTY  1960     64888.0  \n",
       "4783      EN.URB.LCTY  1960    507921.0  \n",
       "4875      EN.URB.LCTY  1960    550710.0  \n",
       "5003      EN.URB.LCTY  1960   1484676.0  \n",
       "5232      EN.URB.LCTY  1960     73080.0  \n",
       "5459      EN.URB.LCTY  1960    437687.0  \n",
       "5495      EN.URB.LCTY  1960    169319.0  \n",
       "5793      EN.URB.LCTY  1960   4493182.0  \n",
       "5908      EN.URB.LCTY  1960    708061.0  \n",
       "6035      EN.URB.LCTY  1960     59126.0  \n",
       "6149      EN.URB.LCTY  1960     45564.0  \n",
       "6311      EN.URB.LCTY  1960    389280.0  \n",
       "6429      EN.URB.LCTY  1960    152612.0  \n",
       "6587      EN.URB.LCTY  1960   2031108.0  \n",
       "6745      EN.URB.LCTY  1960     94350.0  \n",
       "6888      EN.URB.LCTY  1960     71280.0  \n",
       "7119      EN.URB.LCTY  1960   1979927.0  \n",
       "7242      EN.URB.LCTY  1960   6819634.0  \n",
       "7424      EN.URB.LCTY  1960   1268645.0  \n",
       "7600      EN.URB.LCTY  1960    442853.0  \n",
       "7756      EN.URB.LCTY  1960    123643.0  \n",
       "7938      EN.URB.LCTY  1960    229792.0  \n",
       "...               ...   ...         ...  \n",
       "5622880   EN.URB.LCTY  2014    403212.0  \n",
       "5624133   EN.URB.LCTY  2014   2013926.0  \n",
       "5624747   EN.URB.LCTY  2014   9175674.0  \n",
       "5625154   EN.URB.LCTY  2014    306569.0  \n",
       "5625544   EN.URB.LCTY  2014   6132672.0  \n",
       "5626024   EN.URB.LCTY  2014    704227.0  \n",
       "5627872   EN.URB.LCTY  2014   4999787.0  \n",
       "5629148   EN.URB.LCTY  2014   1463748.0  \n",
       "5629592   EN.URB.LCTY  2014   1233760.0  \n",
       "5629927   EN.URB.LCTY  2014   3518721.0  \n",
       "5630436   EN.URB.LCTY  2014    800745.0  \n",
       "5631055   EN.URB.LCTY  2014   4838145.0  \n",
       "5631681   EN.URB.LCTY  2014   9097872.0  \n",
       "5632499   EN.URB.LCTY  2014    929520.0  \n",
       "5633776   EN.URB.LCTY  2014   1978066.0  \n",
       "5634459   EN.URB.LCTY  2014  13953703.0  \n",
       "5634923   EN.URB.LCTY  2014    735482.0  \n",
       "5635610   EN.URB.LCTY  2014   1862764.0  \n",
       "5636259   EN.URB.LCTY  2014   2916588.0  \n",
       "5636717   EN.URB.LCTY  2014   2330499.0  \n",
       "5637133   EN.URB.LCTY  2014  10189315.0  \n",
       "5637461   EN.URB.LCTY  2014  18590729.0  \n",
       "5637884   EN.URB.LCTY  2014   1697731.0  \n",
       "5638336   EN.URB.LCTY  2014   2241461.0  \n",
       "5639174   EN.URB.LCTY  2014   2912065.0  \n",
       "5639633   EN.URB.LCTY  2014   7100328.0  \n",
       "5640085   EN.URB.LCTY  2014    606535.0  \n",
       "5640400   EN.URB.LCTY  2014   2833199.0  \n",
       "5640927   EN.URB.LCTY  2014   2078426.0  \n",
       "5641517   EN.URB.LCTY  2014   1494660.0  \n",
       "\n",
       "[8190 rows x 6 columns]"
      ]
     },
     "execution_count": 57,
     "metadata": {},
     "output_type": "execute_result"
    }
   ],
   "source": [
    "# EN.URB.LCTY\n",
    "df.loc[df['IndicatorCode'] == 'EN.URB.LCTY']"
   ]
  },
  {
   "cell_type": "markdown",
   "metadata": {},
   "source": [
    "Lets save that variable and take a loop at the dimensionality"
   ]
  },
  {
   "cell_type": "code",
   "execution_count": 58,
   "metadata": {},
   "outputs": [
    {
     "data": {
      "text/plain": [
       "(8190, 6)"
      ]
     },
     "execution_count": 58,
     "metadata": {},
     "output_type": "execute_result"
    }
   ],
   "source": [
    "pop_city = df.loc[df['IndicatorCode'] == 'EN.URB.LCTY']\n",
    "pop_city.shape"
   ]
  },
  {
   "cell_type": "markdown",
   "metadata": {},
   "source": [
    "What's the population in just the US in this city over time?"
   ]
  },
  {
   "cell_type": "code",
   "execution_count": 59,
   "metadata": {},
   "outputs": [
    {
     "data": {
      "text/html": [
       "<div>\n",
       "<style scoped>\n",
       "    .dataframe tbody tr th:only-of-type {\n",
       "        vertical-align: middle;\n",
       "    }\n",
       "\n",
       "    .dataframe tbody tr th {\n",
       "        vertical-align: top;\n",
       "    }\n",
       "\n",
       "    .dataframe thead th {\n",
       "        text-align: right;\n",
       "    }\n",
       "</style>\n",
       "<table border=\"1\" class=\"dataframe\">\n",
       "  <thead>\n",
       "    <tr style=\"text-align: right;\">\n",
       "      <th></th>\n",
       "      <th>CountryName</th>\n",
       "      <th>CountryCode</th>\n",
       "      <th>IndicatorName</th>\n",
       "      <th>IndicatorCode</th>\n",
       "      <th>Year</th>\n",
       "      <th>Value</th>\n",
       "    </tr>\n",
       "  </thead>\n",
       "  <tbody>\n",
       "    <tr>\n",
       "      <th>22367</th>\n",
       "      <td>United States</td>\n",
       "      <td>USA</td>\n",
       "      <td>Population in largest city</td>\n",
       "      <td>EN.URB.LCTY</td>\n",
       "      <td>1960</td>\n",
       "      <td>14163521.0</td>\n",
       "    </tr>\n",
       "    <tr>\n",
       "      <th>48847</th>\n",
       "      <td>United States</td>\n",
       "      <td>USA</td>\n",
       "      <td>Population in largest city</td>\n",
       "      <td>EN.URB.LCTY</td>\n",
       "      <td>1961</td>\n",
       "      <td>14360388.0</td>\n",
       "    </tr>\n",
       "    <tr>\n",
       "      <th>77235</th>\n",
       "      <td>United States</td>\n",
       "      <td>USA</td>\n",
       "      <td>Population in largest city</td>\n",
       "      <td>EN.URB.LCTY</td>\n",
       "      <td>1962</td>\n",
       "      <td>14560269.0</td>\n",
       "    </tr>\n",
       "    <tr>\n",
       "      <th>105856</th>\n",
       "      <td>United States</td>\n",
       "      <td>USA</td>\n",
       "      <td>Population in largest city</td>\n",
       "      <td>EN.URB.LCTY</td>\n",
       "      <td>1963</td>\n",
       "      <td>14762931.0</td>\n",
       "    </tr>\n",
       "    <tr>\n",
       "      <th>134894</th>\n",
       "      <td>United States</td>\n",
       "      <td>USA</td>\n",
       "      <td>Population in largest city</td>\n",
       "      <td>EN.URB.LCTY</td>\n",
       "      <td>1964</td>\n",
       "      <td>14968700.0</td>\n",
       "    </tr>\n",
       "    <tr>\n",
       "      <th>166832</th>\n",
       "      <td>United States</td>\n",
       "      <td>USA</td>\n",
       "      <td>Population in largest city</td>\n",
       "      <td>EN.URB.LCTY</td>\n",
       "      <td>1965</td>\n",
       "      <td>15176758.0</td>\n",
       "    </tr>\n",
       "    <tr>\n",
       "      <th>198192</th>\n",
       "      <td>United States</td>\n",
       "      <td>USA</td>\n",
       "      <td>Population in largest city</td>\n",
       "      <td>EN.URB.LCTY</td>\n",
       "      <td>1966</td>\n",
       "      <td>15388002.0</td>\n",
       "    </tr>\n",
       "    <tr>\n",
       "      <th>230911</th>\n",
       "      <td>United States</td>\n",
       "      <td>USA</td>\n",
       "      <td>Population in largest city</td>\n",
       "      <td>EN.URB.LCTY</td>\n",
       "      <td>1967</td>\n",
       "      <td>15602185.0</td>\n",
       "    </tr>\n",
       "    <tr>\n",
       "      <th>263465</th>\n",
       "      <td>United States</td>\n",
       "      <td>USA</td>\n",
       "      <td>Population in largest city</td>\n",
       "      <td>EN.URB.LCTY</td>\n",
       "      <td>1968</td>\n",
       "      <td>15819651.0</td>\n",
       "    </tr>\n",
       "    <tr>\n",
       "      <th>296450</th>\n",
       "      <td>United States</td>\n",
       "      <td>USA</td>\n",
       "      <td>Population in largest city</td>\n",
       "      <td>EN.URB.LCTY</td>\n",
       "      <td>1969</td>\n",
       "      <td>16039538.0</td>\n",
       "    </tr>\n",
       "    <tr>\n",
       "      <th>358147</th>\n",
       "      <td>United States</td>\n",
       "      <td>USA</td>\n",
       "      <td>Population in largest city</td>\n",
       "      <td>EN.URB.LCTY</td>\n",
       "      <td>1970</td>\n",
       "      <td>16191180.0</td>\n",
       "    </tr>\n",
       "    <tr>\n",
       "      <th>426137</th>\n",
       "      <td>United States</td>\n",
       "      <td>USA</td>\n",
       "      <td>Population in largest city</td>\n",
       "      <td>EN.URB.LCTY</td>\n",
       "      <td>1971</td>\n",
       "      <td>16128515.0</td>\n",
       "    </tr>\n",
       "    <tr>\n",
       "      <th>495937</th>\n",
       "      <td>United States</td>\n",
       "      <td>USA</td>\n",
       "      <td>Population in largest city</td>\n",
       "      <td>EN.URB.LCTY</td>\n",
       "      <td>1972</td>\n",
       "      <td>16066007.0</td>\n",
       "    </tr>\n",
       "    <tr>\n",
       "      <th>565351</th>\n",
       "      <td>United States</td>\n",
       "      <td>USA</td>\n",
       "      <td>Population in largest city</td>\n",
       "      <td>EN.URB.LCTY</td>\n",
       "      <td>1973</td>\n",
       "      <td>16003912.0</td>\n",
       "    </tr>\n",
       "    <tr>\n",
       "      <th>635432</th>\n",
       "      <td>United States</td>\n",
       "      <td>USA</td>\n",
       "      <td>Population in largest city</td>\n",
       "      <td>EN.URB.LCTY</td>\n",
       "      <td>1974</td>\n",
       "      <td>15941972.0</td>\n",
       "    </tr>\n",
       "    <tr>\n",
       "      <th>707921</th>\n",
       "      <td>United States</td>\n",
       "      <td>USA</td>\n",
       "      <td>Population in largest city</td>\n",
       "      <td>EN.URB.LCTY</td>\n",
       "      <td>1975</td>\n",
       "      <td>15880271.0</td>\n",
       "    </tr>\n",
       "    <tr>\n",
       "      <th>781333</th>\n",
       "      <td>United States</td>\n",
       "      <td>USA</td>\n",
       "      <td>Population in largest city</td>\n",
       "      <td>EN.URB.LCTY</td>\n",
       "      <td>1976</td>\n",
       "      <td>15818725.0</td>\n",
       "    </tr>\n",
       "    <tr>\n",
       "      <th>856993</th>\n",
       "      <td>United States</td>\n",
       "      <td>USA</td>\n",
       "      <td>Population in largest city</td>\n",
       "      <td>EN.URB.LCTY</td>\n",
       "      <td>1977</td>\n",
       "      <td>15757586.0</td>\n",
       "    </tr>\n",
       "    <tr>\n",
       "      <th>932657</th>\n",
       "      <td>United States</td>\n",
       "      <td>USA</td>\n",
       "      <td>Population in largest city</td>\n",
       "      <td>EN.URB.LCTY</td>\n",
       "      <td>1978</td>\n",
       "      <td>15696599.0</td>\n",
       "    </tr>\n",
       "    <tr>\n",
       "      <th>1008483</th>\n",
       "      <td>United States</td>\n",
       "      <td>USA</td>\n",
       "      <td>Population in largest city</td>\n",
       "      <td>EN.URB.LCTY</td>\n",
       "      <td>1979</td>\n",
       "      <td>15635849.0</td>\n",
       "    </tr>\n",
       "    <tr>\n",
       "      <th>1089783</th>\n",
       "      <td>United States</td>\n",
       "      <td>USA</td>\n",
       "      <td>Population in largest city</td>\n",
       "      <td>EN.URB.LCTY</td>\n",
       "      <td>1980</td>\n",
       "      <td>15601401.0</td>\n",
       "    </tr>\n",
       "    <tr>\n",
       "      <th>1173720</th>\n",
       "      <td>United States</td>\n",
       "      <td>USA</td>\n",
       "      <td>Population in largest city</td>\n",
       "      <td>EN.URB.LCTY</td>\n",
       "      <td>1981</td>\n",
       "      <td>15646170.0</td>\n",
       "    </tr>\n",
       "    <tr>\n",
       "      <th>1258923</th>\n",
       "      <td>United States</td>\n",
       "      <td>USA</td>\n",
       "      <td>Population in largest city</td>\n",
       "      <td>EN.URB.LCTY</td>\n",
       "      <td>1982</td>\n",
       "      <td>15691130.0</td>\n",
       "    </tr>\n",
       "    <tr>\n",
       "      <th>1344176</th>\n",
       "      <td>United States</td>\n",
       "      <td>USA</td>\n",
       "      <td>Population in largest city</td>\n",
       "      <td>EN.URB.LCTY</td>\n",
       "      <td>1983</td>\n",
       "      <td>15736220.0</td>\n",
       "    </tr>\n",
       "    <tr>\n",
       "      <th>1430079</th>\n",
       "      <td>United States</td>\n",
       "      <td>USA</td>\n",
       "      <td>Population in largest city</td>\n",
       "      <td>EN.URB.LCTY</td>\n",
       "      <td>1984</td>\n",
       "      <td>15781501.0</td>\n",
       "    </tr>\n",
       "    <tr>\n",
       "      <th>1517522</th>\n",
       "      <td>United States</td>\n",
       "      <td>USA</td>\n",
       "      <td>Population in largest city</td>\n",
       "      <td>EN.URB.LCTY</td>\n",
       "      <td>1985</td>\n",
       "      <td>15826788.0</td>\n",
       "    </tr>\n",
       "    <tr>\n",
       "      <th>1605404</th>\n",
       "      <td>United States</td>\n",
       "      <td>USA</td>\n",
       "      <td>Population in largest city</td>\n",
       "      <td>EN.URB.LCTY</td>\n",
       "      <td>1986</td>\n",
       "      <td>15872267.0</td>\n",
       "    </tr>\n",
       "    <tr>\n",
       "      <th>1694795</th>\n",
       "      <td>United States</td>\n",
       "      <td>USA</td>\n",
       "      <td>Population in largest city</td>\n",
       "      <td>EN.URB.LCTY</td>\n",
       "      <td>1987</td>\n",
       "      <td>15917876.0</td>\n",
       "    </tr>\n",
       "    <tr>\n",
       "      <th>1784245</th>\n",
       "      <td>United States</td>\n",
       "      <td>USA</td>\n",
       "      <td>Population in largest city</td>\n",
       "      <td>EN.URB.LCTY</td>\n",
       "      <td>1988</td>\n",
       "      <td>15963680.0</td>\n",
       "    </tr>\n",
       "    <tr>\n",
       "      <th>1876762</th>\n",
       "      <td>United States</td>\n",
       "      <td>USA</td>\n",
       "      <td>Population in largest city</td>\n",
       "      <td>EN.URB.LCTY</td>\n",
       "      <td>1989</td>\n",
       "      <td>16009490.0</td>\n",
       "    </tr>\n",
       "    <tr>\n",
       "      <th>1993131</th>\n",
       "      <td>United States</td>\n",
       "      <td>USA</td>\n",
       "      <td>Population in largest city</td>\n",
       "      <td>EN.URB.LCTY</td>\n",
       "      <td>1990</td>\n",
       "      <td>16085599.0</td>\n",
       "    </tr>\n",
       "    <tr>\n",
       "      <th>2109072</th>\n",
       "      <td>United States</td>\n",
       "      <td>USA</td>\n",
       "      <td>Population in largest city</td>\n",
       "      <td>EN.URB.LCTY</td>\n",
       "      <td>1991</td>\n",
       "      <td>16253492.0</td>\n",
       "    </tr>\n",
       "    <tr>\n",
       "      <th>2230331</th>\n",
       "      <td>United States</td>\n",
       "      <td>USA</td>\n",
       "      <td>Population in largest city</td>\n",
       "      <td>EN.URB.LCTY</td>\n",
       "      <td>1992</td>\n",
       "      <td>16423372.0</td>\n",
       "    </tr>\n",
       "    <tr>\n",
       "      <th>2354105</th>\n",
       "      <td>United States</td>\n",
       "      <td>USA</td>\n",
       "      <td>Population in largest city</td>\n",
       "      <td>EN.URB.LCTY</td>\n",
       "      <td>1993</td>\n",
       "      <td>16594553.0</td>\n",
       "    </tr>\n",
       "    <tr>\n",
       "      <th>2479779</th>\n",
       "      <td>United States</td>\n",
       "      <td>USA</td>\n",
       "      <td>Population in largest city</td>\n",
       "      <td>EN.URB.LCTY</td>\n",
       "      <td>1994</td>\n",
       "      <td>16767758.0</td>\n",
       "    </tr>\n",
       "    <tr>\n",
       "      <th>2614126</th>\n",
       "      <td>United States</td>\n",
       "      <td>USA</td>\n",
       "      <td>Population in largest city</td>\n",
       "      <td>EN.URB.LCTY</td>\n",
       "      <td>1995</td>\n",
       "      <td>16942770.0</td>\n",
       "    </tr>\n",
       "    <tr>\n",
       "      <th>2749087</th>\n",
       "      <td>United States</td>\n",
       "      <td>USA</td>\n",
       "      <td>Population in largest city</td>\n",
       "      <td>EN.URB.LCTY</td>\n",
       "      <td>1996</td>\n",
       "      <td>17119854.0</td>\n",
       "    </tr>\n",
       "    <tr>\n",
       "      <th>2885380</th>\n",
       "      <td>United States</td>\n",
       "      <td>USA</td>\n",
       "      <td>Population in largest city</td>\n",
       "      <td>EN.URB.LCTY</td>\n",
       "      <td>1997</td>\n",
       "      <td>17298295.0</td>\n",
       "    </tr>\n",
       "    <tr>\n",
       "      <th>3022736</th>\n",
       "      <td>United States</td>\n",
       "      <td>USA</td>\n",
       "      <td>Population in largest city</td>\n",
       "      <td>EN.URB.LCTY</td>\n",
       "      <td>1998</td>\n",
       "      <td>17478845.0</td>\n",
       "    </tr>\n",
       "    <tr>\n",
       "      <th>3164666</th>\n",
       "      <td>United States</td>\n",
       "      <td>USA</td>\n",
       "      <td>Population in largest city</td>\n",
       "      <td>EN.URB.LCTY</td>\n",
       "      <td>1999</td>\n",
       "      <td>17661279.0</td>\n",
       "    </tr>\n",
       "    <tr>\n",
       "      <th>3319343</th>\n",
       "      <td>United States</td>\n",
       "      <td>USA</td>\n",
       "      <td>Population in largest city</td>\n",
       "      <td>EN.URB.LCTY</td>\n",
       "      <td>2000</td>\n",
       "      <td>17813371.0</td>\n",
       "    </tr>\n",
       "    <tr>\n",
       "      <th>3469975</th>\n",
       "      <td>United States</td>\n",
       "      <td>USA</td>\n",
       "      <td>Population in largest city</td>\n",
       "      <td>EN.URB.LCTY</td>\n",
       "      <td>2001</td>\n",
       "      <td>17867738.0</td>\n",
       "    </tr>\n",
       "    <tr>\n",
       "      <th>3624615</th>\n",
       "      <td>United States</td>\n",
       "      <td>USA</td>\n",
       "      <td>Population in largest city</td>\n",
       "      <td>EN.URB.LCTY</td>\n",
       "      <td>2002</td>\n",
       "      <td>17922346.0</td>\n",
       "    </tr>\n",
       "    <tr>\n",
       "      <th>3778379</th>\n",
       "      <td>United States</td>\n",
       "      <td>USA</td>\n",
       "      <td>Population in largest city</td>\n",
       "      <td>EN.URB.LCTY</td>\n",
       "      <td>2003</td>\n",
       "      <td>17977121.0</td>\n",
       "    </tr>\n",
       "    <tr>\n",
       "      <th>3936133</th>\n",
       "      <td>United States</td>\n",
       "      <td>USA</td>\n",
       "      <td>Population in largest city</td>\n",
       "      <td>EN.URB.LCTY</td>\n",
       "      <td>2004</td>\n",
       "      <td>18032139.0</td>\n",
       "    </tr>\n",
       "    <tr>\n",
       "      <th>4115778</th>\n",
       "      <td>United States</td>\n",
       "      <td>USA</td>\n",
       "      <td>Population in largest city</td>\n",
       "      <td>EN.URB.LCTY</td>\n",
       "      <td>2005</td>\n",
       "      <td>18087174.0</td>\n",
       "    </tr>\n",
       "    <tr>\n",
       "      <th>4292957</th>\n",
       "      <td>United States</td>\n",
       "      <td>USA</td>\n",
       "      <td>Population in largest city</td>\n",
       "      <td>EN.URB.LCTY</td>\n",
       "      <td>2006</td>\n",
       "      <td>18142453.0</td>\n",
       "    </tr>\n",
       "    <tr>\n",
       "      <th>4473297</th>\n",
       "      <td>United States</td>\n",
       "      <td>USA</td>\n",
       "      <td>Population in largest city</td>\n",
       "      <td>EN.URB.LCTY</td>\n",
       "      <td>2007</td>\n",
       "      <td>18197900.0</td>\n",
       "    </tr>\n",
       "    <tr>\n",
       "      <th>4653132</th>\n",
       "      <td>United States</td>\n",
       "      <td>USA</td>\n",
       "      <td>Population in largest city</td>\n",
       "      <td>EN.URB.LCTY</td>\n",
       "      <td>2008</td>\n",
       "      <td>18253594.0</td>\n",
       "    </tr>\n",
       "    <tr>\n",
       "      <th>4831787</th>\n",
       "      <td>United States</td>\n",
       "      <td>USA</td>\n",
       "      <td>Population in largest city</td>\n",
       "      <td>EN.URB.LCTY</td>\n",
       "      <td>2009</td>\n",
       "      <td>18309304.0</td>\n",
       "    </tr>\n",
       "    <tr>\n",
       "      <th>5018538</th>\n",
       "      <td>United States</td>\n",
       "      <td>USA</td>\n",
       "      <td>Population in largest city</td>\n",
       "      <td>EN.URB.LCTY</td>\n",
       "      <td>2010</td>\n",
       "      <td>18365262.0</td>\n",
       "    </tr>\n",
       "    <tr>\n",
       "      <th>5195177</th>\n",
       "      <td>United States</td>\n",
       "      <td>USA</td>\n",
       "      <td>Population in largest city</td>\n",
       "      <td>EN.URB.LCTY</td>\n",
       "      <td>2011</td>\n",
       "      <td>18421391.0</td>\n",
       "    </tr>\n",
       "    <tr>\n",
       "      <th>5370329</th>\n",
       "      <td>United States</td>\n",
       "      <td>USA</td>\n",
       "      <td>Population in largest city</td>\n",
       "      <td>EN.URB.LCTY</td>\n",
       "      <td>2012</td>\n",
       "      <td>18477769.0</td>\n",
       "    </tr>\n",
       "    <tr>\n",
       "      <th>5527745</th>\n",
       "      <td>United States</td>\n",
       "      <td>USA</td>\n",
       "      <td>Population in largest city</td>\n",
       "      <td>EN.URB.LCTY</td>\n",
       "      <td>2013</td>\n",
       "      <td>18534163.0</td>\n",
       "    </tr>\n",
       "    <tr>\n",
       "      <th>5637461</th>\n",
       "      <td>United States</td>\n",
       "      <td>USA</td>\n",
       "      <td>Population in largest city</td>\n",
       "      <td>EN.URB.LCTY</td>\n",
       "      <td>2014</td>\n",
       "      <td>18590729.0</td>\n",
       "    </tr>\n",
       "  </tbody>\n",
       "</table>\n",
       "</div>"
      ],
      "text/plain": [
       "           CountryName CountryCode               IndicatorName IndicatorCode  \\\n",
       "22367    United States         USA  Population in largest city   EN.URB.LCTY   \n",
       "48847    United States         USA  Population in largest city   EN.URB.LCTY   \n",
       "77235    United States         USA  Population in largest city   EN.URB.LCTY   \n",
       "105856   United States         USA  Population in largest city   EN.URB.LCTY   \n",
       "134894   United States         USA  Population in largest city   EN.URB.LCTY   \n",
       "166832   United States         USA  Population in largest city   EN.URB.LCTY   \n",
       "198192   United States         USA  Population in largest city   EN.URB.LCTY   \n",
       "230911   United States         USA  Population in largest city   EN.URB.LCTY   \n",
       "263465   United States         USA  Population in largest city   EN.URB.LCTY   \n",
       "296450   United States         USA  Population in largest city   EN.URB.LCTY   \n",
       "358147   United States         USA  Population in largest city   EN.URB.LCTY   \n",
       "426137   United States         USA  Population in largest city   EN.URB.LCTY   \n",
       "495937   United States         USA  Population in largest city   EN.URB.LCTY   \n",
       "565351   United States         USA  Population in largest city   EN.URB.LCTY   \n",
       "635432   United States         USA  Population in largest city   EN.URB.LCTY   \n",
       "707921   United States         USA  Population in largest city   EN.URB.LCTY   \n",
       "781333   United States         USA  Population in largest city   EN.URB.LCTY   \n",
       "856993   United States         USA  Population in largest city   EN.URB.LCTY   \n",
       "932657   United States         USA  Population in largest city   EN.URB.LCTY   \n",
       "1008483  United States         USA  Population in largest city   EN.URB.LCTY   \n",
       "1089783  United States         USA  Population in largest city   EN.URB.LCTY   \n",
       "1173720  United States         USA  Population in largest city   EN.URB.LCTY   \n",
       "1258923  United States         USA  Population in largest city   EN.URB.LCTY   \n",
       "1344176  United States         USA  Population in largest city   EN.URB.LCTY   \n",
       "1430079  United States         USA  Population in largest city   EN.URB.LCTY   \n",
       "1517522  United States         USA  Population in largest city   EN.URB.LCTY   \n",
       "1605404  United States         USA  Population in largest city   EN.URB.LCTY   \n",
       "1694795  United States         USA  Population in largest city   EN.URB.LCTY   \n",
       "1784245  United States         USA  Population in largest city   EN.URB.LCTY   \n",
       "1876762  United States         USA  Population in largest city   EN.URB.LCTY   \n",
       "1993131  United States         USA  Population in largest city   EN.URB.LCTY   \n",
       "2109072  United States         USA  Population in largest city   EN.URB.LCTY   \n",
       "2230331  United States         USA  Population in largest city   EN.URB.LCTY   \n",
       "2354105  United States         USA  Population in largest city   EN.URB.LCTY   \n",
       "2479779  United States         USA  Population in largest city   EN.URB.LCTY   \n",
       "2614126  United States         USA  Population in largest city   EN.URB.LCTY   \n",
       "2749087  United States         USA  Population in largest city   EN.URB.LCTY   \n",
       "2885380  United States         USA  Population in largest city   EN.URB.LCTY   \n",
       "3022736  United States         USA  Population in largest city   EN.URB.LCTY   \n",
       "3164666  United States         USA  Population in largest city   EN.URB.LCTY   \n",
       "3319343  United States         USA  Population in largest city   EN.URB.LCTY   \n",
       "3469975  United States         USA  Population in largest city   EN.URB.LCTY   \n",
       "3624615  United States         USA  Population in largest city   EN.URB.LCTY   \n",
       "3778379  United States         USA  Population in largest city   EN.URB.LCTY   \n",
       "3936133  United States         USA  Population in largest city   EN.URB.LCTY   \n",
       "4115778  United States         USA  Population in largest city   EN.URB.LCTY   \n",
       "4292957  United States         USA  Population in largest city   EN.URB.LCTY   \n",
       "4473297  United States         USA  Population in largest city   EN.URB.LCTY   \n",
       "4653132  United States         USA  Population in largest city   EN.URB.LCTY   \n",
       "4831787  United States         USA  Population in largest city   EN.URB.LCTY   \n",
       "5018538  United States         USA  Population in largest city   EN.URB.LCTY   \n",
       "5195177  United States         USA  Population in largest city   EN.URB.LCTY   \n",
       "5370329  United States         USA  Population in largest city   EN.URB.LCTY   \n",
       "5527745  United States         USA  Population in largest city   EN.URB.LCTY   \n",
       "5637461  United States         USA  Population in largest city   EN.URB.LCTY   \n",
       "\n",
       "         Year       Value  \n",
       "22367    1960  14163521.0  \n",
       "48847    1961  14360388.0  \n",
       "77235    1962  14560269.0  \n",
       "105856   1963  14762931.0  \n",
       "134894   1964  14968700.0  \n",
       "166832   1965  15176758.0  \n",
       "198192   1966  15388002.0  \n",
       "230911   1967  15602185.0  \n",
       "263465   1968  15819651.0  \n",
       "296450   1969  16039538.0  \n",
       "358147   1970  16191180.0  \n",
       "426137   1971  16128515.0  \n",
       "495937   1972  16066007.0  \n",
       "565351   1973  16003912.0  \n",
       "635432   1974  15941972.0  \n",
       "707921   1975  15880271.0  \n",
       "781333   1976  15818725.0  \n",
       "856993   1977  15757586.0  \n",
       "932657   1978  15696599.0  \n",
       "1008483  1979  15635849.0  \n",
       "1089783  1980  15601401.0  \n",
       "1173720  1981  15646170.0  \n",
       "1258923  1982  15691130.0  \n",
       "1344176  1983  15736220.0  \n",
       "1430079  1984  15781501.0  \n",
       "1517522  1985  15826788.0  \n",
       "1605404  1986  15872267.0  \n",
       "1694795  1987  15917876.0  \n",
       "1784245  1988  15963680.0  \n",
       "1876762  1989  16009490.0  \n",
       "1993131  1990  16085599.0  \n",
       "2109072  1991  16253492.0  \n",
       "2230331  1992  16423372.0  \n",
       "2354105  1993  16594553.0  \n",
       "2479779  1994  16767758.0  \n",
       "2614126  1995  16942770.0  \n",
       "2749087  1996  17119854.0  \n",
       "2885380  1997  17298295.0  \n",
       "3022736  1998  17478845.0  \n",
       "3164666  1999  17661279.0  \n",
       "3319343  2000  17813371.0  \n",
       "3469975  2001  17867738.0  \n",
       "3624615  2002  17922346.0  \n",
       "3778379  2003  17977121.0  \n",
       "3936133  2004  18032139.0  \n",
       "4115778  2005  18087174.0  \n",
       "4292957  2006  18142453.0  \n",
       "4473297  2007  18197900.0  \n",
       "4653132  2008  18253594.0  \n",
       "4831787  2009  18309304.0  \n",
       "5018538  2010  18365262.0  \n",
       "5195177  2011  18421391.0  \n",
       "5370329  2012  18477769.0  \n",
       "5527745  2013  18534163.0  \n",
       "5637461  2014  18590729.0  "
      ]
     },
     "execution_count": 59,
     "metadata": {},
     "output_type": "execute_result"
    }
   ],
   "source": [
    "pop_city.loc[pop_city[\"CountryName\"] == 'United States']"
   ]
  },
  {
   "cell_type": "code",
   "execution_count": 60,
   "metadata": {},
   "outputs": [
    {
     "data": {
      "text/plain": [
       "(55, 6)"
      ]
     },
     "execution_count": 60,
     "metadata": {},
     "output_type": "execute_result"
    }
   ],
   "source": [
    "us_pop_city = pop_city.loc[pop_city[\"CountryName\"] == 'United States']\n",
    "us_pop_city.shape"
   ]
  },
  {
   "cell_type": "markdown",
   "metadata": {},
   "source": [
    "We'll need some years to plot against, so we will use `np.arange` to generate the values to supply to our plotting routines.  This routine drops off the final value, so we have to go to N+1 where N is the final value we want."
   ]
  },
  {
   "cell_type": "code",
   "execution_count": 90,
   "metadata": {},
   "outputs": [],
   "source": [
    "years = np.arange(1960, 2017)"
   ]
  },
  {
   "cell_type": "code",
   "execution_count": 91,
   "metadata": {},
   "outputs": [
    {
     "data": {
      "text/plain": [
       "[<matplotlib.lines.Line2D at 0x109c3dc50>]"
      ]
     },
     "execution_count": 91,
     "metadata": {},
     "output_type": "execute_result"
    },
    {
     "data": {
      "image/png": "[encoded data removed]",
      "text/plain": [
       "<Figure size 432x360 with 1 Axes>"
      ]
     },
     "metadata": {},
     "output_type": "display_data"
    }
   ],
   "source": [
    "plt.plot(us_pop_city[\"Value\"], us_pop_city[\"Year\"])"
   ]
  },
  {
   "cell_type": "markdown",
   "metadata": {},
   "source": [
    "Great.  That kind of works as we want.  Now let's clean it up, put it in a function, and look at a couple different countries.  And, while we're at it, we'll go ahead and make the indicator name a parameter, too.\n",
    "\n",
    "We'll plug this into the `ipywidgets.interact` function momentarily."
   ]
  },
  {
   "cell_type": "code",
   "execution_count": 98,
   "metadata": {},
   "outputs": [],
   "source": [
    "def plot_country_indicator(country, indicator):\n",
    "    indicator_value = df.loc[df[\"IndicatorName\"] == indicator]\n",
    "    country_value = indicator_value.loc[indicator_value[\"CountryName\"] == country]\n",
    "    plt.plot(country_value[\"Year\"], country_value[\"Value\"], '.-')\n",
    "    plt.xlabel(\"Year\")\n",
    "    plt.ylabel(indicator)"
   ]
  },
  {
   "cell_type": "markdown",
   "metadata": {},
   "source": [
    "What countries and indicators do we have to choose from?  And, let's pick a couple at random."
   ]
  },
  {
   "cell_type": "code",
   "execution_count": 99,
   "metadata": {},
   "outputs": [
    {
     "data": {
      "text/plain": [
       "('Age dependency ratio, young (% of working-age population)', 'India')"
      ]
     },
     "execution_count": 99,
     "metadata": {},
     "output_type": "execute_result"
    }
   ],
   "source": [
    "indicators = np.unique(df[\"IndicatorName\"])\n",
    "countries = np.unique(df[\"CountryName\"])\n",
    "\n",
    "indicators[50], countries[100]"
   ]
  },
  {
   "cell_type": "markdown",
   "metadata": {},
   "source": [
    "Now we'll test our routine."
   ]
  },
  {
   "cell_type": "code",
   "execution_count": 100,
   "metadata": {},
   "outputs": [
    {
     "data": {
      "image/png": "[encoded data removed]",
      "text/plain": [
       "<Figure size 432x360 with 1 Axes>"
      ]
     },
     "metadata": {},
     "output_type": "display_data"
    }
   ],
   "source": [
    "plot_country_indicator(countries[100], indicators[50])"
   ]
  },
  {
   "cell_type": "markdown",
   "metadata": {},
   "source": [
    "Note something here -- it's masking data that doesn't exist in the dataset.  Those points appear as discontinuities.  This isn't always what we want; for instance, we may instead wish to show those as a continuous, but irregularly spaced, line plot.  However, in this case, we want to emphasize the discontinuity.\n",
    "\n",
    "Now, we'll use ipywidgets to change which country and indicator we plot.  This isn't *incredibly* useful, since the number of indicators is intimidatingly long, but we will use it as a quick way to explore some of the data.\n",
    "\n",
    "Note that we're calling `tolist()` on these.  If we just feed in arrays, the `interact` function gets a bit confused."
   ]
  },
  {
   "cell_type": "code",
   "execution_count": 102,
   "metadata": {},
   "outputs": [
    {
     "data": {
      "application/vnd.jupyter.widget-view+json": {
       "model_id": "b8b7fc2b11714308bfd5a899868896ec",
       "version_major": 2,
       "version_minor": 0
      },
      "text/plain": [
       "interactive(children=(Dropdown(description='country', options=('Afghanistan', 'Albania', 'Algeria', 'American …"
      ]
     },
     "metadata": {},
     "output_type": "display_data"
    },
    {
     "data": {
      "text/plain": [
       "<function __main__.plot_country_indicator(country, indicator)>"
      ]
     },
     "execution_count": 102,
     "metadata": {},
     "output_type": "execute_result"
    }
   ],
   "source": [
    "ipywidgets.interact(plot_country_indicator,\n",
    "                   country=countries.tolist(),\n",
    "                    indicator=indicators.tolist())"
   ]
  },
  {
   "cell_type": "markdown",
   "metadata": {},
   "source": [
    "Let's just toss everything into a single plot.  This is a bad idea, and let's demonstrate why."
   ]
  },
  {
   "cell_type": "code",
   "execution_count": 179,
   "metadata": {},
   "outputs": [
    {
     "data": {
      "text/plain": [
       "[<matplotlib.lines.Line2D at 0x10a2009b0>]"
      ]
     },
     "execution_count": 179,
     "metadata": {},
     "output_type": "execute_result"
    },
    {
     "data": {
      "image/png": "[encoded data removed]",
      "text/plain": [
       "<Figure size 432x288 with 1 Axes>"
      ]
     },
     "metadata": {},
     "output_type": "display_data"
    }
   ],
   "source": [
    "plt.plot(pop_city[\"Year\"], pop_city[\"Value\"].transpose())"
   ]
  },
  {
   "cell_type": "markdown",
   "metadata": {},
   "source": [
    "Instead, we'll create a function that plots only those whose countries whose values were greater than those in the US in a given year.  For instance, if you specify 1968, only those countries whose population was greater than the US in 1968 will be plotted."
   ]
  },
  {
   "cell_type": "code",
   "execution_count": 192,
   "metadata": {},
   "outputs": [],
   "source": [
    "def greater_than_year(year = 2010):\n",
    "    year = str(year)\n",
    "    greater_than_us = pop_city.loc[pop_city[year] > us_pop_city(year)]\n",
    "    country = greater_than_us[\"CountryName\"]\n",
    "    plt.plot(greater_than_us[\"Year\"], greater_than_us[\"Value\"], label=country)\n",
    "    # for i, country in enumerate(greater_than_us.loc[greater_than_us[\"CountryName\"]]):\n",
    "    #    plt.plot(years, greater_than_us[\"Value\"][i,:], label=country)\n",
    "    #plt.ylim(0, np.nanmax(pop_city[\"Value\"]))\n",
    "    #plt.legend()"
   ]
  },
  {
   "cell_type": "markdown",
   "metadata": {},
   "source": [
    "Again, we'll use `ipywidgets.interact` to do this."
   ]
  },
  {
   "cell_type": "code",
   "execution_count": 193,
   "metadata": {},
   "outputs": [
    {
     "data": {
      "application/vnd.jupyter.widget-view+json": {
       "model_id": "61ff1958ba5346f4b7141762cb654807",
       "version_major": 2,
       "version_minor": 0
      },
      "text/plain": [
       "interactive(children=(IntSlider(value=2010, description='year', max=2016, min=1970), Output()), _dom_classes=(…"
      ]
     },
     "metadata": {},
     "output_type": "display_data"
    },
    {
     "data": {
      "text/plain": [
       "<function __main__.greater_than_year(year=2010)>"
      ]
     },
     "execution_count": 193,
     "metadata": {},
     "output_type": "execute_result"
    }
   ],
   "source": [
    "ipywidgets.interact(greater_than_year, year = (1970, 2016))"
   ]
  },
  {
   "cell_type": "markdown",
   "metadata": {},
   "source": [
    "Now let's see if we can get the top N countries for a given indicator.  Note that we're doing a couple things here that we've done in the past, but in a more optimized form.\n",
    "\n",
    "Inside our routine, we're filtering out the indicator name that we're given.  We then compute the maximum along all years for each country, then we sort that maximum.  We then iterate over the sorted list, in opposite order, and plot those countries."
   ]
  },
  {
   "cell_type": "code",
   "execution_count": 28,
   "metadata": {
    "collapsed": true
   },
   "outputs": [],
   "source": [
    "def plot_country_indicator_top(indicator, top = 5):\n",
    "    indicator_value = data.filter_eq(\"Indicator Name\", indicator)\n",
    "    max_value = np.nanmax(indicator_value[\"values\"], axis=1)\n",
    "    max_value[np.isnan(max_value)] = -1e90\n",
    "    max_indices = np.argsort(max_value)\n",
    "    for ind in reversed(max_indices[-top:]):\n",
    "        plt.plot(years, indicator_value[\"values\"][ind,:], '.-',\n",
    "                label=indicator_value[\"Country Name\"][ind])\n",
    "    plt.xlabel(\"Year\")\n",
    "    plt.legend()\n",
    "    plt.ylabel(indicator)"
   ]
  },
  {
   "cell_type": "code",
   "execution_count": 29,
   "metadata": {},
   "outputs": [
    {
     "name": "stderr",
     "output_type": "stream",
     "text": [
      "/opt/conda/lib/python3.5/site-packages/numpy/lib/nanfunctions.py:343: RuntimeWarning: All-NaN slice encountered\n",
      "  warnings.warn(\"All-NaN slice encountered\", RuntimeWarning)\n"
     ]
    },
    {
     "data": {
      "text/plain": [
       "<function __main__.plot_country_indicator_top>"
      ]
     },
     "execution_count": 29,
     "metadata": {},
     "output_type": "execute_result"
    },
    {
     "data": {
      "image/png": "[encoded data removed]",
      "text/plain": [
       "<matplotlib.figure.Figure at 0x7fc134f50b38>"
      ]
     },
     "metadata": {},
     "output_type": "display_data"
    }
   ],
   "source": [
    "ipywidgets.interact(plot_country_indicator_top,\n",
    "                   country=countries.tolist(),\n",
    "                    indicator=indicators.tolist())"
   ]
  },
  {
   "cell_type": "markdown",
   "metadata": {},
   "source": [
    "Let's see which indicators might be interesting -- specifically, let's take a look at all the indicators that have \"Population\" in their name."
   ]
  },
  {
   "cell_type": "code",
   "execution_count": 30,
   "metadata": {},
   "outputs": [
    {
     "name": "stdout",
     "output_type": "stream",
     "text": [
      "Population ages 0-14 (% of total)\n",
      "Population ages 15-64 (% of total)\n",
      "Population ages 65 and above (% of total)\n",
      "Population density (people per sq. km of land area)\n",
      "Population growth (annual %)\n",
      "Population in largest city\n",
      "Population in the largest city (% of urban population)\n",
      "Population in urban agglomerations of more than 1 million\n",
      "Population in urban agglomerations of more than 1 million (% of total population)\n",
      "Population living in areas where elevation is below 5 meters (% of total population)\n",
      "Population living in slums, (% of urban population)\n",
      "Population, female (% of total)\n",
      "Population, total\n"
     ]
    }
   ],
   "source": [
    "for indicator in indicators:\n",
    "    if \"Population\" in indicator:\n",
    "        print(indicator)"
   ]
  },
  {
   "cell_type": "markdown",
   "metadata": {},
   "source": [
    "We have lots of options.  So, let's filter out a couple of them -- we'll get the three components of population.  These should all add up to 100%, so we'll use them as an example of how to do stacked plots.\n",
    "\n",
    "The three components we'll pull out are the age between 0-14, 15-64, and 65 and above.  We'll do this for the United States.  (But, remember, you could extend this to select the country as well!)"
   ]
  },
  {
   "cell_type": "code",
   "execution_count": 31,
   "metadata": {},
   "outputs": [],
   "source": [
    "united_states = data.filter_eq(\"Country Name\", \"United States\")\n",
    "us_pop_0014 = united_states.filter_eq(\"Indicator Name\", \"Population ages 0-14 (% of total)\")\n",
    "us_pop_1564 = united_states.filter_eq(\"Indicator Name\", \"Population ages 15-64 (% of total)\")\n",
    "us_pop_6500 = united_states.filter_eq(\"Indicator Name\", \"Population ages 65 and above (% of total)\")"
   ]
  },
  {
   "cell_type": "markdown",
   "metadata": {},
   "source": [
    "We'll make a simple plot first, just to see the trends."
   ]
  },
  {
   "cell_type": "code",
   "execution_count": 32,
   "metadata": {},
   "outputs": [
    {
     "data": {
      "text/plain": [
       "<matplotlib.text.Text at 0x7fc1246726a0>"
      ]
     },
     "execution_count": 32,
     "metadata": {},
     "output_type": "execute_result"
    },
    {
     "data": {
      "image/png": "[encoded data removed]",
      "text/plain": [
       "<matplotlib.figure.Figure at 0x7fc134eb32b0>"
      ]
     },
     "metadata": {},
     "output_type": "display_data"
    }
   ],
   "source": [
    "plt.plot(years, us_pop_0014[\"values\"][0,:], label=\"0-14\")\n",
    "plt.plot(years, us_pop_1564[\"values\"][0,:], label=\"15-64\")\n",
    "plt.plot(years, us_pop_6500[\"values\"][0,:], label=\"65+\")\n",
    "plt.legend()\n",
    "plt.xlabel(\"Years\")\n",
    "plt.ylabel(\"Percentage\")"
   ]
  },
  {
   "cell_type": "markdown",
   "metadata": {},
   "source": [
    "Probably not a huge surprise, since the age range 15-64 is quite big.  Let's verify that these sum up to 100%."
   ]
  },
  {
   "cell_type": "code",
   "execution_count": 33,
   "metadata": {},
   "outputs": [
    {
     "data": {
      "text/plain": [
       "array([ 100.,  100.,  100.,  100.,  100.,  100.,  100.,  100.,  100.,\n",
       "        100.,  100.,  100.,  100.,  100.,  100.,  100.,  100.,  100.,\n",
       "        100.,  100.,  100.,  100.,  100.,  100.,  100.,  100.,  100.,\n",
       "        100.,  100.,  100.,  100.,  100.,  100.,  100.,  100.,  100.,\n",
       "        100.,  100.,  100.,  100.,  100.,  100.,  100.,  100.,  100.,\n",
       "        100.,  100.,  100.,  100.,  100.,  100.,  100.,  100.,  100.,\n",
       "        100.,  100.,   nan])"
      ]
     },
     "execution_count": 33,
     "metadata": {},
     "output_type": "execute_result"
    }
   ],
   "source": [
    "us_pop_0014[\"values\"][0,:] + us_pop_1564[\"values\"][0,:] + us_pop_6500[\"values\"][0,:]"
   ]
  },
  {
   "cell_type": "markdown",
   "metadata": {},
   "source": [
    "Yup, looks like.  Now we'll make a stackplot.  This is a plot where we're showing the area included in each, and putting one on top of the other.  This type of plot is useful for when you want to show the variation in composition over time of different quantities."
   ]
  },
  {
   "cell_type": "code",
   "execution_count": 34,
   "metadata": {},
   "outputs": [
    {
     "data": {
      "text/plain": [
       "(0, 100)"
      ]
     },
     "execution_count": 34,
     "metadata": {},
     "output_type": "execute_result"
    },
    {
     "data": {
      "image/png": "[encoded data removed]",
      "text/plain": [
       "<matplotlib.figure.Figure at 0x7fc124672240>"
      ]
     },
     "metadata": {},
     "output_type": "display_data"
    }
   ],
   "source": [
    "plt.stackplot(years,\n",
    "              us_pop_0014[\"values\"][0,:],\n",
    "              us_pop_1564[\"values\"][0,:],\n",
    "              us_pop_6500[\"values\"][0,:],\n",
    "             labels = [\"0-14\", \"15-64\", \"65+\"])\n",
    "plt.legend(loc=\"center left\")\n",
    "plt.xlabel(\"Years\")\n",
    "plt.ylabel(\"Percentage\")\n",
    "plt.xlim(1960, 2015)\n",
    "plt.ylim(0, 100)"
   ]
  },
  {
   "cell_type": "markdown",
   "metadata": {},
   "source": [
    "We can plot both the line plots and the stacked plots next to each other to get a more visual comparison between them."
   ]
  },
  {
   "cell_type": "code",
   "execution_count": 35,
   "metadata": {},
   "outputs": [
    {
     "data": {
      "text/plain": [
       "[<matplotlib.lines.Line2D at 0x7fc12359be10>]"
      ]
     },
     "execution_count": 35,
     "metadata": {},
     "output_type": "execute_result"
    },
    {
     "data": {
      "image/png": "[encoded data removed]",
      "text/plain": [
       "<matplotlib.figure.Figure at 0x7fc1241095f8>"
      ]
     },
     "metadata": {},
     "output_type": "display_data"
    }
   ],
   "source": [
    "baseline = us_pop_1564[\"values\"][0,:]\n",
    "plt.subplot(2,1,1)\n",
    "plt.stackplot(years,\n",
    "              us_pop_0014[\"values\"][0,:],\n",
    "              us_pop_1564[\"values\"][0,:],\n",
    "              us_pop_6500[\"values\"][0,:],\n",
    "             labels = [\"0-14\", \"15-64\", \"65+\"])\n",
    "plt.legend(loc=\"center left\")\n",
    "plt.xlabel(\"Years\")\n",
    "plt.ylabel(\"Percentage\")\n",
    "plt.xlim(1960, 2015)\n",
    "plt.ylim(0, 100)\n",
    "plt.subplot(2,1,2)\n",
    "plt.plot(years, us_pop_0014[\"values\"][0,:]/baseline)\n",
    "plt.plot(years, us_pop_1564[\"values\"][0,:]/baseline)\n",
    "plt.plot(years, us_pop_6500[\"values\"][0,:]/baseline)"
   ]
  },
  {
   "cell_type": "markdown",
   "metadata": {},
   "source": [
    "What about things that don't \"stack\" to a constant value, but a value varying over time?  We can also use a stack plot here, which shows the trendlines, but note that it's not always going to be as clearly demonstrative of the relative percentages.  While it shows composition, extracting from that the specific composition is not trivial."
   ]
  },
  {
   "cell_type": "code",
   "execution_count": 36,
   "metadata": {
    "collapsed": true
   },
   "outputs": [],
   "source": [
    "pop_urban = united_states.filter_eq(\"Indicator Name\", \"Population in urban agglomerations of more than 1 million\")\n",
    "pop_total = united_states.filter_eq(\"Indicator Name\", \"Population, total\")\n",
    "pop_urban = pop_urban[\"values\"][0,:]\n",
    "pop_total = pop_total[\"values\"][0,:]\n",
    "pop_non_urban = pop_total - pop_urban"
   ]
  },
  {
   "cell_type": "code",
   "execution_count": 37,
   "metadata": {},
   "outputs": [
    {
     "data": {
      "text/plain": [
       "<matplotlib.legend.Legend at 0x7fc134f48c88>"
      ]
     },
     "execution_count": 37,
     "metadata": {},
     "output_type": "execute_result"
    },
    {
     "data": {
      "image/png": "[encoded data removed]",
      "text/plain": [
       "<matplotlib.figure.Figure at 0x7fc123d04fd0>"
      ]
     },
     "metadata": {},
     "output_type": "display_data"
    }
   ],
   "source": [
    "plt.stackplot(years, pop_non_urban, pop_urban, labels=[\"Non-Urban\", \"Urban\"])\n",
    "plt.xlabel(\"Years\")\n",
    "plt.ylabel(\"People\")\n",
    "plt.legend()"
   ]
  }
 ],
 "metadata": {
  "kernelspec": {
   "display_name": "Python 3",
   "language": "python",
   "name": "python3"
  },
  "language_info": {
   "codemirror_mode": {
    "name": "ipython",
    "version": 3
   },
   "file_extension": ".py",
   "mimetype": "text/x-python",
   "name": "python",
   "nbconvert_exporter": "python",
   "pygments_lexer": "ipython3",
   "version": "3.6.5"
  },
  "widgets": {
   "state": {
    "0d498d21f57d48bfa91d77419839a53b": {
     "views": [
      {
       "cell_index": 50
      }
     ]
    },
    "b41dd22170f8499685480d24cc771566": {
     "views": [
      {
       "cell_index": 47
      }
     ]
    },
    "c36f55f7ddc8463ebaca4a35fd8eafe6": {
     "views": [
      {
       "cell_index": 41
      }
     ]
    }
   },
   "version": "1.2.0"
  }
 },
 "nbformat": 4,
 "nbformat_minor": 2
}
